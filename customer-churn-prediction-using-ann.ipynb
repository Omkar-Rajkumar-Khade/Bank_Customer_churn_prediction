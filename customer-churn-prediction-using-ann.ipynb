{
 "cells": [
  {
   "cell_type": "code",
   "execution_count": 1,
   "id": "7dcfbd93",
   "metadata": {
    "_cell_guid": "b1076dfc-b9ad-4769-8c92-a6c4dae69d19",
    "_uuid": "8f2839f25d086af736a60e9eeb907d3b93b6e0e5",
    "execution": {
     "iopub.execute_input": "2023-08-11T14:43:43.946592Z",
     "iopub.status.busy": "2023-08-11T14:43:43.945877Z",
     "iopub.status.idle": "2023-08-11T14:43:45.481952Z",
     "shell.execute_reply": "2023-08-11T14:43:45.480819Z"
    },
    "papermill": {
     "duration": 1.555291,
     "end_time": "2023-08-11T14:43:45.485194",
     "exception": false,
     "start_time": "2023-08-11T14:43:43.929903",
     "status": "completed"
    },
    "tags": []
   },
   "outputs": [
    {
     "name": "stdout",
     "output_type": "stream",
     "text": [
      "/kaggle/input/bank-customer-churn-dataset/Bank Customer Churn Prediction.csv\n"
     ]
    }
   ],
   "source": [
    "# This Python 3 environment comes with many helpful analytics libraries installed\n",
    "# It is defined by the kaggle/python Docker image: https://github.com/kaggle/docker-python\n",
    "# For example, here's several helpful packages to load\n",
    "\n",
    "import numpy as np # linear algebra\n",
    "import pandas as pd # data processing, CSV file I/O (e.g. pd.read_csv)\n",
    "import matplotlib.pyplot as plt\n",
    "import seaborn as sns\n",
    "\n",
    "# Input data files are available in the read-only \"../input/\" directory\n",
    "# For example, running this (by clicking run or pressing Shift+Enter) will list all files under the input directory\n",
    "\n",
    "import os\n",
    "for dirname, _, filenames in os.walk('/kaggle/input'):\n",
    "    for filename in filenames:\n",
    "        print(os.path.join(dirname, filename))\n",
    "\n",
    "# You can write up to 20GB to the current directory (/kaggle/working/) that gets preserved as output when you create a version using \"Save & Run All\" \n",
    "# You can also write temporary files to /kaggle/temp/, but they won't be saved outside of the current session"
   ]
  },
  {
   "cell_type": "markdown",
   "id": "de04e2ae",
   "metadata": {
    "papermill": {
     "duration": 0.01254,
     "end_time": "2023-08-11T14:43:45.511087",
     "exception": false,
     "start_time": "2023-08-11T14:43:45.498547",
     "status": "completed"
    },
    "tags": []
   },
   "source": [
    "## Explore the Data (EDA)"
   ]
  },
  {
   "cell_type": "code",
   "execution_count": 2,
   "id": "54ff2ffd",
   "metadata": {
    "execution": {
     "iopub.execute_input": "2023-08-11T14:43:45.540919Z",
     "iopub.status.busy": "2023-08-11T14:43:45.540180Z",
     "iopub.status.idle": "2023-08-11T14:43:45.585996Z",
     "shell.execute_reply": "2023-08-11T14:43:45.584895Z"
    },
    "papermill": {
     "duration": 0.063303,
     "end_time": "2023-08-11T14:43:45.588700",
     "exception": false,
     "start_time": "2023-08-11T14:43:45.525397",
     "status": "completed"
    },
    "tags": []
   },
   "outputs": [],
   "source": [
    "df=pd.read_csv('/kaggle/input/bank-customer-churn-dataset/Bank Customer Churn Prediction.csv')"
   ]
  },
  {
   "cell_type": "code",
   "execution_count": 3,
   "id": "63a5b726",
   "metadata": {
    "execution": {
     "iopub.execute_input": "2023-08-11T14:43:45.616707Z",
     "iopub.status.busy": "2023-08-11T14:43:45.616299Z",
     "iopub.status.idle": "2023-08-11T14:43:45.663822Z",
     "shell.execute_reply": "2023-08-11T14:43:45.662423Z"
    },
    "papermill": {
     "duration": 0.064589,
     "end_time": "2023-08-11T14:43:45.666275",
     "exception": false,
     "start_time": "2023-08-11T14:43:45.601686",
     "status": "completed"
    },
    "tags": []
   },
   "outputs": [
    {
     "data": {
      "text/html": [
       "<div>\n",
       "<style scoped>\n",
       "    .dataframe tbody tr th:only-of-type {\n",
       "        vertical-align: middle;\n",
       "    }\n",
       "\n",
       "    .dataframe tbody tr th {\n",
       "        vertical-align: top;\n",
       "    }\n",
       "\n",
       "    .dataframe thead th {\n",
       "        text-align: right;\n",
       "    }\n",
       "</style>\n",
       "<table border=\"1\" class=\"dataframe\">\n",
       "  <thead>\n",
       "    <tr style=\"text-align: right;\">\n",
       "      <th></th>\n",
       "      <th>customer_id</th>\n",
       "      <th>credit_score</th>\n",
       "      <th>country</th>\n",
       "      <th>gender</th>\n",
       "      <th>age</th>\n",
       "      <th>tenure</th>\n",
       "      <th>balance</th>\n",
       "      <th>products_number</th>\n",
       "      <th>credit_card</th>\n",
       "      <th>active_member</th>\n",
       "      <th>estimated_salary</th>\n",
       "      <th>churn</th>\n",
       "    </tr>\n",
       "  </thead>\n",
       "  <tbody>\n",
       "    <tr>\n",
       "      <th>0</th>\n",
       "      <td>15634602</td>\n",
       "      <td>619</td>\n",
       "      <td>France</td>\n",
       "      <td>Female</td>\n",
       "      <td>42</td>\n",
       "      <td>2</td>\n",
       "      <td>0.00</td>\n",
       "      <td>1</td>\n",
       "      <td>1</td>\n",
       "      <td>1</td>\n",
       "      <td>101348.88</td>\n",
       "      <td>1</td>\n",
       "    </tr>\n",
       "    <tr>\n",
       "      <th>1</th>\n",
       "      <td>15647311</td>\n",
       "      <td>608</td>\n",
       "      <td>Spain</td>\n",
       "      <td>Female</td>\n",
       "      <td>41</td>\n",
       "      <td>1</td>\n",
       "      <td>83807.86</td>\n",
       "      <td>1</td>\n",
       "      <td>0</td>\n",
       "      <td>1</td>\n",
       "      <td>112542.58</td>\n",
       "      <td>0</td>\n",
       "    </tr>\n",
       "    <tr>\n",
       "      <th>2</th>\n",
       "      <td>15619304</td>\n",
       "      <td>502</td>\n",
       "      <td>France</td>\n",
       "      <td>Female</td>\n",
       "      <td>42</td>\n",
       "      <td>8</td>\n",
       "      <td>159660.80</td>\n",
       "      <td>3</td>\n",
       "      <td>1</td>\n",
       "      <td>0</td>\n",
       "      <td>113931.57</td>\n",
       "      <td>1</td>\n",
       "    </tr>\n",
       "    <tr>\n",
       "      <th>3</th>\n",
       "      <td>15701354</td>\n",
       "      <td>699</td>\n",
       "      <td>France</td>\n",
       "      <td>Female</td>\n",
       "      <td>39</td>\n",
       "      <td>1</td>\n",
       "      <td>0.00</td>\n",
       "      <td>2</td>\n",
       "      <td>0</td>\n",
       "      <td>0</td>\n",
       "      <td>93826.63</td>\n",
       "      <td>0</td>\n",
       "    </tr>\n",
       "    <tr>\n",
       "      <th>4</th>\n",
       "      <td>15737888</td>\n",
       "      <td>850</td>\n",
       "      <td>Spain</td>\n",
       "      <td>Female</td>\n",
       "      <td>43</td>\n",
       "      <td>2</td>\n",
       "      <td>125510.82</td>\n",
       "      <td>1</td>\n",
       "      <td>1</td>\n",
       "      <td>1</td>\n",
       "      <td>79084.10</td>\n",
       "      <td>0</td>\n",
       "    </tr>\n",
       "    <tr>\n",
       "      <th>...</th>\n",
       "      <td>...</td>\n",
       "      <td>...</td>\n",
       "      <td>...</td>\n",
       "      <td>...</td>\n",
       "      <td>...</td>\n",
       "      <td>...</td>\n",
       "      <td>...</td>\n",
       "      <td>...</td>\n",
       "      <td>...</td>\n",
       "      <td>...</td>\n",
       "      <td>...</td>\n",
       "      <td>...</td>\n",
       "    </tr>\n",
       "    <tr>\n",
       "      <th>9995</th>\n",
       "      <td>15606229</td>\n",
       "      <td>771</td>\n",
       "      <td>France</td>\n",
       "      <td>Male</td>\n",
       "      <td>39</td>\n",
       "      <td>5</td>\n",
       "      <td>0.00</td>\n",
       "      <td>2</td>\n",
       "      <td>1</td>\n",
       "      <td>0</td>\n",
       "      <td>96270.64</td>\n",
       "      <td>0</td>\n",
       "    </tr>\n",
       "    <tr>\n",
       "      <th>9996</th>\n",
       "      <td>15569892</td>\n",
       "      <td>516</td>\n",
       "      <td>France</td>\n",
       "      <td>Male</td>\n",
       "      <td>35</td>\n",
       "      <td>10</td>\n",
       "      <td>57369.61</td>\n",
       "      <td>1</td>\n",
       "      <td>1</td>\n",
       "      <td>1</td>\n",
       "      <td>101699.77</td>\n",
       "      <td>0</td>\n",
       "    </tr>\n",
       "    <tr>\n",
       "      <th>9997</th>\n",
       "      <td>15584532</td>\n",
       "      <td>709</td>\n",
       "      <td>France</td>\n",
       "      <td>Female</td>\n",
       "      <td>36</td>\n",
       "      <td>7</td>\n",
       "      <td>0.00</td>\n",
       "      <td>1</td>\n",
       "      <td>0</td>\n",
       "      <td>1</td>\n",
       "      <td>42085.58</td>\n",
       "      <td>1</td>\n",
       "    </tr>\n",
       "    <tr>\n",
       "      <th>9998</th>\n",
       "      <td>15682355</td>\n",
       "      <td>772</td>\n",
       "      <td>Germany</td>\n",
       "      <td>Male</td>\n",
       "      <td>42</td>\n",
       "      <td>3</td>\n",
       "      <td>75075.31</td>\n",
       "      <td>2</td>\n",
       "      <td>1</td>\n",
       "      <td>0</td>\n",
       "      <td>92888.52</td>\n",
       "      <td>1</td>\n",
       "    </tr>\n",
       "    <tr>\n",
       "      <th>9999</th>\n",
       "      <td>15628319</td>\n",
       "      <td>792</td>\n",
       "      <td>France</td>\n",
       "      <td>Female</td>\n",
       "      <td>28</td>\n",
       "      <td>4</td>\n",
       "      <td>130142.79</td>\n",
       "      <td>1</td>\n",
       "      <td>1</td>\n",
       "      <td>0</td>\n",
       "      <td>38190.78</td>\n",
       "      <td>0</td>\n",
       "    </tr>\n",
       "  </tbody>\n",
       "</table>\n",
       "<p>10000 rows × 12 columns</p>\n",
       "</div>"
      ],
      "text/plain": [
       "      customer_id  credit_score  country  gender  age  tenure    balance  \\\n",
       "0        15634602           619   France  Female   42       2       0.00   \n",
       "1        15647311           608    Spain  Female   41       1   83807.86   \n",
       "2        15619304           502   France  Female   42       8  159660.80   \n",
       "3        15701354           699   France  Female   39       1       0.00   \n",
       "4        15737888           850    Spain  Female   43       2  125510.82   \n",
       "...           ...           ...      ...     ...  ...     ...        ...   \n",
       "9995     15606229           771   France    Male   39       5       0.00   \n",
       "9996     15569892           516   France    Male   35      10   57369.61   \n",
       "9997     15584532           709   France  Female   36       7       0.00   \n",
       "9998     15682355           772  Germany    Male   42       3   75075.31   \n",
       "9999     15628319           792   France  Female   28       4  130142.79   \n",
       "\n",
       "      products_number  credit_card  active_member  estimated_salary  churn  \n",
       "0                   1            1              1         101348.88      1  \n",
       "1                   1            0              1         112542.58      0  \n",
       "2                   3            1              0         113931.57      1  \n",
       "3                   2            0              0          93826.63      0  \n",
       "4                   1            1              1          79084.10      0  \n",
       "...               ...          ...            ...               ...    ...  \n",
       "9995                2            1              0          96270.64      0  \n",
       "9996                1            1              1         101699.77      0  \n",
       "9997                1            0              1          42085.58      1  \n",
       "9998                2            1              0          92888.52      1  \n",
       "9999                1            1              0          38190.78      0  \n",
       "\n",
       "[10000 rows x 12 columns]"
      ]
     },
     "execution_count": 3,
     "metadata": {},
     "output_type": "execute_result"
    }
   ],
   "source": [
    "df"
   ]
  },
  {
   "cell_type": "code",
   "execution_count": 4,
   "id": "8111bffe",
   "metadata": {
    "execution": {
     "iopub.execute_input": "2023-08-11T14:43:45.695092Z",
     "iopub.status.busy": "2023-08-11T14:43:45.694676Z",
     "iopub.status.idle": "2023-08-11T14:43:45.704142Z",
     "shell.execute_reply": "2023-08-11T14:43:45.702950Z"
    },
    "papermill": {
     "duration": 0.026909,
     "end_time": "2023-08-11T14:43:45.706569",
     "exception": false,
     "start_time": "2023-08-11T14:43:45.679660",
     "status": "completed"
    },
    "tags": []
   },
   "outputs": [],
   "source": [
    "df.drop(columns=['customer_id'],inplace=True)"
   ]
  },
  {
   "cell_type": "code",
   "execution_count": 5,
   "id": "8b764dde",
   "metadata": {
    "execution": {
     "iopub.execute_input": "2023-08-11T14:43:45.735384Z",
     "iopub.status.busy": "2023-08-11T14:43:45.735005Z",
     "iopub.status.idle": "2023-08-11T14:43:45.761602Z",
     "shell.execute_reply": "2023-08-11T14:43:45.760629Z"
    },
    "papermill": {
     "duration": 0.044008,
     "end_time": "2023-08-11T14:43:45.764132",
     "exception": false,
     "start_time": "2023-08-11T14:43:45.720124",
     "status": "completed"
    },
    "tags": []
   },
   "outputs": [
    {
     "name": "stdout",
     "output_type": "stream",
     "text": [
      "<class 'pandas.core.frame.DataFrame'>\n",
      "RangeIndex: 10000 entries, 0 to 9999\n",
      "Data columns (total 11 columns):\n",
      " #   Column            Non-Null Count  Dtype  \n",
      "---  ------            --------------  -----  \n",
      " 0   credit_score      10000 non-null  int64  \n",
      " 1   country           10000 non-null  object \n",
      " 2   gender            10000 non-null  object \n",
      " 3   age               10000 non-null  int64  \n",
      " 4   tenure            10000 non-null  int64  \n",
      " 5   balance           10000 non-null  float64\n",
      " 6   products_number   10000 non-null  int64  \n",
      " 7   credit_card       10000 non-null  int64  \n",
      " 8   active_member     10000 non-null  int64  \n",
      " 9   estimated_salary  10000 non-null  float64\n",
      " 10  churn             10000 non-null  int64  \n",
      "dtypes: float64(2), int64(7), object(2)\n",
      "memory usage: 859.5+ KB\n",
      "None\n"
     ]
    }
   ],
   "source": [
    "# Display basic information about the DataFrame\n",
    "print(df.info())"
   ]
  },
  {
   "cell_type": "code",
   "execution_count": 6,
   "id": "3e5f21fe",
   "metadata": {
    "execution": {
     "iopub.execute_input": "2023-08-11T14:43:45.793005Z",
     "iopub.status.busy": "2023-08-11T14:43:45.792612Z",
     "iopub.status.idle": "2023-08-11T14:43:45.831795Z",
     "shell.execute_reply": "2023-08-11T14:43:45.830564Z"
    },
    "papermill": {
     "duration": 0.056804,
     "end_time": "2023-08-11T14:43:45.834452",
     "exception": false,
     "start_time": "2023-08-11T14:43:45.777648",
     "status": "completed"
    },
    "tags": []
   },
   "outputs": [
    {
     "name": "stdout",
     "output_type": "stream",
     "text": [
      "       credit_score           age        tenure        balance  \\\n",
      "count  10000.000000  10000.000000  10000.000000   10000.000000   \n",
      "mean     650.528800     38.921800      5.012800   76485.889288   \n",
      "std       96.653299     10.487806      2.892174   62397.405202   \n",
      "min      350.000000     18.000000      0.000000       0.000000   \n",
      "25%      584.000000     32.000000      3.000000       0.000000   \n",
      "50%      652.000000     37.000000      5.000000   97198.540000   \n",
      "75%      718.000000     44.000000      7.000000  127644.240000   \n",
      "max      850.000000     92.000000     10.000000  250898.090000   \n",
      "\n",
      "       products_number  credit_card  active_member  estimated_salary  \\\n",
      "count     10000.000000  10000.00000   10000.000000      10000.000000   \n",
      "mean          1.530200      0.70550       0.515100     100090.239881   \n",
      "std           0.581654      0.45584       0.499797      57510.492818   \n",
      "min           1.000000      0.00000       0.000000         11.580000   \n",
      "25%           1.000000      0.00000       0.000000      51002.110000   \n",
      "50%           1.000000      1.00000       1.000000     100193.915000   \n",
      "75%           2.000000      1.00000       1.000000     149388.247500   \n",
      "max           4.000000      1.00000       1.000000     199992.480000   \n",
      "\n",
      "              churn  \n",
      "count  10000.000000  \n",
      "mean       0.203700  \n",
      "std        0.402769  \n",
      "min        0.000000  \n",
      "25%        0.000000  \n",
      "50%        0.000000  \n",
      "75%        0.000000  \n",
      "max        1.000000  \n"
     ]
    }
   ],
   "source": [
    "# Display summary statistics of numerical columns\n",
    "print(df.describe())"
   ]
  },
  {
   "cell_type": "code",
   "execution_count": 7,
   "id": "ba222298",
   "metadata": {
    "execution": {
     "iopub.execute_input": "2023-08-11T14:43:45.863963Z",
     "iopub.status.busy": "2023-08-11T14:43:45.863587Z",
     "iopub.status.idle": "2023-08-11T14:43:45.877976Z",
     "shell.execute_reply": "2023-08-11T14:43:45.876551Z"
    },
    "papermill": {
     "duration": 0.031992,
     "end_time": "2023-08-11T14:43:45.880223",
     "exception": false,
     "start_time": "2023-08-11T14:43:45.848231",
     "status": "completed"
    },
    "tags": []
   },
   "outputs": [
    {
     "name": "stdout",
     "output_type": "stream",
     "text": [
      "credit_score        0\n",
      "country             0\n",
      "gender              0\n",
      "age                 0\n",
      "tenure              0\n",
      "balance             0\n",
      "products_number     0\n",
      "credit_card         0\n",
      "active_member       0\n",
      "estimated_salary    0\n",
      "churn               0\n",
      "dtype: int64\n"
     ]
    }
   ],
   "source": [
    "# Count the number of missing values in each column\n",
    "print(df.isnull().sum())"
   ]
  },
  {
   "cell_type": "code",
   "execution_count": 8,
   "id": "bb82b914",
   "metadata": {
    "execution": {
     "iopub.execute_input": "2023-08-11T14:43:45.910109Z",
     "iopub.status.busy": "2023-08-11T14:43:45.909678Z",
     "iopub.status.idle": "2023-08-11T14:43:45.925444Z",
     "shell.execute_reply": "2023-08-11T14:43:45.924626Z"
    },
    "papermill": {
     "duration": 0.033688,
     "end_time": "2023-08-11T14:43:45.927671",
     "exception": false,
     "start_time": "2023-08-11T14:43:45.893983",
     "status": "completed"
    },
    "tags": []
   },
   "outputs": [
    {
     "data": {
      "text/plain": [
       "0"
      ]
     },
     "execution_count": 8,
     "metadata": {},
     "output_type": "execute_result"
    }
   ],
   "source": [
    "# Count the number of duplicated values \n",
    "df.duplicated().sum()"
   ]
  },
  {
   "cell_type": "code",
   "execution_count": 9,
   "id": "bd403192",
   "metadata": {
    "execution": {
     "iopub.execute_input": "2023-08-11T14:43:45.957175Z",
     "iopub.status.busy": "2023-08-11T14:43:45.956746Z",
     "iopub.status.idle": "2023-08-11T14:43:46.653552Z",
     "shell.execute_reply": "2023-08-11T14:43:46.652295Z"
    },
    "papermill": {
     "duration": 0.716213,
     "end_time": "2023-08-11T14:43:46.657738",
     "exception": false,
     "start_time": "2023-08-11T14:43:45.941525",
     "status": "completed"
    },
    "tags": []
   },
   "outputs": [
    {
     "name": "stderr",
     "output_type": "stream",
     "text": [
      "/tmp/ipykernel_20/141441602.py:2: FutureWarning: The default value of numeric_only in DataFrame.corr is deprecated. In a future version, it will default to False. Select only valid columns or specify the value of numeric_only to silence this warning.\n",
      "  corr_matrix = df.corr()\n"
     ]
    },
    {
     "data": {
      "image/png": "[encoded data removed]",
      "text/plain": [
       "<Figure size 1200x800 with 2 Axes>"
      ]
     },
     "metadata": {},
     "output_type": "display_data"
    }
   ],
   "source": [
    "# Visualize the correlation matrix using a heatmap\n",
    "corr_matrix = df.corr()\n",
    "plt.figure(figsize=(12, 8))\n",
    "sns.heatmap(corr_matrix, annot=True, cmap='coolwarm', linewidths=0.5)\n",
    "plt.title('Correlation Matrix')\n",
    "plt.show()"
   ]
  },
  {
   "cell_type": "code",
   "execution_count": 10,
   "id": "c8f5eaa8",
   "metadata": {
    "execution": {
     "iopub.execute_input": "2023-08-11T14:43:46.693291Z",
     "iopub.status.busy": "2023-08-11T14:43:46.692388Z",
     "iopub.status.idle": "2023-08-11T14:43:48.301608Z",
     "shell.execute_reply": "2023-08-11T14:43:48.300466Z"
    },
    "papermill": {
     "duration": 1.631592,
     "end_time": "2023-08-11T14:43:48.305321",
     "exception": false,
     "start_time": "2023-08-11T14:43:46.673729",
     "status": "completed"
    },
    "tags": []
   },
   "outputs": [
    {
     "data": {
      "image/png": "[encoded data removed]",
      "text/plain": [
       "<Figure size 1200x800 with 6 Axes>"
      ]
     },
     "metadata": {},
     "output_type": "display_data"
    }
   ],
   "source": [
    "# Visualize the distribution of numeric features\n",
    "numeric_features = ['credit_score', 'age', 'tenure', 'balance', 'products_number', 'estimated_salary']\n",
    "df[numeric_features].hist(bins=30, figsize=(12, 8))\n",
    "plt.show()"
   ]
  },
  {
   "cell_type": "code",
   "execution_count": 11,
   "id": "cd023294",
   "metadata": {
    "execution": {
     "iopub.execute_input": "2023-08-11T14:43:48.345932Z",
     "iopub.status.busy": "2023-08-11T14:43:48.345481Z",
     "iopub.status.idle": "2023-08-11T14:43:49.572099Z",
     "shell.execute_reply": "2023-08-11T14:43:49.571096Z"
    },
    "papermill": {
     "duration": 1.247895,
     "end_time": "2023-08-11T14:43:49.574741",
     "exception": false,
     "start_time": "2023-08-11T14:43:48.326846",
     "status": "completed"
    },
    "tags": []
   },
   "outputs": [
    {
     "data": {
      "image/png": "[encoded data removed]",
      "text/plain": [
       "<Figure size 640x480 with 1 Axes>"
      ]
     },
     "metadata": {},
     "output_type": "display_data"
    },
    {
     "data": {
      "image/png": "[encoded data removed]",
      "text/plain": [
       "<Figure size 640x480 with 1 Axes>"
      ]
     },
     "metadata": {},
     "output_type": "display_data"
    },
    {
     "data": {
      "image/png": "[encoded data removed]",
      "text/plain": [
       "<Figure size 640x480 with 1 Axes>"
      ]
     },
     "metadata": {},
     "output_type": "display_data"
    },
    {
     "data": {
      "image/png": "[encoded data removed]",
      "text/plain": [
       "<Figure size 640x480 with 1 Axes>"
      ]
     },
     "metadata": {},
     "output_type": "display_data"
    },
    {
     "data": {
      "image/png": "[encoded data removed]",
      "text/plain": [
       "<Figure size 640x480 with 1 Axes>"
      ]
     },
     "metadata": {},
     "output_type": "display_data"
    }
   ],
   "source": [
    "# Visualize the distribution of categorical features\n",
    "categorical_features = ['country', 'gender', 'credit_card', 'active_member', 'churn']\n",
    "for feature in categorical_features:\n",
    "    sns.countplot(x=feature, data=df)\n",
    "    plt.show()"
   ]
  },
  {
   "cell_type": "code",
   "execution_count": 12,
   "id": "12f55d6c",
   "metadata": {
    "execution": {
     "iopub.execute_input": "2023-08-11T14:43:49.613936Z",
     "iopub.status.busy": "2023-08-11T14:43:49.613536Z",
     "iopub.status.idle": "2023-08-11T14:43:49.622255Z",
     "shell.execute_reply": "2023-08-11T14:43:49.621173Z"
    },
    "papermill": {
     "duration": 0.031506,
     "end_time": "2023-08-11T14:43:49.624773",
     "exception": false,
     "start_time": "2023-08-11T14:43:49.593267",
     "status": "completed"
    },
    "tags": []
   },
   "outputs": [
    {
     "data": {
      "text/plain": [
       "0    7963\n",
       "1    2037\n",
       "Name: churn, dtype: int64"
      ]
     },
     "execution_count": 12,
     "metadata": {},
     "output_type": "execute_result"
    }
   ],
   "source": [
    "df['churn'].value_counts()"
   ]
  },
  {
   "cell_type": "code",
   "execution_count": null,
   "id": "ca4e6e43",
   "metadata": {
    "papermill": {
     "duration": 0.017924,
     "end_time": "2023-08-11T14:43:49.661041",
     "exception": false,
     "start_time": "2023-08-11T14:43:49.643117",
     "status": "completed"
    },
    "tags": []
   },
   "outputs": [],
   "source": []
  },
  {
   "cell_type": "markdown",
   "id": "a4669f2d",
   "metadata": {
    "papermill": {
     "duration": 0.017845,
     "end_time": "2023-08-11T14:43:49.697363",
     "exception": false,
     "start_time": "2023-08-11T14:43:49.679518",
     "status": "completed"
    },
    "tags": []
   },
   "source": [
    "## Data Preprocessing "
   ]
  },
  {
   "cell_type": "code",
   "execution_count": 13,
   "id": "3aeb3ddc",
   "metadata": {
    "execution": {
     "iopub.execute_input": "2023-08-11T14:43:49.736079Z",
     "iopub.status.busy": "2023-08-11T14:43:49.735324Z",
     "iopub.status.idle": "2023-08-11T14:43:49.765941Z",
     "shell.execute_reply": "2023-08-11T14:43:49.764806Z"
    },
    "papermill": {
     "duration": 0.052612,
     "end_time": "2023-08-11T14:43:49.768487",
     "exception": false,
     "start_time": "2023-08-11T14:43:49.715875",
     "status": "completed"
    },
    "tags": []
   },
   "outputs": [
    {
     "data": {
      "text/html": [
       "<div>\n",
       "<style scoped>\n",
       "    .dataframe tbody tr th:only-of-type {\n",
       "        vertical-align: middle;\n",
       "    }\n",
       "\n",
       "    .dataframe tbody tr th {\n",
       "        vertical-align: top;\n",
       "    }\n",
       "\n",
       "    .dataframe thead th {\n",
       "        text-align: right;\n",
       "    }\n",
       "</style>\n",
       "<table border=\"1\" class=\"dataframe\">\n",
       "  <thead>\n",
       "    <tr style=\"text-align: right;\">\n",
       "      <th></th>\n",
       "      <th>credit_score</th>\n",
       "      <th>age</th>\n",
       "      <th>tenure</th>\n",
       "      <th>balance</th>\n",
       "      <th>products_number</th>\n",
       "      <th>credit_card</th>\n",
       "      <th>active_member</th>\n",
       "      <th>estimated_salary</th>\n",
       "      <th>churn</th>\n",
       "      <th>country_Germany</th>\n",
       "      <th>country_Spain</th>\n",
       "      <th>gender_Male</th>\n",
       "    </tr>\n",
       "  </thead>\n",
       "  <tbody>\n",
       "    <tr>\n",
       "      <th>0</th>\n",
       "      <td>619</td>\n",
       "      <td>42</td>\n",
       "      <td>2</td>\n",
       "      <td>0.00</td>\n",
       "      <td>1</td>\n",
       "      <td>1</td>\n",
       "      <td>1</td>\n",
       "      <td>101348.88</td>\n",
       "      <td>1</td>\n",
       "      <td>0</td>\n",
       "      <td>0</td>\n",
       "      <td>0</td>\n",
       "    </tr>\n",
       "    <tr>\n",
       "      <th>1</th>\n",
       "      <td>608</td>\n",
       "      <td>41</td>\n",
       "      <td>1</td>\n",
       "      <td>83807.86</td>\n",
       "      <td>1</td>\n",
       "      <td>0</td>\n",
       "      <td>1</td>\n",
       "      <td>112542.58</td>\n",
       "      <td>0</td>\n",
       "      <td>0</td>\n",
       "      <td>1</td>\n",
       "      <td>0</td>\n",
       "    </tr>\n",
       "    <tr>\n",
       "      <th>2</th>\n",
       "      <td>502</td>\n",
       "      <td>42</td>\n",
       "      <td>8</td>\n",
       "      <td>159660.80</td>\n",
       "      <td>3</td>\n",
       "      <td>1</td>\n",
       "      <td>0</td>\n",
       "      <td>113931.57</td>\n",
       "      <td>1</td>\n",
       "      <td>0</td>\n",
       "      <td>0</td>\n",
       "      <td>0</td>\n",
       "    </tr>\n",
       "    <tr>\n",
       "      <th>3</th>\n",
       "      <td>699</td>\n",
       "      <td>39</td>\n",
       "      <td>1</td>\n",
       "      <td>0.00</td>\n",
       "      <td>2</td>\n",
       "      <td>0</td>\n",
       "      <td>0</td>\n",
       "      <td>93826.63</td>\n",
       "      <td>0</td>\n",
       "      <td>0</td>\n",
       "      <td>0</td>\n",
       "      <td>0</td>\n",
       "    </tr>\n",
       "    <tr>\n",
       "      <th>4</th>\n",
       "      <td>850</td>\n",
       "      <td>43</td>\n",
       "      <td>2</td>\n",
       "      <td>125510.82</td>\n",
       "      <td>1</td>\n",
       "      <td>1</td>\n",
       "      <td>1</td>\n",
       "      <td>79084.10</td>\n",
       "      <td>0</td>\n",
       "      <td>0</td>\n",
       "      <td>1</td>\n",
       "      <td>0</td>\n",
       "    </tr>\n",
       "    <tr>\n",
       "      <th>...</th>\n",
       "      <td>...</td>\n",
       "      <td>...</td>\n",
       "      <td>...</td>\n",
       "      <td>...</td>\n",
       "      <td>...</td>\n",
       "      <td>...</td>\n",
       "      <td>...</td>\n",
       "      <td>...</td>\n",
       "      <td>...</td>\n",
       "      <td>...</td>\n",
       "      <td>...</td>\n",
       "      <td>...</td>\n",
       "    </tr>\n",
       "    <tr>\n",
       "      <th>9995</th>\n",
       "      <td>771</td>\n",
       "      <td>39</td>\n",
       "      <td>5</td>\n",
       "      <td>0.00</td>\n",
       "      <td>2</td>\n",
       "      <td>1</td>\n",
       "      <td>0</td>\n",
       "      <td>96270.64</td>\n",
       "      <td>0</td>\n",
       "      <td>0</td>\n",
       "      <td>0</td>\n",
       "      <td>1</td>\n",
       "    </tr>\n",
       "    <tr>\n",
       "      <th>9996</th>\n",
       "      <td>516</td>\n",
       "      <td>35</td>\n",
       "      <td>10</td>\n",
       "      <td>57369.61</td>\n",
       "      <td>1</td>\n",
       "      <td>1</td>\n",
       "      <td>1</td>\n",
       "      <td>101699.77</td>\n",
       "      <td>0</td>\n",
       "      <td>0</td>\n",
       "      <td>0</td>\n",
       "      <td>1</td>\n",
       "    </tr>\n",
       "    <tr>\n",
       "      <th>9997</th>\n",
       "      <td>709</td>\n",
       "      <td>36</td>\n",
       "      <td>7</td>\n",
       "      <td>0.00</td>\n",
       "      <td>1</td>\n",
       "      <td>0</td>\n",
       "      <td>1</td>\n",
       "      <td>42085.58</td>\n",
       "      <td>1</td>\n",
       "      <td>0</td>\n",
       "      <td>0</td>\n",
       "      <td>0</td>\n",
       "    </tr>\n",
       "    <tr>\n",
       "      <th>9998</th>\n",
       "      <td>772</td>\n",
       "      <td>42</td>\n",
       "      <td>3</td>\n",
       "      <td>75075.31</td>\n",
       "      <td>2</td>\n",
       "      <td>1</td>\n",
       "      <td>0</td>\n",
       "      <td>92888.52</td>\n",
       "      <td>1</td>\n",
       "      <td>1</td>\n",
       "      <td>0</td>\n",
       "      <td>1</td>\n",
       "    </tr>\n",
       "    <tr>\n",
       "      <th>9999</th>\n",
       "      <td>792</td>\n",
       "      <td>28</td>\n",
       "      <td>4</td>\n",
       "      <td>130142.79</td>\n",
       "      <td>1</td>\n",
       "      <td>1</td>\n",
       "      <td>0</td>\n",
       "      <td>38190.78</td>\n",
       "      <td>0</td>\n",
       "      <td>0</td>\n",
       "      <td>0</td>\n",
       "      <td>0</td>\n",
       "    </tr>\n",
       "  </tbody>\n",
       "</table>\n",
       "<p>10000 rows × 12 columns</p>\n",
       "</div>"
      ],
      "text/plain": [
       "      credit_score  age  tenure    balance  products_number  credit_card  \\\n",
       "0              619   42       2       0.00                1            1   \n",
       "1              608   41       1   83807.86                1            0   \n",
       "2              502   42       8  159660.80                3            1   \n",
       "3              699   39       1       0.00                2            0   \n",
       "4              850   43       2  125510.82                1            1   \n",
       "...            ...  ...     ...        ...              ...          ...   \n",
       "9995           771   39       5       0.00                2            1   \n",
       "9996           516   35      10   57369.61                1            1   \n",
       "9997           709   36       7       0.00                1            0   \n",
       "9998           772   42       3   75075.31                2            1   \n",
       "9999           792   28       4  130142.79                1            1   \n",
       "\n",
       "      active_member  estimated_salary  churn  country_Germany  country_Spain  \\\n",
       "0                 1         101348.88      1                0              0   \n",
       "1                 1         112542.58      0                0              1   \n",
       "2                 0         113931.57      1                0              0   \n",
       "3                 0          93826.63      0                0              0   \n",
       "4                 1          79084.10      0                0              1   \n",
       "...             ...               ...    ...              ...            ...   \n",
       "9995              0          96270.64      0                0              0   \n",
       "9996              1         101699.77      0                0              0   \n",
       "9997              1          42085.58      1                0              0   \n",
       "9998              0          92888.52      1                1              0   \n",
       "9999              0          38190.78      0                0              0   \n",
       "\n",
       "      gender_Male  \n",
       "0               0  \n",
       "1               0  \n",
       "2               0  \n",
       "3               0  \n",
       "4               0  \n",
       "...           ...  \n",
       "9995            1  \n",
       "9996            1  \n",
       "9997            0  \n",
       "9998            1  \n",
       "9999            0  \n",
       "\n",
       "[10000 rows x 12 columns]"
      ]
     },
     "execution_count": 13,
     "metadata": {},
     "output_type": "execute_result"
    }
   ],
   "source": [
    "#encoding categorical features\n",
    "df=pd.get_dummies(df,columns=['country','gender'],drop_first=True)\n",
    "df"
   ]
  },
  {
   "cell_type": "code",
   "execution_count": 14,
   "id": "b5170c03",
   "metadata": {
    "execution": {
     "iopub.execute_input": "2023-08-11T14:43:49.807797Z",
     "iopub.status.busy": "2023-08-11T14:43:49.807383Z",
     "iopub.status.idle": "2023-08-11T14:43:50.086974Z",
     "shell.execute_reply": "2023-08-11T14:43:50.086104Z"
    },
    "papermill": {
     "duration": 0.302438,
     "end_time": "2023-08-11T14:43:50.089605",
     "exception": false,
     "start_time": "2023-08-11T14:43:49.787167",
     "status": "completed"
    },
    "tags": []
   },
   "outputs": [],
   "source": [
    "#Data Split\n",
    "X=df.drop(columns=[\"churn\"])\n",
    "y=df['churn']\n",
    "from sklearn.model_selection import train_test_split\n",
    "X_train,X_test,y_train,y_test=train_test_split(X,y,test_size=0.2)"
   ]
  },
  {
   "cell_type": "code",
   "execution_count": 15,
   "id": "bf39cc90",
   "metadata": {
    "execution": {
     "iopub.execute_input": "2023-08-11T14:43:50.130408Z",
     "iopub.status.busy": "2023-08-11T14:43:50.129675Z",
     "iopub.status.idle": "2023-08-11T14:43:50.150781Z",
     "shell.execute_reply": "2023-08-11T14:43:50.149615Z"
    },
    "papermill": {
     "duration": 0.044504,
     "end_time": "2023-08-11T14:43:50.153187",
     "exception": false,
     "start_time": "2023-08-11T14:43:50.108683",
     "status": "completed"
    },
    "tags": []
   },
   "outputs": [
    {
     "data": {
      "text/html": [
       "<div>\n",
       "<style scoped>\n",
       "    .dataframe tbody tr th:only-of-type {\n",
       "        vertical-align: middle;\n",
       "    }\n",
       "\n",
       "    .dataframe tbody tr th {\n",
       "        vertical-align: top;\n",
       "    }\n",
       "\n",
       "    .dataframe thead th {\n",
       "        text-align: right;\n",
       "    }\n",
       "</style>\n",
       "<table border=\"1\" class=\"dataframe\">\n",
       "  <thead>\n",
       "    <tr style=\"text-align: right;\">\n",
       "      <th></th>\n",
       "      <th>credit_score</th>\n",
       "      <th>age</th>\n",
       "      <th>tenure</th>\n",
       "      <th>balance</th>\n",
       "      <th>products_number</th>\n",
       "      <th>credit_card</th>\n",
       "      <th>active_member</th>\n",
       "      <th>estimated_salary</th>\n",
       "      <th>country_Germany</th>\n",
       "      <th>country_Spain</th>\n",
       "      <th>gender_Male</th>\n",
       "    </tr>\n",
       "  </thead>\n",
       "  <tbody>\n",
       "    <tr>\n",
       "      <th>9382</th>\n",
       "      <td>645</td>\n",
       "      <td>38</td>\n",
       "      <td>7</td>\n",
       "      <td>59568.57</td>\n",
       "      <td>1</td>\n",
       "      <td>1</td>\n",
       "      <td>1</td>\n",
       "      <td>167723.25</td>\n",
       "      <td>0</td>\n",
       "      <td>0</td>\n",
       "      <td>0</td>\n",
       "    </tr>\n",
       "    <tr>\n",
       "      <th>8772</th>\n",
       "      <td>768</td>\n",
       "      <td>30</td>\n",
       "      <td>6</td>\n",
       "      <td>0.00</td>\n",
       "      <td>2</td>\n",
       "      <td>1</td>\n",
       "      <td>1</td>\n",
       "      <td>199454.37</td>\n",
       "      <td>0</td>\n",
       "      <td>0</td>\n",
       "      <td>1</td>\n",
       "    </tr>\n",
       "    <tr>\n",
       "      <th>3609</th>\n",
       "      <td>850</td>\n",
       "      <td>40</td>\n",
       "      <td>6</td>\n",
       "      <td>94607.08</td>\n",
       "      <td>1</td>\n",
       "      <td>1</td>\n",
       "      <td>0</td>\n",
       "      <td>36690.49</td>\n",
       "      <td>1</td>\n",
       "      <td>0</td>\n",
       "      <td>1</td>\n",
       "    </tr>\n",
       "    <tr>\n",
       "      <th>85</th>\n",
       "      <td>652</td>\n",
       "      <td>75</td>\n",
       "      <td>10</td>\n",
       "      <td>0.00</td>\n",
       "      <td>2</td>\n",
       "      <td>1</td>\n",
       "      <td>1</td>\n",
       "      <td>114675.75</td>\n",
       "      <td>0</td>\n",
       "      <td>1</td>\n",
       "      <td>0</td>\n",
       "    </tr>\n",
       "    <tr>\n",
       "      <th>4681</th>\n",
       "      <td>708</td>\n",
       "      <td>44</td>\n",
       "      <td>2</td>\n",
       "      <td>161887.81</td>\n",
       "      <td>2</td>\n",
       "      <td>1</td>\n",
       "      <td>0</td>\n",
       "      <td>84870.23</td>\n",
       "      <td>0</td>\n",
       "      <td>0</td>\n",
       "      <td>0</td>\n",
       "    </tr>\n",
       "    <tr>\n",
       "      <th>...</th>\n",
       "      <td>...</td>\n",
       "      <td>...</td>\n",
       "      <td>...</td>\n",
       "      <td>...</td>\n",
       "      <td>...</td>\n",
       "      <td>...</td>\n",
       "      <td>...</td>\n",
       "      <td>...</td>\n",
       "      <td>...</td>\n",
       "      <td>...</td>\n",
       "      <td>...</td>\n",
       "    </tr>\n",
       "    <tr>\n",
       "      <th>7771</th>\n",
       "      <td>850</td>\n",
       "      <td>29</td>\n",
       "      <td>1</td>\n",
       "      <td>154640.41</td>\n",
       "      <td>1</td>\n",
       "      <td>1</td>\n",
       "      <td>1</td>\n",
       "      <td>164039.51</td>\n",
       "      <td>1</td>\n",
       "      <td>0</td>\n",
       "      <td>1</td>\n",
       "    </tr>\n",
       "    <tr>\n",
       "      <th>936</th>\n",
       "      <td>775</td>\n",
       "      <td>52</td>\n",
       "      <td>8</td>\n",
       "      <td>109922.61</td>\n",
       "      <td>1</td>\n",
       "      <td>1</td>\n",
       "      <td>1</td>\n",
       "      <td>96823.32</td>\n",
       "      <td>0</td>\n",
       "      <td>0</td>\n",
       "      <td>1</td>\n",
       "    </tr>\n",
       "    <tr>\n",
       "      <th>9903</th>\n",
       "      <td>606</td>\n",
       "      <td>36</td>\n",
       "      <td>10</td>\n",
       "      <td>0.00</td>\n",
       "      <td>2</td>\n",
       "      <td>0</td>\n",
       "      <td>1</td>\n",
       "      <td>155641.46</td>\n",
       "      <td>0</td>\n",
       "      <td>0</td>\n",
       "      <td>0</td>\n",
       "    </tr>\n",
       "    <tr>\n",
       "      <th>8954</th>\n",
       "      <td>664</td>\n",
       "      <td>54</td>\n",
       "      <td>8</td>\n",
       "      <td>0.00</td>\n",
       "      <td>1</td>\n",
       "      <td>1</td>\n",
       "      <td>1</td>\n",
       "      <td>162719.69</td>\n",
       "      <td>0</td>\n",
       "      <td>0</td>\n",
       "      <td>1</td>\n",
       "    </tr>\n",
       "    <tr>\n",
       "      <th>2149</th>\n",
       "      <td>836</td>\n",
       "      <td>57</td>\n",
       "      <td>4</td>\n",
       "      <td>101247.06</td>\n",
       "      <td>1</td>\n",
       "      <td>1</td>\n",
       "      <td>0</td>\n",
       "      <td>37141.62</td>\n",
       "      <td>0</td>\n",
       "      <td>1</td>\n",
       "      <td>1</td>\n",
       "    </tr>\n",
       "  </tbody>\n",
       "</table>\n",
       "<p>8000 rows × 11 columns</p>\n",
       "</div>"
      ],
      "text/plain": [
       "      credit_score  age  tenure    balance  products_number  credit_card  \\\n",
       "9382           645   38       7   59568.57                1            1   \n",
       "8772           768   30       6       0.00                2            1   \n",
       "3609           850   40       6   94607.08                1            1   \n",
       "85             652   75      10       0.00                2            1   \n",
       "4681           708   44       2  161887.81                2            1   \n",
       "...            ...  ...     ...        ...              ...          ...   \n",
       "7771           850   29       1  154640.41                1            1   \n",
       "936            775   52       8  109922.61                1            1   \n",
       "9903           606   36      10       0.00                2            0   \n",
       "8954           664   54       8       0.00                1            1   \n",
       "2149           836   57       4  101247.06                1            1   \n",
       "\n",
       "      active_member  estimated_salary  country_Germany  country_Spain  \\\n",
       "9382              1         167723.25                0              0   \n",
       "8772              1         199454.37                0              0   \n",
       "3609              0          36690.49                1              0   \n",
       "85                1         114675.75                0              1   \n",
       "4681              0          84870.23                0              0   \n",
       "...             ...               ...              ...            ...   \n",
       "7771              1         164039.51                1              0   \n",
       "936               1          96823.32                0              0   \n",
       "9903              1         155641.46                0              0   \n",
       "8954              1         162719.69                0              0   \n",
       "2149              0          37141.62                0              1   \n",
       "\n",
       "      gender_Male  \n",
       "9382            0  \n",
       "8772            1  \n",
       "3609            1  \n",
       "85              0  \n",
       "4681            0  \n",
       "...           ...  \n",
       "7771            1  \n",
       "936             1  \n",
       "9903            0  \n",
       "8954            1  \n",
       "2149            1  \n",
       "\n",
       "[8000 rows x 11 columns]"
      ]
     },
     "execution_count": 15,
     "metadata": {},
     "output_type": "execute_result"
    }
   ],
   "source": [
    "X_train"
   ]
  },
  {
   "cell_type": "code",
   "execution_count": 16,
   "id": "d6e344a9",
   "metadata": {
    "execution": {
     "iopub.execute_input": "2023-08-11T14:43:50.193813Z",
     "iopub.status.busy": "2023-08-11T14:43:50.193336Z",
     "iopub.status.idle": "2023-08-11T14:43:50.202270Z",
     "shell.execute_reply": "2023-08-11T14:43:50.200987Z"
    },
    "papermill": {
     "duration": 0.032017,
     "end_time": "2023-08-11T14:43:50.204558",
     "exception": false,
     "start_time": "2023-08-11T14:43:50.172541",
     "status": "completed"
    },
    "tags": []
   },
   "outputs": [
    {
     "data": {
      "text/plain": [
       "9382    0\n",
       "8772    0\n",
       "3609    0\n",
       "85      0\n",
       "4681    0\n",
       "       ..\n",
       "7771    0\n",
       "936     1\n",
       "9903    0\n",
       "8954    1\n",
       "2149    1\n",
       "Name: churn, Length: 8000, dtype: int64"
      ]
     },
     "execution_count": 16,
     "metadata": {},
     "output_type": "execute_result"
    }
   ],
   "source": [
    "y_train"
   ]
  },
  {
   "cell_type": "code",
   "execution_count": 17,
   "id": "80ed0ff9",
   "metadata": {
    "execution": {
     "iopub.execute_input": "2023-08-11T14:43:50.245665Z",
     "iopub.status.busy": "2023-08-11T14:43:50.244762Z",
     "iopub.status.idle": "2023-08-11T14:43:50.259713Z",
     "shell.execute_reply": "2023-08-11T14:43:50.258297Z"
    },
    "papermill": {
     "duration": 0.038412,
     "end_time": "2023-08-11T14:43:50.262256",
     "exception": false,
     "start_time": "2023-08-11T14:43:50.223844",
     "status": "completed"
    },
    "tags": []
   },
   "outputs": [],
   "source": [
    "#Scale the Data\n",
    "from sklearn.preprocessing import StandardScaler \n",
    "Scaler = StandardScaler()\n",
    "X_trained_scaled=Scaler.fit_transform(X_train)\n",
    "X_test_scaled=Scaler.transform(X_test)"
   ]
  },
  {
   "cell_type": "code",
   "execution_count": 18,
   "id": "03570639",
   "metadata": {
    "execution": {
     "iopub.execute_input": "2023-08-11T14:43:50.302454Z",
     "iopub.status.busy": "2023-08-11T14:43:50.301998Z",
     "iopub.status.idle": "2023-08-11T14:43:50.308854Z",
     "shell.execute_reply": "2023-08-11T14:43:50.308096Z"
    },
    "papermill": {
     "duration": 0.029682,
     "end_time": "2023-08-11T14:43:50.311172",
     "exception": false,
     "start_time": "2023-08-11T14:43:50.281490",
     "status": "completed"
    },
    "tags": []
   },
   "outputs": [
    {
     "data": {
      "text/plain": [
       "array([[-0.06187166, -0.08805073,  0.68172806, ..., -0.58100686,\n",
       "        -0.58119931, -1.09609805],\n",
       "       [ 1.21699479, -0.84456119,  0.33720345, ..., -0.58100686,\n",
       "        -0.58119931,  0.91232714],\n",
       "       [ 2.06957242,  0.10107689,  0.33720345, ...,  1.72115008,\n",
       "        -0.58119931,  0.91232714],\n",
       "       ...,\n",
       "       [-0.4673659 , -0.27717834,  1.71530186, ..., -0.58100686,\n",
       "        -0.58119931, -1.09609805],\n",
       "       [ 0.13567681,  1.4249702 ,  1.02625266, ..., -0.58100686,\n",
       "        -0.58119931,  0.91232714],\n",
       "       [ 1.92401038,  1.70866162, -0.35184575, ..., -0.58100686,\n",
       "         1.72058015,  0.91232714]])"
      ]
     },
     "execution_count": 18,
     "metadata": {},
     "output_type": "execute_result"
    }
   ],
   "source": [
    "X_trained_scaled"
   ]
  },
  {
   "cell_type": "code",
   "execution_count": 19,
   "id": "87966845",
   "metadata": {
    "execution": {
     "iopub.execute_input": "2023-08-11T14:43:50.352415Z",
     "iopub.status.busy": "2023-08-11T14:43:50.351987Z",
     "iopub.status.idle": "2023-08-11T14:43:50.359968Z",
     "shell.execute_reply": "2023-08-11T14:43:50.358858Z"
    },
    "papermill": {
     "duration": 0.031222,
     "end_time": "2023-08-11T14:43:50.362183",
     "exception": false,
     "start_time": "2023-08-11T14:43:50.330961",
     "status": "completed"
    },
    "tags": []
   },
   "outputs": [
    {
     "data": {
      "text/plain": [
       "array([[ 1.94480496, -0.46630596,  1.02625266, ..., -0.58100686,\n",
       "        -0.58119931, -1.09609805],\n",
       "       [ 1.78884564, -0.08805073, -1.38541956, ..., -0.58100686,\n",
       "        -0.58119931,  0.91232714],\n",
       "       [-1.86060252,  0.10107689, -0.35184575, ..., -0.58100686,\n",
       "         1.72058015,  0.91232714],\n",
       "       ...,\n",
       "       [ 1.33136496,  0.1956407 ,  1.71530186, ..., -0.58100686,\n",
       "        -0.58119931, -1.09609805],\n",
       "       [ 2.06957242,  1.4249702 , -0.35184575, ..., -0.58100686,\n",
       "         1.72058015, -1.09609805],\n",
       "       [-1.7046432 ,  0.57389593, -1.04089496, ..., -0.58100686,\n",
       "        -0.58119931,  0.91232714]])"
      ]
     },
     "execution_count": 19,
     "metadata": {},
     "output_type": "execute_result"
    }
   ],
   "source": [
    "X_test_scaled"
   ]
  },
  {
   "cell_type": "markdown",
   "id": "36f108ef",
   "metadata": {
    "papermill": {
     "duration": 0.019124,
     "end_time": "2023-08-11T14:43:50.401002",
     "exception": false,
     "start_time": "2023-08-11T14:43:50.381878",
     "status": "completed"
    },
    "tags": []
   },
   "source": [
    "## Model training and Evalution"
   ]
  },
  {
   "cell_type": "code",
   "execution_count": 20,
   "id": "b6e00f04",
   "metadata": {
    "execution": {
     "iopub.execute_input": "2023-08-11T14:43:50.442513Z",
     "iopub.status.busy": "2023-08-11T14:43:50.442045Z",
     "iopub.status.idle": "2023-08-11T14:43:59.209785Z",
     "shell.execute_reply": "2023-08-11T14:43:59.208768Z"
    },
    "papermill": {
     "duration": 8.791577,
     "end_time": "2023-08-11T14:43:59.212611",
     "exception": false,
     "start_time": "2023-08-11T14:43:50.421034",
     "status": "completed"
    },
    "tags": []
   },
   "outputs": [
    {
     "name": "stderr",
     "output_type": "stream",
     "text": [
      "/opt/conda/lib/python3.10/site-packages/tensorflow_io/python/ops/__init__.py:98: UserWarning: unable to load libtensorflow_io_plugins.so: unable to open file: libtensorflow_io_plugins.so, from paths: ['/opt/conda/lib/python3.10/site-packages/tensorflow_io/python/ops/libtensorflow_io_plugins.so']\n",
      "caused by: ['/opt/conda/lib/python3.10/site-packages/tensorflow_io/python/ops/libtensorflow_io_plugins.so: undefined symbol: _ZN3tsl6StatusC1EN10tensorflow5error4CodeESt17basic_string_viewIcSt11char_traitsIcEENS_14SourceLocationE']\n",
      "  warnings.warn(f\"unable to load libtensorflow_io_plugins.so: {e}\")\n",
      "/opt/conda/lib/python3.10/site-packages/tensorflow_io/python/ops/__init__.py:104: UserWarning: file system plugins are not loaded: unable to open file: libtensorflow_io.so, from paths: ['/opt/conda/lib/python3.10/site-packages/tensorflow_io/python/ops/libtensorflow_io.so']\n",
      "caused by: ['/opt/conda/lib/python3.10/site-packages/tensorflow_io/python/ops/libtensorflow_io.so: undefined symbol: _ZTVN10tensorflow13GcsFileSystemE']\n",
      "  warnings.warn(f\"file system plugins are not loaded: {e}\")\n"
     ]
    }
   ],
   "source": [
    "import tensorflow\n",
    "from tensorflow import keras\n",
    "from tensorflow.keras import Sequential \n",
    "from tensorflow.keras.layers import Dense"
   ]
  },
  {
   "cell_type": "markdown",
   "id": "ee77abad",
   "metadata": {
    "papermill": {
     "duration": 0.019402,
     "end_time": "2023-08-11T14:43:59.252454",
     "exception": false,
     "start_time": "2023-08-11T14:43:59.233052",
     "status": "completed"
    },
    "tags": []
   },
   "source": [
    "There are 2 types of models in keras Sequential or Non-Sequential"
   ]
  },
  {
   "cell_type": "code",
   "execution_count": 21,
   "id": "b2d2ff72",
   "metadata": {
    "execution": {
     "iopub.execute_input": "2023-08-11T14:43:59.294285Z",
     "iopub.status.busy": "2023-08-11T14:43:59.293454Z",
     "iopub.status.idle": "2023-08-11T14:43:59.298699Z",
     "shell.execute_reply": "2023-08-11T14:43:59.297676Z"
    },
    "papermill": {
     "duration": 0.0289,
     "end_time": "2023-08-11T14:43:59.301098",
     "exception": false,
     "start_time": "2023-08-11T14:43:59.272198",
     "status": "completed"
    },
    "tags": []
   },
   "outputs": [],
   "source": [
    "# #Create a sequential model\n",
    "# model=Sequential()\n",
    "# #Add a hidden layer with 3 units and sigmoid activation function, expecting input of dimension 11\n",
    "# model.add(Dense(3,activation='sigmoid',input_dim=11))\n",
    "# #Add an output layer with 1 unit and sigmoid activation function\n",
    "# model.add(Dense(1,activation='sigmoid'))"
   ]
  },
  {
   "cell_type": "markdown",
   "id": "d3a835d4",
   "metadata": {
    "papermill": {
     "duration": 0.019465,
     "end_time": "2023-08-11T14:43:59.340218",
     "exception": false,
     "start_time": "2023-08-11T14:43:59.320753",
     "status": "completed"
    },
    "tags": []
   },
   "source": [
    "Increase layers"
   ]
  },
  {
   "cell_type": "code",
   "execution_count": 22,
   "id": "61e36902",
   "metadata": {
    "execution": {
     "iopub.execute_input": "2023-08-11T14:43:59.381725Z",
     "iopub.status.busy": "2023-08-11T14:43:59.381321Z",
     "iopub.status.idle": "2023-08-11T14:43:59.572716Z",
     "shell.execute_reply": "2023-08-11T14:43:59.571839Z"
    },
    "papermill": {
     "duration": 0.215328,
     "end_time": "2023-08-11T14:43:59.575413",
     "exception": false,
     "start_time": "2023-08-11T14:43:59.360085",
     "status": "completed"
    },
    "tags": []
   },
   "outputs": [],
   "source": [
    "#Create a sequential model\n",
    "model=Sequential()\n",
    "#Add a hidden layer with 11 units and relu activation function, expecting input of dimension 11\n",
    "model.add(Dense(11,activation='relu',input_dim=11))\n",
    "#Add a hidden layer with 11 units\n",
    "model.add(Dense(11,activation='relu'))\n",
    "#Add an output layer with 1 unit and sigmoid activation function\n",
    "model.add(Dense(1,activation='sigmoid'))"
   ]
  },
  {
   "cell_type": "code",
   "execution_count": 23,
   "id": "7ae359ca",
   "metadata": {
    "execution": {
     "iopub.execute_input": "2023-08-11T14:43:59.617757Z",
     "iopub.status.busy": "2023-08-11T14:43:59.617355Z",
     "iopub.status.idle": "2023-08-11T14:43:59.636612Z",
     "shell.execute_reply": "2023-08-11T14:43:59.635437Z"
    },
    "papermill": {
     "duration": 0.046354,
     "end_time": "2023-08-11T14:43:59.642215",
     "exception": false,
     "start_time": "2023-08-11T14:43:59.595861",
     "status": "completed"
    },
    "tags": []
   },
   "outputs": [
    {
     "name": "stdout",
     "output_type": "stream",
     "text": [
      "Model: \"sequential\"\n",
      "_________________________________________________________________\n",
      " Layer (type)                Output Shape              Param #   \n",
      "=================================================================\n",
      " dense (Dense)               (None, 11)                132       \n",
      "                                                                 \n",
      " dense_1 (Dense)             (None, 11)                132       \n",
      "                                                                 \n",
      " dense_2 (Dense)             (None, 1)                 12        \n",
      "                                                                 \n",
      "=================================================================\n",
      "Total params: 276\n",
      "Trainable params: 276\n",
      "Non-trainable params: 0\n",
      "_________________________________________________________________\n"
     ]
    }
   ],
   "source": [
    "#Print a summary of the model architecture\n",
    "model.summary()"
   ]
  },
  {
   "cell_type": "code",
   "execution_count": 24,
   "id": "2b5ab690",
   "metadata": {
    "execution": {
     "iopub.execute_input": "2023-08-11T14:43:59.686375Z",
     "iopub.status.busy": "2023-08-11T14:43:59.685966Z",
     "iopub.status.idle": "2023-08-11T14:43:59.690478Z",
     "shell.execute_reply": "2023-08-11T14:43:59.689549Z"
    },
    "papermill": {
     "duration": 0.029559,
     "end_time": "2023-08-11T14:43:59.692674",
     "exception": false,
     "start_time": "2023-08-11T14:43:59.663115",
     "status": "completed"
    },
    "tags": []
   },
   "outputs": [],
   "source": [
    "# #Compile the model with binary crossentropy loss and Adam optimizer\n",
    "# model.compile(loss='binary_crossentropy',optimizer='Adam')"
   ]
  },
  {
   "cell_type": "code",
   "execution_count": 25,
   "id": "934df690",
   "metadata": {
    "execution": {
     "iopub.execute_input": "2023-08-11T14:43:59.738296Z",
     "iopub.status.busy": "2023-08-11T14:43:59.737906Z",
     "iopub.status.idle": "2023-08-11T14:44:00.014571Z",
     "shell.execute_reply": "2023-08-11T14:44:00.013324Z"
    },
    "papermill": {
     "duration": 0.304133,
     "end_time": "2023-08-11T14:44:00.017910",
     "exception": false,
     "start_time": "2023-08-11T14:43:59.713777",
     "status": "completed"
    },
    "tags": []
   },
   "outputs": [],
   "source": [
    "model.compile(loss='binary_crossentropy',optimizer='Adam',metrics=['accuracy'])"
   ]
  },
  {
   "cell_type": "code",
   "execution_count": 26,
   "id": "67ad68f7",
   "metadata": {
    "execution": {
     "iopub.execute_input": "2023-08-11T14:44:00.063052Z",
     "iopub.status.busy": "2023-08-11T14:44:00.062604Z",
     "iopub.status.idle": "2023-08-11T14:45:23.028155Z",
     "shell.execute_reply": "2023-08-11T14:45:23.026877Z"
    },
    "papermill": {
     "duration": 82.991403,
     "end_time": "2023-08-11T14:45:23.031201",
     "exception": false,
     "start_time": "2023-08-11T14:44:00.039798",
     "status": "completed"
    },
    "tags": []
   },
   "outputs": [
    {
     "name": "stdout",
     "output_type": "stream",
     "text": [
      "Epoch 1/100\n",
      "200/200 [==============================] - 2s 4ms/step - loss: 0.5101 - accuracy: 0.7931 - val_loss: 0.4536 - val_accuracy: 0.8025\n",
      "Epoch 2/100\n",
      "200/200 [==============================] - 0s 2ms/step - loss: 0.4479 - accuracy: 0.8006 - val_loss: 0.4306 - val_accuracy: 0.8069\n",
      "Epoch 3/100\n",
      "200/200 [==============================] - 0s 2ms/step - loss: 0.4304 - accuracy: 0.8039 - val_loss: 0.4192 - val_accuracy: 0.8106\n",
      "Epoch 4/100\n",
      "200/200 [==============================] - 0s 2ms/step - loss: 0.4200 - accuracy: 0.8073 - val_loss: 0.4101 - val_accuracy: 0.8163\n",
      "Epoch 5/100\n",
      "200/200 [==============================] - 0s 2ms/step - loss: 0.4107 - accuracy: 0.8109 - val_loss: 0.4027 - val_accuracy: 0.8188\n",
      "Epoch 6/100\n",
      "200/200 [==============================] - 0s 2ms/step - loss: 0.4021 - accuracy: 0.8172 - val_loss: 0.3945 - val_accuracy: 0.8338\n",
      "Epoch 7/100\n",
      "200/200 [==============================] - 0s 2ms/step - loss: 0.3927 - accuracy: 0.8269 - val_loss: 0.3863 - val_accuracy: 0.8350\n",
      "Epoch 8/100\n",
      "200/200 [==============================] - 0s 2ms/step - loss: 0.3838 - accuracy: 0.8334 - val_loss: 0.3780 - val_accuracy: 0.8431\n",
      "Epoch 9/100\n",
      "200/200 [==============================] - 0s 2ms/step - loss: 0.3743 - accuracy: 0.8420 - val_loss: 0.3712 - val_accuracy: 0.8506\n",
      "Epoch 10/100\n",
      "200/200 [==============================] - 0s 2ms/step - loss: 0.3660 - accuracy: 0.8489 - val_loss: 0.3628 - val_accuracy: 0.8531\n",
      "Epoch 11/100\n",
      "200/200 [==============================] - 0s 2ms/step - loss: 0.3586 - accuracy: 0.8519 - val_loss: 0.3572 - val_accuracy: 0.8537\n",
      "Epoch 12/100\n",
      "200/200 [==============================] - 0s 2ms/step - loss: 0.3537 - accuracy: 0.8547 - val_loss: 0.3553 - val_accuracy: 0.8562\n",
      "Epoch 13/100\n",
      "200/200 [==============================] - 0s 2ms/step - loss: 0.3489 - accuracy: 0.8578 - val_loss: 0.3502 - val_accuracy: 0.8575\n",
      "Epoch 14/100\n",
      "200/200 [==============================] - 0s 2ms/step - loss: 0.3455 - accuracy: 0.8575 - val_loss: 0.3492 - val_accuracy: 0.8625\n",
      "Epoch 15/100\n",
      "200/200 [==============================] - 0s 2ms/step - loss: 0.3432 - accuracy: 0.8598 - val_loss: 0.3458 - val_accuracy: 0.8612\n",
      "Epoch 16/100\n",
      "200/200 [==============================] - 0s 2ms/step - loss: 0.3409 - accuracy: 0.8598 - val_loss: 0.3445 - val_accuracy: 0.8644\n",
      "Epoch 17/100\n",
      "200/200 [==============================] - 0s 2ms/step - loss: 0.3390 - accuracy: 0.8591 - val_loss: 0.3431 - val_accuracy: 0.8625\n",
      "Epoch 18/100\n",
      "200/200 [==============================] - 0s 2ms/step - loss: 0.3376 - accuracy: 0.8602 - val_loss: 0.3434 - val_accuracy: 0.8625\n",
      "Epoch 19/100\n",
      "200/200 [==============================] - 0s 2ms/step - loss: 0.3357 - accuracy: 0.8611 - val_loss: 0.3436 - val_accuracy: 0.8625\n",
      "Epoch 20/100\n",
      "200/200 [==============================] - 0s 2ms/step - loss: 0.3348 - accuracy: 0.8616 - val_loss: 0.3423 - val_accuracy: 0.8637\n",
      "Epoch 21/100\n",
      "200/200 [==============================] - 0s 2ms/step - loss: 0.3332 - accuracy: 0.8625 - val_loss: 0.3422 - val_accuracy: 0.8619\n",
      "Epoch 22/100\n",
      "200/200 [==============================] - 0s 2ms/step - loss: 0.3332 - accuracy: 0.8636 - val_loss: 0.3417 - val_accuracy: 0.8587\n",
      "Epoch 23/100\n",
      "200/200 [==============================] - 0s 2ms/step - loss: 0.3323 - accuracy: 0.8658 - val_loss: 0.3409 - val_accuracy: 0.8625\n",
      "Epoch 24/100\n",
      "200/200 [==============================] - 0s 2ms/step - loss: 0.3315 - accuracy: 0.8633 - val_loss: 0.3412 - val_accuracy: 0.8631\n",
      "Epoch 25/100\n",
      "200/200 [==============================] - 0s 2ms/step - loss: 0.3302 - accuracy: 0.8650 - val_loss: 0.3456 - val_accuracy: 0.8644\n",
      "Epoch 26/100\n",
      "200/200 [==============================] - 0s 2ms/step - loss: 0.3301 - accuracy: 0.8661 - val_loss: 0.3433 - val_accuracy: 0.8619\n",
      "Epoch 27/100\n",
      "200/200 [==============================] - 0s 2ms/step - loss: 0.3297 - accuracy: 0.8648 - val_loss: 0.3419 - val_accuracy: 0.8631\n",
      "Epoch 28/100\n",
      "200/200 [==============================] - 0s 2ms/step - loss: 0.3291 - accuracy: 0.8647 - val_loss: 0.3403 - val_accuracy: 0.8619\n",
      "Epoch 29/100\n",
      "200/200 [==============================] - 0s 2ms/step - loss: 0.3286 - accuracy: 0.8659 - val_loss: 0.3408 - val_accuracy: 0.8631\n",
      "Epoch 30/100\n",
      "200/200 [==============================] - 0s 2ms/step - loss: 0.3278 - accuracy: 0.8656 - val_loss: 0.3404 - val_accuracy: 0.8600\n",
      "Epoch 31/100\n",
      "200/200 [==============================] - 0s 2ms/step - loss: 0.3276 - accuracy: 0.8653 - val_loss: 0.3424 - val_accuracy: 0.8644\n",
      "Epoch 32/100\n",
      "200/200 [==============================] - 0s 2ms/step - loss: 0.3273 - accuracy: 0.8655 - val_loss: 0.3415 - val_accuracy: 0.8600\n",
      "Epoch 33/100\n",
      "200/200 [==============================] - 0s 2ms/step - loss: 0.3268 - accuracy: 0.8656 - val_loss: 0.3408 - val_accuracy: 0.8581\n",
      "Epoch 34/100\n",
      "200/200 [==============================] - 0s 2ms/step - loss: 0.3258 - accuracy: 0.8662 - val_loss: 0.3424 - val_accuracy: 0.8644\n",
      "Epoch 35/100\n",
      "200/200 [==============================] - 0s 2ms/step - loss: 0.3262 - accuracy: 0.8644 - val_loss: 0.3423 - val_accuracy: 0.8625\n",
      "Epoch 36/100\n",
      "200/200 [==============================] - 0s 2ms/step - loss: 0.3254 - accuracy: 0.8661 - val_loss: 0.3415 - val_accuracy: 0.8625\n",
      "Epoch 37/100\n",
      "200/200 [==============================] - 0s 2ms/step - loss: 0.3252 - accuracy: 0.8656 - val_loss: 0.3407 - val_accuracy: 0.8631\n",
      "Epoch 38/100\n",
      "200/200 [==============================] - 0s 2ms/step - loss: 0.3254 - accuracy: 0.8666 - val_loss: 0.3448 - val_accuracy: 0.8644\n",
      "Epoch 39/100\n",
      "200/200 [==============================] - 0s 2ms/step - loss: 0.3249 - accuracy: 0.8647 - val_loss: 0.3425 - val_accuracy: 0.8631\n",
      "Epoch 40/100\n",
      "200/200 [==============================] - 0s 2ms/step - loss: 0.3244 - accuracy: 0.8683 - val_loss: 0.3415 - val_accuracy: 0.8594\n",
      "Epoch 41/100\n",
      "200/200 [==============================] - 0s 2ms/step - loss: 0.3243 - accuracy: 0.8672 - val_loss: 0.3422 - val_accuracy: 0.8594\n",
      "Epoch 42/100\n",
      "200/200 [==============================] - 0s 2ms/step - loss: 0.3239 - accuracy: 0.8656 - val_loss: 0.3418 - val_accuracy: 0.8612\n",
      "Epoch 43/100\n",
      "200/200 [==============================] - 0s 2ms/step - loss: 0.3233 - accuracy: 0.8667 - val_loss: 0.3431 - val_accuracy: 0.8637\n",
      "Epoch 44/100\n",
      "200/200 [==============================] - 1s 3ms/step - loss: 0.3235 - accuracy: 0.8653 - val_loss: 0.3434 - val_accuracy: 0.8631\n",
      "Epoch 45/100\n",
      "200/200 [==============================] - 0s 2ms/step - loss: 0.3232 - accuracy: 0.8659 - val_loss: 0.3426 - val_accuracy: 0.8637\n",
      "Epoch 46/100\n",
      "200/200 [==============================] - 0s 2ms/step - loss: 0.3226 - accuracy: 0.8667 - val_loss: 0.3413 - val_accuracy: 0.8612\n",
      "Epoch 47/100\n",
      "200/200 [==============================] - 0s 2ms/step - loss: 0.3223 - accuracy: 0.8666 - val_loss: 0.3449 - val_accuracy: 0.8637\n",
      "Epoch 48/100\n",
      "200/200 [==============================] - 0s 2ms/step - loss: 0.3220 - accuracy: 0.8661 - val_loss: 0.3437 - val_accuracy: 0.8669\n",
      "Epoch 49/100\n",
      "200/200 [==============================] - 0s 2ms/step - loss: 0.3216 - accuracy: 0.8669 - val_loss: 0.3437 - val_accuracy: 0.8662\n",
      "Epoch 50/100\n",
      "200/200 [==============================] - 0s 2ms/step - loss: 0.3217 - accuracy: 0.8680 - val_loss: 0.3432 - val_accuracy: 0.8644\n",
      "Epoch 51/100\n",
      "200/200 [==============================] - 0s 2ms/step - loss: 0.3220 - accuracy: 0.8687 - val_loss: 0.3415 - val_accuracy: 0.8619\n",
      "Epoch 52/100\n",
      "200/200 [==============================] - 0s 2ms/step - loss: 0.3217 - accuracy: 0.8673 - val_loss: 0.3424 - val_accuracy: 0.8637\n",
      "Epoch 53/100\n",
      "200/200 [==============================] - 0s 2ms/step - loss: 0.3214 - accuracy: 0.8673 - val_loss: 0.3430 - val_accuracy: 0.8650\n",
      "Epoch 54/100\n",
      "200/200 [==============================] - 0s 2ms/step - loss: 0.3211 - accuracy: 0.8666 - val_loss: 0.3434 - val_accuracy: 0.8650\n",
      "Epoch 55/100\n",
      "200/200 [==============================] - 0s 2ms/step - loss: 0.3206 - accuracy: 0.8677 - val_loss: 0.3436 - val_accuracy: 0.8650\n",
      "Epoch 56/100\n",
      "200/200 [==============================] - 0s 2ms/step - loss: 0.3205 - accuracy: 0.8673 - val_loss: 0.3448 - val_accuracy: 0.8656\n",
      "Epoch 57/100\n",
      "200/200 [==============================] - 0s 2ms/step - loss: 0.3209 - accuracy: 0.8680 - val_loss: 0.3435 - val_accuracy: 0.8662\n",
      "Epoch 58/100\n",
      "200/200 [==============================] - 0s 2ms/step - loss: 0.3205 - accuracy: 0.8687 - val_loss: 0.3426 - val_accuracy: 0.8631\n",
      "Epoch 59/100\n",
      "200/200 [==============================] - 0s 2ms/step - loss: 0.3200 - accuracy: 0.8661 - val_loss: 0.3424 - val_accuracy: 0.8631\n",
      "Epoch 60/100\n",
      "200/200 [==============================] - 0s 2ms/step - loss: 0.3207 - accuracy: 0.8675 - val_loss: 0.3439 - val_accuracy: 0.8619\n",
      "Epoch 61/100\n",
      "200/200 [==============================] - 0s 2ms/step - loss: 0.3201 - accuracy: 0.8683 - val_loss: 0.3435 - val_accuracy: 0.8612\n",
      "Epoch 62/100\n",
      "200/200 [==============================] - 0s 2ms/step - loss: 0.3196 - accuracy: 0.8675 - val_loss: 0.3434 - val_accuracy: 0.8619\n",
      "Epoch 63/100\n",
      "200/200 [==============================] - 0s 2ms/step - loss: 0.3205 - accuracy: 0.8677 - val_loss: 0.3447 - val_accuracy: 0.8631\n",
      "Epoch 64/100\n",
      "200/200 [==============================] - 0s 2ms/step - loss: 0.3192 - accuracy: 0.8672 - val_loss: 0.3441 - val_accuracy: 0.8625\n",
      "Epoch 65/100\n",
      "200/200 [==============================] - 0s 2ms/step - loss: 0.3191 - accuracy: 0.8677 - val_loss: 0.3440 - val_accuracy: 0.8631\n",
      "Epoch 66/100\n",
      "200/200 [==============================] - 0s 2ms/step - loss: 0.3196 - accuracy: 0.8692 - val_loss: 0.3446 - val_accuracy: 0.8637\n",
      "Epoch 67/100\n",
      "200/200 [==============================] - 0s 2ms/step - loss: 0.3196 - accuracy: 0.8684 - val_loss: 0.3451 - val_accuracy: 0.8619\n",
      "Epoch 68/100\n",
      "200/200 [==============================] - 0s 2ms/step - loss: 0.3195 - accuracy: 0.8675 - val_loss: 0.3449 - val_accuracy: 0.8612\n",
      "Epoch 69/100\n",
      "200/200 [==============================] - 0s 2ms/step - loss: 0.3191 - accuracy: 0.8703 - val_loss: 0.3444 - val_accuracy: 0.8637\n",
      "Epoch 70/100\n",
      "200/200 [==============================] - 0s 2ms/step - loss: 0.3189 - accuracy: 0.8678 - val_loss: 0.3446 - val_accuracy: 0.8644\n",
      "Epoch 71/100\n",
      "200/200 [==============================] - 0s 2ms/step - loss: 0.3188 - accuracy: 0.8681 - val_loss: 0.3455 - val_accuracy: 0.8650\n",
      "Epoch 72/100\n",
      "200/200 [==============================] - 0s 2ms/step - loss: 0.3191 - accuracy: 0.8684 - val_loss: 0.3449 - val_accuracy: 0.8612\n",
      "Epoch 73/100\n",
      "200/200 [==============================] - 0s 2ms/step - loss: 0.3188 - accuracy: 0.8697 - val_loss: 0.3455 - val_accuracy: 0.8650\n",
      "Epoch 74/100\n",
      "200/200 [==============================] - 0s 2ms/step - loss: 0.3190 - accuracy: 0.8703 - val_loss: 0.3454 - val_accuracy: 0.8631\n",
      "Epoch 75/100\n",
      "200/200 [==============================] - 0s 2ms/step - loss: 0.3184 - accuracy: 0.8689 - val_loss: 0.3464 - val_accuracy: 0.8619\n",
      "Epoch 76/100\n",
      "200/200 [==============================] - 0s 2ms/step - loss: 0.3183 - accuracy: 0.8694 - val_loss: 0.3459 - val_accuracy: 0.8625\n",
      "Epoch 77/100\n",
      "200/200 [==============================] - 0s 2ms/step - loss: 0.3182 - accuracy: 0.8684 - val_loss: 0.3487 - val_accuracy: 0.8606\n",
      "Epoch 78/100\n",
      "200/200 [==============================] - 0s 2ms/step - loss: 0.3181 - accuracy: 0.8686 - val_loss: 0.3469 - val_accuracy: 0.8644\n",
      "Epoch 79/100\n",
      "200/200 [==============================] - 0s 2ms/step - loss: 0.3180 - accuracy: 0.8687 - val_loss: 0.3457 - val_accuracy: 0.8656\n",
      "Epoch 80/100\n",
      "200/200 [==============================] - 0s 2ms/step - loss: 0.3185 - accuracy: 0.8687 - val_loss: 0.3472 - val_accuracy: 0.8631\n",
      "Epoch 81/100\n",
      "200/200 [==============================] - 0s 2ms/step - loss: 0.3184 - accuracy: 0.8697 - val_loss: 0.3481 - val_accuracy: 0.8631\n",
      "Epoch 82/100\n",
      "200/200 [==============================] - 0s 2ms/step - loss: 0.3181 - accuracy: 0.8694 - val_loss: 0.3471 - val_accuracy: 0.8631\n",
      "Epoch 83/100\n",
      "200/200 [==============================] - 0s 2ms/step - loss: 0.3179 - accuracy: 0.8697 - val_loss: 0.3466 - val_accuracy: 0.8637\n",
      "Epoch 84/100\n",
      "200/200 [==============================] - 0s 2ms/step - loss: 0.3176 - accuracy: 0.8691 - val_loss: 0.3467 - val_accuracy: 0.8656\n",
      "Epoch 85/100\n",
      "200/200 [==============================] - 0s 2ms/step - loss: 0.3181 - accuracy: 0.8689 - val_loss: 0.3464 - val_accuracy: 0.8625\n",
      "Epoch 86/100\n",
      "200/200 [==============================] - 0s 2ms/step - loss: 0.3177 - accuracy: 0.8708 - val_loss: 0.3459 - val_accuracy: 0.8650\n",
      "Epoch 87/100\n",
      "200/200 [==============================] - 1s 3ms/step - loss: 0.3176 - accuracy: 0.8703 - val_loss: 0.3465 - val_accuracy: 0.8631\n",
      "Epoch 88/100\n",
      "200/200 [==============================] - 0s 2ms/step - loss: 0.3174 - accuracy: 0.8700 - val_loss: 0.3466 - val_accuracy: 0.8637\n",
      "Epoch 89/100\n",
      "200/200 [==============================] - 0s 2ms/step - loss: 0.3175 - accuracy: 0.8714 - val_loss: 0.3464 - val_accuracy: 0.8669\n",
      "Epoch 90/100\n",
      "200/200 [==============================] - 0s 2ms/step - loss: 0.3172 - accuracy: 0.8700 - val_loss: 0.3466 - val_accuracy: 0.8644\n",
      "Epoch 91/100\n",
      "200/200 [==============================] - 0s 2ms/step - loss: 0.3175 - accuracy: 0.8709 - val_loss: 0.3478 - val_accuracy: 0.8631\n",
      "Epoch 92/100\n",
      "200/200 [==============================] - 0s 2ms/step - loss: 0.3175 - accuracy: 0.8692 - val_loss: 0.3467 - val_accuracy: 0.8619\n",
      "Epoch 93/100\n",
      "200/200 [==============================] - 0s 2ms/step - loss: 0.3171 - accuracy: 0.8711 - val_loss: 0.3467 - val_accuracy: 0.8650\n",
      "Epoch 94/100\n",
      "200/200 [==============================] - 0s 2ms/step - loss: 0.3167 - accuracy: 0.8714 - val_loss: 0.3474 - val_accuracy: 0.8612\n",
      "Epoch 95/100\n",
      "200/200 [==============================] - 0s 2ms/step - loss: 0.3169 - accuracy: 0.8711 - val_loss: 0.3476 - val_accuracy: 0.8644\n",
      "Epoch 96/100\n",
      "200/200 [==============================] - 0s 2ms/step - loss: 0.3169 - accuracy: 0.8684 - val_loss: 0.3478 - val_accuracy: 0.8637\n",
      "Epoch 97/100\n",
      "200/200 [==============================] - 0s 2ms/step - loss: 0.3172 - accuracy: 0.8695 - val_loss: 0.3470 - val_accuracy: 0.8656\n",
      "Epoch 98/100\n",
      "200/200 [==============================] - 0s 2ms/step - loss: 0.3169 - accuracy: 0.8703 - val_loss: 0.3494 - val_accuracy: 0.8637\n",
      "Epoch 99/100\n",
      "200/200 [==============================] - 0s 2ms/step - loss: 0.3167 - accuracy: 0.8705 - val_loss: 0.3481 - val_accuracy: 0.8612\n",
      "Epoch 100/100\n",
      "200/200 [==============================] - 0s 2ms/step - loss: 0.3167 - accuracy: 0.8697 - val_loss: 0.3487 - val_accuracy: 0.8625\n"
     ]
    }
   ],
   "source": [
    "#Train the model using the scaled training data (X_trained_scaled) and training labels (y_train) for 100 epochs\n",
    "#taking validation data of 20% from train dataset for varification purpose\n",
    "history=model.fit(X_trained_scaled,y_train,epochs=100,validation_split=0.2)\n"
   ]
  },
  {
   "cell_type": "code",
   "execution_count": 27,
   "id": "766d97d1",
   "metadata": {
    "execution": {
     "iopub.execute_input": "2023-08-11T14:45:23.236900Z",
     "iopub.status.busy": "2023-08-11T14:45:23.235807Z",
     "iopub.status.idle": "2023-08-11T14:45:23.255925Z",
     "shell.execute_reply": "2023-08-11T14:45:23.253975Z"
    },
    "papermill": {
     "duration": 0.123945,
     "end_time": "2023-08-11T14:45:23.258320",
     "exception": false,
     "start_time": "2023-08-11T14:45:23.134375",
     "status": "completed"
    },
    "tags": []
   },
   "outputs": [
    {
     "name": "stdout",
     "output_type": "stream",
     "text": [
      "Weights of the first hidden layer:\n",
      "[array([[-0.37485993,  0.25200105, -0.20358928, -0.07748952,  0.36767432,\n",
      "         0.01993146,  0.18381703,  0.04540639,  0.1072081 , -0.00640515,\n",
      "        -0.09443746],\n",
      "       [-0.29344827, -0.36341798,  0.73311585, -0.04280004, -0.22374569,\n",
      "         0.58849764, -0.10287017, -0.53189206, -0.01543377,  1.0368025 ,\n",
      "        -0.05605622],\n",
      "       [ 0.2935663 , -0.35304388,  0.6386661 ,  0.244498  ,  0.03545868,\n",
      "         0.10955866,  0.01808418, -0.17722452,  0.09425853, -0.23686256,\n",
      "        -0.23159876],\n",
      "       [ 0.44607976, -0.07171049, -0.50047874, -0.8718496 ,  0.6885333 ,\n",
      "         0.5728347 , -0.00411256, -0.12369297, -0.1522355 , -0.440967  ,\n",
      "        -0.28280094],\n",
      "       [-0.30420896,  0.5722923 ,  0.7848615 , -0.6414242 , -0.24207082,\n",
      "         0.9485813 , -0.3374119 , -0.31609267, -0.59588   , -1.069063  ,\n",
      "         1.0237285 ],\n",
      "       [ 0.383359  , -0.1754739 ,  0.01784547, -0.47032073, -0.5162708 ,\n",
      "        -0.35229054, -0.12790821,  0.18968722,  0.20169161,  0.01416394,\n",
      "         0.02940763],\n",
      "       [-0.5033926 ,  0.66081756,  0.57017237, -0.13694888, -0.5623077 ,\n",
      "        -0.18862024,  0.3759217 ,  0.14849555, -0.78363454,  0.108054  ,\n",
      "        -0.4512027 ],\n",
      "       [-0.12803148,  0.17277034, -0.1818945 ,  0.11783087, -0.20224696,\n",
      "         0.1544156 ,  0.04125546,  0.10208037,  0.04888483,  0.06181727,\n",
      "         0.00782798],\n",
      "       [-0.31749454, -0.03387263, -0.00248377, -0.75132924,  0.23427774,\n",
      "         0.20947067, -0.15680036,  0.5506565 ,  0.2524635 ,  0.7548219 ,\n",
      "         0.25659138],\n",
      "       [ 0.53905904,  0.5841034 , -0.01248593,  0.4140076 , -0.2996204 ,\n",
      "         0.19687045,  0.06609889, -1.1360651 , -0.7165904 , -0.03522572,\n",
      "        -0.08219708],\n",
      "       [-0.00166852, -0.33846575, -0.3069319 ,  0.10259183, -0.0391046 ,\n",
      "        -0.10946705,  0.83552957, -0.2306621 , -0.10641387,  0.02638304,\n",
      "        -0.01579314]], dtype=float32), array([ 0.42083797, -0.08573777,  0.28714705,  0.43439406,  0.47043943,\n",
      "       -0.05313998,  0.45188707,  0.7517481 ,  0.43970725,  0.04408085,\n",
      "        0.59542084], dtype=float32)]\n",
      "Weights of the second hidden layer:\n",
      "[array([[ 0.500335  ,  0.30250576,  0.27258664,  0.09799851,  0.15803109,\n",
      "        -1.0779037 , -0.23041788, -0.20479475, -0.2623866 , -0.01988724,\n",
      "         0.18547882],\n",
      "       [-0.5199238 ,  0.6251238 ,  0.19723046,  0.47272742, -0.06762896,\n",
      "         0.22715686,  0.24236026,  0.32974812,  0.3471832 ,  0.07911327,\n",
      "        -0.20447879],\n",
      "       [ 0.1854316 ,  0.01713151,  0.20374453, -0.30487803,  0.84499377,\n",
      "        -0.29956788,  0.34752196,  0.39166796,  0.40560895,  0.04190657,\n",
      "        -0.05993066],\n",
      "       [ 0.19392964, -1.061889  ,  0.17172845,  0.30910903, -0.43875232,\n",
      "        -0.24594918, -0.4936469 ,  0.00537057, -0.40168512, -0.25558084,\n",
      "         0.9473022 ],\n",
      "       [ 0.3969653 ,  0.55559886,  0.17846009,  0.1027458 , -0.84069544,\n",
      "        -0.8366891 , -1.0570985 ,  0.05968945, -0.3733795 , -0.2906155 ,\n",
      "        -0.29863873],\n",
      "       [-0.46623257,  0.2643878 , -0.7564931 , -0.1782752 , -0.1538021 ,\n",
      "         0.22110875,  0.52842754, -0.01915425,  0.1846535 ,  0.07118821,\n",
      "         0.4380702 ],\n",
      "       [ 0.27815485,  0.04115254,  0.00394802,  0.44825214,  0.3525866 ,\n",
      "        -0.53552866, -0.26456404,  0.5592136 ,  0.00177747, -0.5075856 ,\n",
      "        -0.20307265],\n",
      "       [ 0.45950648, -0.51439834, -0.51757723,  0.7130617 ,  0.4540236 ,\n",
      "        -0.18339375, -0.4997151 , -0.1029597 , -0.9381028 ,  0.11969726,\n",
      "        -0.6323388 ],\n",
      "       [ 0.26746535,  0.3970857 ,  0.10437597,  0.46738246,  0.0619924 ,\n",
      "         0.723099  , -0.364515  ,  0.1427821 , -0.35294142,  0.88130826,\n",
      "         0.38026023],\n",
      "       [ 0.1541843 , -0.49775428, -0.5339898 , -0.7578655 , -0.17789184,\n",
      "        -0.23056544, -0.69488597, -0.30237165,  0.629621  ,  0.60390526,\n",
      "         0.33527496],\n",
      "       [ 0.01393773, -0.20987202,  0.55769116,  0.46452174, -0.01498058,\n",
      "         0.46800473,  0.86840016,  0.6106344 , -0.7058291 ,  0.13242303,\n",
      "        -0.6160635 ]], dtype=float32), array([ 0.06523695, -0.30257988,  0.4878702 ,  0.5736467 ,  0.44003704,\n",
      "       -0.04277639, -0.43122092,  0.41384342,  0.00796175,  0.01921583,\n",
      "        0.28248188], dtype=float32)]\n",
      "Weights of the output layer:\n",
      "[array([[ 0.21020128],\n",
      "       [ 0.73947114],\n",
      "       [-0.9854648 ],\n",
      "       [-0.8214175 ],\n",
      "       [-0.45704055],\n",
      "       [ 1.3211786 ],\n",
      "       [ 1.4215528 ],\n",
      "       [-0.23022756],\n",
      "       [-1.5284065 ],\n",
      "       [ 0.43939418],\n",
      "       [ 0.5762683 ]], dtype=float32), array([-0.10292468], dtype=float32)]\n"
     ]
    }
   ],
   "source": [
    "#Get the weights of the first hidden layer\n",
    "first_hidden_layer_weights = model.layers[0].get_weights()\n",
    "\n",
    "#Get the weights of the second hidden layer\n",
    "second_hidden_layer_weights = model.layers[1].get_weights()\n",
    "\n",
    "#Get the weights of the output layer\n",
    "output_layer_weights = model.layers[2].get_weights()\n",
    "\n",
    "#Print the weights of the first hidden layer\n",
    "print(\"Weights of the first hidden layer:\")\n",
    "print(first_hidden_layer_weights)\n",
    "\n",
    "#Print the weights of the second hidden layer\n",
    "print(\"Weights of the second hidden layer:\")\n",
    "print(second_hidden_layer_weights)\n",
    "\n",
    "#Print the weights of the output layer\n",
    "print(\"Weights of the output layer:\")\n",
    "print(output_layer_weights)"
   ]
  },
  {
   "cell_type": "code",
   "execution_count": 28,
   "id": "b67dadb1",
   "metadata": {
    "execution": {
     "iopub.execute_input": "2023-08-11T14:45:23.463046Z",
     "iopub.status.busy": "2023-08-11T14:45:23.462649Z",
     "iopub.status.idle": "2023-08-11T14:45:23.766414Z",
     "shell.execute_reply": "2023-08-11T14:45:23.765363Z"
    },
    "papermill": {
     "duration": 0.408593,
     "end_time": "2023-08-11T14:45:23.768906",
     "exception": false,
     "start_time": "2023-08-11T14:45:23.360313",
     "status": "completed"
    },
    "tags": []
   },
   "outputs": [
    {
     "name": "stdout",
     "output_type": "stream",
     "text": [
      "63/63 [==============================] - 0s 1ms/step\n"
     ]
    },
    {
     "data": {
      "text/plain": [
       "array([[0.02108367],\n",
       "       [0.02815583],\n",
       "       [0.44134825],\n",
       "       ...,\n",
       "       [0.20552649],\n",
       "       [0.8311163 ],\n",
       "       [0.06060871]], dtype=float32)"
      ]
     },
     "execution_count": 28,
     "metadata": {},
     "output_type": "execute_result"
    }
   ],
   "source": [
    "#do prediction for X_test\n",
    "model.predict(X_test_scaled)\n",
    "#we are not getting 0/1 because output is passed through sigmoid function which is giving probability in output"
   ]
  },
  {
   "cell_type": "code",
   "execution_count": 29,
   "id": "31aa39b8",
   "metadata": {
    "execution": {
     "iopub.execute_input": "2023-08-11T14:45:23.975552Z",
     "iopub.status.busy": "2023-08-11T14:45:23.975104Z",
     "iopub.status.idle": "2023-08-11T14:45:24.185310Z",
     "shell.execute_reply": "2023-08-11T14:45:24.184018Z"
    },
    "papermill": {
     "duration": 0.316056,
     "end_time": "2023-08-11T14:45:24.188053",
     "exception": false,
     "start_time": "2023-08-11T14:45:23.871997",
     "status": "completed"
    },
    "tags": []
   },
   "outputs": [
    {
     "name": "stdout",
     "output_type": "stream",
     "text": [
      "63/63 [==============================] - 0s 1ms/step\n"
     ]
    }
   ],
   "source": [
    "y_log=model.predict(X_test_scaled)\n",
    "#if y_pred is greater than 0.5 then show output as 1 nor 0\n",
    "y_pred=np.where(y_log>0.5,1,0)"
   ]
  },
  {
   "cell_type": "code",
   "execution_count": 30,
   "id": "1657de89",
   "metadata": {
    "execution": {
     "iopub.execute_input": "2023-08-11T14:45:24.392720Z",
     "iopub.status.busy": "2023-08-11T14:45:24.392269Z",
     "iopub.status.idle": "2023-08-11T14:45:24.401806Z",
     "shell.execute_reply": "2023-08-11T14:45:24.400743Z"
    },
    "papermill": {
     "duration": 0.114821,
     "end_time": "2023-08-11T14:45:24.403962",
     "exception": false,
     "start_time": "2023-08-11T14:45:24.289141",
     "status": "completed"
    },
    "tags": []
   },
   "outputs": [
    {
     "data": {
      "text/plain": [
       "0.8525"
      ]
     },
     "execution_count": 30,
     "metadata": {},
     "output_type": "execute_result"
    }
   ],
   "source": [
    "from sklearn.metrics import accuracy_score\n",
    "accuracy_score(y_test,y_pred)"
   ]
  },
  {
   "cell_type": "code",
   "execution_count": 31,
   "id": "a6b4386b",
   "metadata": {
    "execution": {
     "iopub.execute_input": "2023-08-11T14:45:24.608625Z",
     "iopub.status.busy": "2023-08-11T14:45:24.608201Z",
     "iopub.status.idle": "2023-08-11T14:45:24.816969Z",
     "shell.execute_reply": "2023-08-11T14:45:24.815826Z"
    },
    "papermill": {
     "duration": 0.314077,
     "end_time": "2023-08-11T14:45:24.819398",
     "exception": false,
     "start_time": "2023-08-11T14:45:24.505321",
     "status": "completed"
    },
    "tags": []
   },
   "outputs": [
    {
     "data": {
      "image/png": "[encoded data removed]",
      "text/plain": [
       "<Figure size 800x600 with 1 Axes>"
      ]
     },
     "metadata": {},
     "output_type": "display_data"
    }
   ],
   "source": [
    "from sklearn.metrics import confusion_matrix\n",
    "# Calculate the confusion matrix\n",
    "cm = confusion_matrix(y_test, y_pred)\n",
    "\n",
    "# Create a heatmap for the confusion matrix\n",
    "plt.figure(figsize=(8, 6))\n",
    "sns.heatmap(cm, annot=True, fmt=\"d\", cmap=\"Blues\", cbar=False,\n",
    "            annot_kws={\"size\": 14}, linewidths=0.5, square=True)\n",
    "\n",
    "plt.xlabel(\"Predicted\", fontsize=14)\n",
    "plt.ylabel(\"Actual\", fontsize=14)\n",
    "plt.title(\"Confusion Matrix\", fontsize=16)\n",
    "plt.show()"
   ]
  },
  {
   "cell_type": "code",
   "execution_count": 32,
   "id": "7bf321cd",
   "metadata": {
    "execution": {
     "iopub.execute_input": "2023-08-11T14:45:25.028808Z",
     "iopub.status.busy": "2023-08-11T14:45:25.028379Z",
     "iopub.status.idle": "2023-08-11T14:45:25.041804Z",
     "shell.execute_reply": "2023-08-11T14:45:25.040756Z"
    },
    "papermill": {
     "duration": 0.120616,
     "end_time": "2023-08-11T14:45:25.044203",
     "exception": false,
     "start_time": "2023-08-11T14:45:24.923587",
     "status": "completed"
    },
    "tags": []
   },
   "outputs": [
    {
     "data": {
      "text/plain": [
       "{'loss': [0.5100734829902649,\n",
       "  0.447933554649353,\n",
       "  0.43038681149482727,\n",
       "  0.4199832081794739,\n",
       "  0.4106912910938263,\n",
       "  0.4020922780036926,\n",
       "  0.39272820949554443,\n",
       "  0.38376104831695557,\n",
       "  0.37432217597961426,\n",
       "  0.3660317361354828,\n",
       "  0.35861602425575256,\n",
       "  0.35370784997940063,\n",
       "  0.34892502427101135,\n",
       "  0.3454679250717163,\n",
       "  0.3431639075279236,\n",
       "  0.3408574163913727,\n",
       "  0.33901286125183105,\n",
       "  0.33757564425468445,\n",
       "  0.3357045352458954,\n",
       "  0.3347688317298889,\n",
       "  0.33319294452667236,\n",
       "  0.333179235458374,\n",
       "  0.3323165774345398,\n",
       "  0.3314869701862335,\n",
       "  0.3302456736564636,\n",
       "  0.3300926983356476,\n",
       "  0.32973402738571167,\n",
       "  0.3290855884552002,\n",
       "  0.3285553753376007,\n",
       "  0.327834814786911,\n",
       "  0.3276353180408478,\n",
       "  0.32731521129608154,\n",
       "  0.3268018066883087,\n",
       "  0.32576918601989746,\n",
       "  0.3261975944042206,\n",
       "  0.32539403438568115,\n",
       "  0.3252103924751282,\n",
       "  0.3254420757293701,\n",
       "  0.324880987405777,\n",
       "  0.3244026303291321,\n",
       "  0.3242518901824951,\n",
       "  0.3238610327243805,\n",
       "  0.32331517338752747,\n",
       "  0.3234991431236267,\n",
       "  0.32318437099456787,\n",
       "  0.3226172924041748,\n",
       "  0.3222886621952057,\n",
       "  0.32200297713279724,\n",
       "  0.32161521911621094,\n",
       "  0.3216751515865326,\n",
       "  0.32197076082229614,\n",
       "  0.3217202126979828,\n",
       "  0.321364164352417,\n",
       "  0.3210526406764984,\n",
       "  0.320588618516922,\n",
       "  0.32045668363571167,\n",
       "  0.32085299491882324,\n",
       "  0.32049882411956787,\n",
       "  0.3200390934944153,\n",
       "  0.3206626772880554,\n",
       "  0.32006531953811646,\n",
       "  0.319621741771698,\n",
       "  0.3204973638057709,\n",
       "  0.3192470073699951,\n",
       "  0.31912752985954285,\n",
       "  0.3196200430393219,\n",
       "  0.31955668330192566,\n",
       "  0.31946003437042236,\n",
       "  0.31910446286201477,\n",
       "  0.3189016282558441,\n",
       "  0.3187772035598755,\n",
       "  0.3191133439540863,\n",
       "  0.3188490569591522,\n",
       "  0.3189657926559448,\n",
       "  0.318407267332077,\n",
       "  0.31828343868255615,\n",
       "  0.31824028491973877,\n",
       "  0.3181415796279907,\n",
       "  0.31804728507995605,\n",
       "  0.31849050521850586,\n",
       "  0.3184255361557007,\n",
       "  0.31812193989753723,\n",
       "  0.31789129972457886,\n",
       "  0.3176235258579254,\n",
       "  0.318094938993454,\n",
       "  0.3176623582839966,\n",
       "  0.3176431655883789,\n",
       "  0.3173920214176178,\n",
       "  0.31752923130989075,\n",
       "  0.31722554564476013,\n",
       "  0.31746596097946167,\n",
       "  0.31746795773506165,\n",
       "  0.3170671761035919,\n",
       "  0.31668347120285034,\n",
       "  0.31688347458839417,\n",
       "  0.3168679475784302,\n",
       "  0.317239373922348,\n",
       "  0.31694701313972473,\n",
       "  0.3166954517364502,\n",
       "  0.31674906611442566],\n",
       " 'accuracy': [0.7931249737739563,\n",
       "  0.8006250262260437,\n",
       "  0.803906261920929,\n",
       "  0.8073437213897705,\n",
       "  0.8109375238418579,\n",
       "  0.817187488079071,\n",
       "  0.8268749713897705,\n",
       "  0.8334375023841858,\n",
       "  0.8420312404632568,\n",
       "  0.8489062786102295,\n",
       "  0.8518750071525574,\n",
       "  0.854687511920929,\n",
       "  0.8578125238418579,\n",
       "  0.8575000166893005,\n",
       "  0.8598437309265137,\n",
       "  0.8598437309265137,\n",
       "  0.8590624928474426,\n",
       "  0.860156238079071,\n",
       "  0.8610937595367432,\n",
       "  0.8615624904632568,\n",
       "  0.862500011920929,\n",
       "  0.8635937571525574,\n",
       "  0.8657812476158142,\n",
       "  0.86328125,\n",
       "  0.8650000095367432,\n",
       "  0.8660937547683716,\n",
       "  0.8648437261581421,\n",
       "  0.8646875023841858,\n",
       "  0.8659374713897705,\n",
       "  0.8656250238418579,\n",
       "  0.8653125166893005,\n",
       "  0.8654687404632568,\n",
       "  0.8656250238418579,\n",
       "  0.8662499785423279,\n",
       "  0.8643749952316284,\n",
       "  0.8660937547683716,\n",
       "  0.8656250238418579,\n",
       "  0.8665624856948853,\n",
       "  0.8646875023841858,\n",
       "  0.8682812452316284,\n",
       "  0.8671875,\n",
       "  0.8656250238418579,\n",
       "  0.8667187690734863,\n",
       "  0.8653125166893005,\n",
       "  0.8659374713897705,\n",
       "  0.8667187690734863,\n",
       "  0.8665624856948853,\n",
       "  0.8660937547683716,\n",
       "  0.8668749928474426,\n",
       "  0.867968738079071,\n",
       "  0.8687499761581421,\n",
       "  0.8673437237739563,\n",
       "  0.8673437237739563,\n",
       "  0.8665624856948853,\n",
       "  0.8676562309265137,\n",
       "  0.8673437237739563,\n",
       "  0.867968738079071,\n",
       "  0.8687499761581421,\n",
       "  0.8660937547683716,\n",
       "  0.8675000071525574,\n",
       "  0.8682812452316284,\n",
       "  0.8675000071525574,\n",
       "  0.8676562309265137,\n",
       "  0.8671875,\n",
       "  0.8676562309265137,\n",
       "  0.8692187666893005,\n",
       "  0.8684375286102295,\n",
       "  0.8675000071525574,\n",
       "  0.870312511920929,\n",
       "  0.8678125143051147,\n",
       "  0.8681250214576721,\n",
       "  0.8684375286102295,\n",
       "  0.8696874976158142,\n",
       "  0.870312511920929,\n",
       "  0.8689062595367432,\n",
       "  0.8693749904632568,\n",
       "  0.8684375286102295,\n",
       "  0.8685937523841858,\n",
       "  0.8687499761581421,\n",
       "  0.8687499761581421,\n",
       "  0.8696874976158142,\n",
       "  0.8693749904632568,\n",
       "  0.8696874976158142,\n",
       "  0.8690624833106995,\n",
       "  0.8689062595367432,\n",
       "  0.8707812428474426,\n",
       "  0.870312511920929,\n",
       "  0.8700000047683716,\n",
       "  0.8714062571525574,\n",
       "  0.8700000047683716,\n",
       "  0.8709375262260437,\n",
       "  0.8692187666893005,\n",
       "  0.87109375,\n",
       "  0.8714062571525574,\n",
       "  0.87109375,\n",
       "  0.8684375286102295,\n",
       "  0.8695312738418579,\n",
       "  0.870312511920929,\n",
       "  0.8704687356948853,\n",
       "  0.8696874976158142],\n",
       " 'val_loss': [0.45357123017311096,\n",
       "  0.43055906891822815,\n",
       "  0.4192209541797638,\n",
       "  0.4101496934890747,\n",
       "  0.4026968777179718,\n",
       "  0.39451339840888977,\n",
       "  0.386270135641098,\n",
       "  0.37800171971321106,\n",
       "  0.3712274134159088,\n",
       "  0.3628043234348297,\n",
       "  0.35720789432525635,\n",
       "  0.355285108089447,\n",
       "  0.3502160906791687,\n",
       "  0.3492220938205719,\n",
       "  0.3457525670528412,\n",
       "  0.34451571106910706,\n",
       "  0.34306594729423523,\n",
       "  0.3433822989463806,\n",
       "  0.3435504138469696,\n",
       "  0.3422607183456421,\n",
       "  0.3421562612056732,\n",
       "  0.34168505668640137,\n",
       "  0.340888112783432,\n",
       "  0.34123846888542175,\n",
       "  0.3455624282360077,\n",
       "  0.3433164656162262,\n",
       "  0.34193873405456543,\n",
       "  0.34026864171028137,\n",
       "  0.3408418893814087,\n",
       "  0.34040284156799316,\n",
       "  0.34243476390838623,\n",
       "  0.34152594208717346,\n",
       "  0.340829074382782,\n",
       "  0.3424197733402252,\n",
       "  0.34234943985939026,\n",
       "  0.3415125608444214,\n",
       "  0.3406510055065155,\n",
       "  0.34480953216552734,\n",
       "  0.3424517512321472,\n",
       "  0.3415083587169647,\n",
       "  0.3421761393547058,\n",
       "  0.34176692366600037,\n",
       "  0.34306418895721436,\n",
       "  0.34344664216041565,\n",
       "  0.342586487531662,\n",
       "  0.3413039743900299,\n",
       "  0.3448593020439148,\n",
       "  0.34372809529304504,\n",
       "  0.34374508261680603,\n",
       "  0.3432268798351288,\n",
       "  0.34150081872940063,\n",
       "  0.3424259126186371,\n",
       "  0.34301039576530457,\n",
       "  0.3434385657310486,\n",
       "  0.34358635544776917,\n",
       "  0.34480488300323486,\n",
       "  0.3434571325778961,\n",
       "  0.3425845205783844,\n",
       "  0.34235677123069763,\n",
       "  0.3439205586910248,\n",
       "  0.34352216124534607,\n",
       "  0.3433964252471924,\n",
       "  0.34469443559646606,\n",
       "  0.34414738416671753,\n",
       "  0.3439825773239136,\n",
       "  0.3445777893066406,\n",
       "  0.34510985016822815,\n",
       "  0.3448677062988281,\n",
       "  0.344426691532135,\n",
       "  0.34462112188339233,\n",
       "  0.3455311954021454,\n",
       "  0.3448983132839203,\n",
       "  0.34545621275901794,\n",
       "  0.34536120295524597,\n",
       "  0.34639620780944824,\n",
       "  0.34587207436561584,\n",
       "  0.3487192392349243,\n",
       "  0.34691840410232544,\n",
       "  0.34570103883743286,\n",
       "  0.3471902012825012,\n",
       "  0.3480609953403473,\n",
       "  0.3471149206161499,\n",
       "  0.34660884737968445,\n",
       "  0.346668004989624,\n",
       "  0.34640708565711975,\n",
       "  0.34587565064430237,\n",
       "  0.34651052951812744,\n",
       "  0.3466484546661377,\n",
       "  0.3463911712169647,\n",
       "  0.3466154932975769,\n",
       "  0.3477502763271332,\n",
       "  0.34672433137893677,\n",
       "  0.3466617166996002,\n",
       "  0.34738102555274963,\n",
       "  0.3475742042064667,\n",
       "  0.3478211462497711,\n",
       "  0.347034215927124,\n",
       "  0.34943264722824097,\n",
       "  0.34813815355300903,\n",
       "  0.34870871901512146],\n",
       " 'val_accuracy': [0.8025000095367432,\n",
       "  0.8068749904632568,\n",
       "  0.8106250166893005,\n",
       "  0.8162500262260437,\n",
       "  0.8187500238418579,\n",
       "  0.8337500095367432,\n",
       "  0.8349999785423279,\n",
       "  0.8431249856948853,\n",
       "  0.8506249785423279,\n",
       "  0.8531249761581421,\n",
       "  0.8537499904632568,\n",
       "  0.856249988079071,\n",
       "  0.8575000166893005,\n",
       "  0.862500011920929,\n",
       "  0.8612499833106995,\n",
       "  0.8643749952316284,\n",
       "  0.862500011920929,\n",
       "  0.862500011920929,\n",
       "  0.862500011920929,\n",
       "  0.8637499809265137,\n",
       "  0.8618749976158142,\n",
       "  0.8587499856948853,\n",
       "  0.862500011920929,\n",
       "  0.8631250262260437,\n",
       "  0.8643749952316284,\n",
       "  0.8618749976158142,\n",
       "  0.8631250262260437,\n",
       "  0.8618749976158142,\n",
       "  0.8631250262260437,\n",
       "  0.8600000143051147,\n",
       "  0.8643749952316284,\n",
       "  0.8600000143051147,\n",
       "  0.8581249713897705,\n",
       "  0.8643749952316284,\n",
       "  0.862500011920929,\n",
       "  0.862500011920929,\n",
       "  0.8631250262260437,\n",
       "  0.8643749952316284,\n",
       "  0.8631250262260437,\n",
       "  0.859375,\n",
       "  0.859375,\n",
       "  0.8612499833106995,\n",
       "  0.8637499809265137,\n",
       "  0.8631250262260437,\n",
       "  0.8637499809265137,\n",
       "  0.8612499833106995,\n",
       "  0.8637499809265137,\n",
       "  0.8668749928474426,\n",
       "  0.8662499785423279,\n",
       "  0.8643749952316284,\n",
       "  0.8618749976158142,\n",
       "  0.8637499809265137,\n",
       "  0.8650000095367432,\n",
       "  0.8650000095367432,\n",
       "  0.8650000095367432,\n",
       "  0.8656250238418579,\n",
       "  0.8662499785423279,\n",
       "  0.8631250262260437,\n",
       "  0.8631250262260437,\n",
       "  0.8618749976158142,\n",
       "  0.8612499833106995,\n",
       "  0.8618749976158142,\n",
       "  0.8631250262260437,\n",
       "  0.862500011920929,\n",
       "  0.8631250262260437,\n",
       "  0.8637499809265137,\n",
       "  0.8618749976158142,\n",
       "  0.8612499833106995,\n",
       "  0.8637499809265137,\n",
       "  0.8643749952316284,\n",
       "  0.8650000095367432,\n",
       "  0.8612499833106995,\n",
       "  0.8650000095367432,\n",
       "  0.8631250262260437,\n",
       "  0.8618749976158142,\n",
       "  0.862500011920929,\n",
       "  0.8606250286102295,\n",
       "  0.8643749952316284,\n",
       "  0.8656250238418579,\n",
       "  0.8631250262260437,\n",
       "  0.8631250262260437,\n",
       "  0.8631250262260437,\n",
       "  0.8637499809265137,\n",
       "  0.8656250238418579,\n",
       "  0.862500011920929,\n",
       "  0.8650000095367432,\n",
       "  0.8631250262260437,\n",
       "  0.8637499809265137,\n",
       "  0.8668749928474426,\n",
       "  0.8643749952316284,\n",
       "  0.8631250262260437,\n",
       "  0.8618749976158142,\n",
       "  0.8650000095367432,\n",
       "  0.8612499833106995,\n",
       "  0.8643749952316284,\n",
       "  0.8637499809265137,\n",
       "  0.8656250238418579,\n",
       "  0.8637499809265137,\n",
       "  0.8612499833106995,\n",
       "  0.862500011920929]}"
      ]
     },
     "execution_count": 32,
     "metadata": {},
     "output_type": "execute_result"
    }
   ],
   "source": [
    "history.history"
   ]
  },
  {
   "cell_type": "code",
   "execution_count": 33,
   "id": "8e2633b2",
   "metadata": {
    "execution": {
     "iopub.execute_input": "2023-08-11T14:45:25.253253Z",
     "iopub.status.busy": "2023-08-11T14:45:25.252425Z",
     "iopub.status.idle": "2023-08-11T14:45:25.547524Z",
     "shell.execute_reply": "2023-08-11T14:45:25.546268Z"
    },
    "papermill": {
     "duration": 0.401555,
     "end_time": "2023-08-11T14:45:25.550234",
     "exception": false,
     "start_time": "2023-08-11T14:45:25.148679",
     "status": "completed"
    },
    "tags": []
   },
   "outputs": [
    {
     "data": {
      "text/plain": [
       "[<matplotlib.lines.Line2D at 0x7ea5b41e6cb0>]"
      ]
     },
     "execution_count": 33,
     "metadata": {},
     "output_type": "execute_result"
    },
    {
     "data": {
      "image/png": "[encoded data removed]",
      "text/plain": [
       "<Figure size 640x480 with 1 Axes>"
      ]
     },
     "metadata": {},
     "output_type": "display_data"
    }
   ],
   "source": [
    "import matplotlib.pyplot as plt\n",
    "plt.plot(history.history['loss']) \n",
    "plt.plot(history.history['val_loss']) "
   ]
  },
  {
   "cell_type": "markdown",
   "id": "819a0277",
   "metadata": {
    "papermill": {
     "duration": 0.103215,
     "end_time": "2023-08-11T14:45:25.757473",
     "exception": false,
     "start_time": "2023-08-11T14:45:25.654258",
     "status": "completed"
    },
    "tags": []
   },
   "source": []
  },
  {
   "cell_type": "code",
   "execution_count": 34,
   "id": "e2b43b98",
   "metadata": {
    "execution": {
     "iopub.execute_input": "2023-08-11T14:45:25.968531Z",
     "iopub.status.busy": "2023-08-11T14:45:25.968110Z",
     "iopub.status.idle": "2023-08-11T14:45:26.272916Z",
     "shell.execute_reply": "2023-08-11T14:45:26.271753Z"
    },
    "papermill": {
     "duration": 0.413209,
     "end_time": "2023-08-11T14:45:26.275588",
     "exception": false,
     "start_time": "2023-08-11T14:45:25.862379",
     "status": "completed"
    },
    "tags": []
   },
   "outputs": [
    {
     "data": {
      "text/plain": [
       "[<matplotlib.lines.Line2D at 0x7ea5bd3c9cc0>]"
      ]
     },
     "execution_count": 34,
     "metadata": {},
     "output_type": "execute_result"
    },
    {
     "data": {
      "image/png": "[encoded data removed]",
      "text/plain": [
       "<Figure size 640x480 with 1 Axes>"
      ]
     },
     "metadata": {},
     "output_type": "display_data"
    }
   ],
   "source": [
    "plt.plot(history.history['accuracy']) \n",
    "plt.plot(history.history['val_accuracy']) "
   ]
  },
  {
   "cell_type": "code",
   "execution_count": 35,
   "id": "1872201f",
   "metadata": {
    "execution": {
     "iopub.execute_input": "2023-08-11T14:45:26.486623Z",
     "iopub.status.busy": "2023-08-11T14:45:26.486204Z",
     "iopub.status.idle": "2023-08-11T14:45:26.515775Z",
     "shell.execute_reply": "2023-08-11T14:45:26.514228Z"
    },
    "papermill": {
     "duration": 0.139673,
     "end_time": "2023-08-11T14:45:26.518441",
     "exception": false,
     "start_time": "2023-08-11T14:45:26.378768",
     "status": "completed"
    },
    "tags": []
   },
   "outputs": [
    {
     "name": "stdout",
     "output_type": "stream",
     "text": [
      "Model saved successfully!\n"
     ]
    }
   ],
   "source": [
    "# Save the trained model\n",
    "model.save('churn_prediction_model.h5')\n",
    "\n",
    "print(\"Model saved successfully!\")\n"
   ]
  },
  {
   "cell_type": "code",
   "execution_count": 36,
   "id": "d5fe9ca0",
   "metadata": {
    "execution": {
     "iopub.execute_input": "2023-08-11T14:45:26.731013Z",
     "iopub.status.busy": "2023-08-11T14:45:26.730598Z",
     "iopub.status.idle": "2023-08-11T14:45:26.737807Z",
     "shell.execute_reply": "2023-08-11T14:45:26.736755Z"
    },
    "papermill": {
     "duration": 0.116639,
     "end_time": "2023-08-11T14:45:26.740515",
     "exception": false,
     "start_time": "2023-08-11T14:45:26.623876",
     "status": "completed"
    },
    "tags": []
   },
   "outputs": [
    {
     "data": {
      "text/html": [
       "<a href='churn_prediction_model.h5' target='_blank'>churn_prediction_model.h5</a><br>"
      ],
      "text/plain": [
       "/kaggle/working/churn_prediction_model.h5"
      ]
     },
     "execution_count": 36,
     "metadata": {},
     "output_type": "execute_result"
    }
   ],
   "source": [
    "from IPython.display import FileLink\n",
    "\n",
    "FileLink('churn_prediction_model.h5')"
   ]
  },
  {
   "cell_type": "code",
   "execution_count": null,
   "id": "03444c12",
   "metadata": {
    "papermill": {
     "duration": 0.104609,
     "end_time": "2023-08-11T14:45:26.948598",
     "exception": false,
     "start_time": "2023-08-11T14:45:26.843989",
     "status": "completed"
    },
    "tags": []
   },
   "outputs": [],
   "source": []
  }
 ],
 "metadata": {
  "kernelspec": {
   "display_name": "Python 3",
   "language": "python",
   "name": "python3"
  },
  "language_info": {
   "codemirror_mode": {
    "name": "ipython",
    "version": 3
   },
   "file_extension": ".py",
   "mimetype": "text/x-python",
   "name": "python",
   "nbconvert_exporter": "python",
   "pygments_lexer": "ipython3",
   "version": "3.10.10"
  },
  "papermill": {
   "default_parameters": {},
   "duration": 119.32422,
   "end_time": "2023-08-11T14:45:29.900645",
   "environment_variables": {},
   "exception": null,
   "input_path": "__notebook__.ipynb",
   "output_path": "__notebook__.ipynb",
   "parameters": {},
   "start_time": "2023-08-11T14:43:30.576425",
   "version": "2.4.0"
  }
 },
 "nbformat": 4,
 "nbformat_minor": 5
}
