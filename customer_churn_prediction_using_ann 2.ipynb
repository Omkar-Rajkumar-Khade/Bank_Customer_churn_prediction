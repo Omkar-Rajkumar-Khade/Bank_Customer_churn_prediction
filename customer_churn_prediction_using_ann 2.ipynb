{
  "cells": [
    {
      "cell_type": "code",
      "execution_count": null,
      "id": "ab101549",
      "metadata": {},
      "outputs": [],
      "source": [
        "import numpy as np # linear algebra\n",
        "import pandas as pd # data processing, CSV file I/O (e.g. pd.read_csv)\n",
        "import matplotlib.pyplot as plt\n",
        "import seaborn as sns"
      ]
    },
    {
      "cell_type": "markdown",
      "id": "de04e2ae",
      "metadata": {
        "id": "de04e2ae",
        "papermill": {
          "duration": 0.01254,
          "end_time": "2023-08-11T14:43:45.511087",
          "exception": false,
          "start_time": "2023-08-11T14:43:45.498547",
          "status": "completed"
        },
        "tags": []
      },
      "source": [
        "## Explore the Data (EDA)"
      ]
    },
    {
      "cell_type": "code",
      "execution_count": null,
      "id": "54ff2ffd",
      "metadata": {
        "execution": {
          "iopub.execute_input": "2023-08-11T14:43:45.540919Z",
          "iopub.status.busy": "2023-08-11T14:43:45.540180Z",
          "iopub.status.idle": "2023-08-11T14:43:45.585996Z",
          "shell.execute_reply": "2023-08-11T14:43:45.584895Z"
        },
        "id": "54ff2ffd",
        "papermill": {
          "duration": 0.063303,
          "end_time": "2023-08-11T14:43:45.588700",
          "exception": false,
          "start_time": "2023-08-11T14:43:45.525397",
          "status": "completed"
        },
        "tags": []
      },
      "outputs": [],
      "source": [
        "df=pd.read_csv('dataset\\Bank Customer Churn Prediction.csv')"
      ]
    },
    {
      "cell_type": "code",
      "execution_count": null,
      "id": "63a5b726",
      "metadata": {
        "colab": {
          "base_uri": "https://localhost:8080/",
          "height": 487
        },
        "execution": {
          "iopub.execute_input": "2023-08-11T14:43:45.616707Z",
          "iopub.status.busy": "2023-08-11T14:43:45.616299Z",
          "iopub.status.idle": "2023-08-11T14:43:45.663822Z",
          "shell.execute_reply": "2023-08-11T14:43:45.662423Z"
        },
        "id": "63a5b726",
        "outputId": "561b1432-510e-4944-927e-0218266b63e3",
        "papermill": {
          "duration": 0.064589,
          "end_time": "2023-08-11T14:43:45.666275",
          "exception": false,
          "start_time": "2023-08-11T14:43:45.601686",
          "status": "completed"
        },
        "tags": []
      },
      "outputs": [
        {
          "data": {
            "text/html": [
              "\n",
              "\n",
              "  <div id=\"df-46167f3c-3f6a-487b-903e-83ce71ae41a6\">\n",
              "    <div class=\"colab-df-container\">\n",
              "      <div>\n",
              "<style scoped>\n",
              "    .dataframe tbody tr th:only-of-type {\n",
              "        vertical-align: middle;\n",
              "    }\n",
              "\n",
              "    .dataframe tbody tr th {\n",
              "        vertical-align: top;\n",
              "    }\n",
              "\n",
              "    .dataframe thead th {\n",
              "        text-align: right;\n",
              "    }\n",
              "</style>\n",
              "<table border=\"1\" class=\"dataframe\">\n",
              "  <thead>\n",
              "    <tr style=\"text-align: right;\">\n",
              "      <th></th>\n",
              "      <th>customer_id</th>\n",
              "      <th>credit_score</th>\n",
              "      <th>country</th>\n",
              "      <th>gender</th>\n",
              "      <th>age</th>\n",
              "      <th>tenure</th>\n",
              "      <th>balance</th>\n",
              "      <th>products_number</th>\n",
              "      <th>credit_card</th>\n",
              "      <th>active_member</th>\n",
              "      <th>estimated_salary</th>\n",
              "      <th>churn</th>\n",
              "    </tr>\n",
              "  </thead>\n",
              "  <tbody>\n",
              "    <tr>\n",
              "      <th>0</th>\n",
              "      <td>15634602</td>\n",
              "      <td>619</td>\n",
              "      <td>France</td>\n",
              "      <td>Female</td>\n",
              "      <td>42</td>\n",
              "      <td>2</td>\n",
              "      <td>0.00</td>\n",
              "      <td>1</td>\n",
              "      <td>1</td>\n",
              "      <td>1</td>\n",
              "      <td>101348.88</td>\n",
              "      <td>1</td>\n",
              "    </tr>\n",
              "    <tr>\n",
              "      <th>1</th>\n",
              "      <td>15647311</td>\n",
              "      <td>608</td>\n",
              "      <td>Spain</td>\n",
              "      <td>Female</td>\n",
              "      <td>41</td>\n",
              "      <td>1</td>\n",
              "      <td>83807.86</td>\n",
              "      <td>1</td>\n",
              "      <td>0</td>\n",
              "      <td>1</td>\n",
              "      <td>112542.58</td>\n",
              "      <td>0</td>\n",
              "    </tr>\n",
              "    <tr>\n",
              "      <th>2</th>\n",
              "      <td>15619304</td>\n",
              "      <td>502</td>\n",
              "      <td>France</td>\n",
              "      <td>Female</td>\n",
              "      <td>42</td>\n",
              "      <td>8</td>\n",
              "      <td>159660.80</td>\n",
              "      <td>3</td>\n",
              "      <td>1</td>\n",
              "      <td>0</td>\n",
              "      <td>113931.57</td>\n",
              "      <td>1</td>\n",
              "    </tr>\n",
              "    <tr>\n",
              "      <th>3</th>\n",
              "      <td>15701354</td>\n",
              "      <td>699</td>\n",
              "      <td>France</td>\n",
              "      <td>Female</td>\n",
              "      <td>39</td>\n",
              "      <td>1</td>\n",
              "      <td>0.00</td>\n",
              "      <td>2</td>\n",
              "      <td>0</td>\n",
              "      <td>0</td>\n",
              "      <td>93826.63</td>\n",
              "      <td>0</td>\n",
              "    </tr>\n",
              "    <tr>\n",
              "      <th>4</th>\n",
              "      <td>15737888</td>\n",
              "      <td>850</td>\n",
              "      <td>Spain</td>\n",
              "      <td>Female</td>\n",
              "      <td>43</td>\n",
              "      <td>2</td>\n",
              "      <td>125510.82</td>\n",
              "      <td>1</td>\n",
              "      <td>1</td>\n",
              "      <td>1</td>\n",
              "      <td>79084.10</td>\n",
              "      <td>0</td>\n",
              "    </tr>\n",
              "    <tr>\n",
              "      <th>...</th>\n",
              "      <td>...</td>\n",
              "      <td>...</td>\n",
              "      <td>...</td>\n",
              "      <td>...</td>\n",
              "      <td>...</td>\n",
              "      <td>...</td>\n",
              "      <td>...</td>\n",
              "      <td>...</td>\n",
              "      <td>...</td>\n",
              "      <td>...</td>\n",
              "      <td>...</td>\n",
              "      <td>...</td>\n",
              "    </tr>\n",
              "    <tr>\n",
              "      <th>9995</th>\n",
              "      <td>15606229</td>\n",
              "      <td>771</td>\n",
              "      <td>France</td>\n",
              "      <td>Male</td>\n",
              "      <td>39</td>\n",
              "      <td>5</td>\n",
              "      <td>0.00</td>\n",
              "      <td>2</td>\n",
              "      <td>1</td>\n",
              "      <td>0</td>\n",
              "      <td>96270.64</td>\n",
              "      <td>0</td>\n",
              "    </tr>\n",
              "    <tr>\n",
              "      <th>9996</th>\n",
              "      <td>15569892</td>\n",
              "      <td>516</td>\n",
              "      <td>France</td>\n",
              "      <td>Male</td>\n",
              "      <td>35</td>\n",
              "      <td>10</td>\n",
              "      <td>57369.61</td>\n",
              "      <td>1</td>\n",
              "      <td>1</td>\n",
              "      <td>1</td>\n",
              "      <td>101699.77</td>\n",
              "      <td>0</td>\n",
              "    </tr>\n",
              "    <tr>\n",
              "      <th>9997</th>\n",
              "      <td>15584532</td>\n",
              "      <td>709</td>\n",
              "      <td>France</td>\n",
              "      <td>Female</td>\n",
              "      <td>36</td>\n",
              "      <td>7</td>\n",
              "      <td>0.00</td>\n",
              "      <td>1</td>\n",
              "      <td>0</td>\n",
              "      <td>1</td>\n",
              "      <td>42085.58</td>\n",
              "      <td>1</td>\n",
              "    </tr>\n",
              "    <tr>\n",
              "      <th>9998</th>\n",
              "      <td>15682355</td>\n",
              "      <td>772</td>\n",
              "      <td>Germany</td>\n",
              "      <td>Male</td>\n",
              "      <td>42</td>\n",
              "      <td>3</td>\n",
              "      <td>75075.31</td>\n",
              "      <td>2</td>\n",
              "      <td>1</td>\n",
              "      <td>0</td>\n",
              "      <td>92888.52</td>\n",
              "      <td>1</td>\n",
              "    </tr>\n",
              "    <tr>\n",
              "      <th>9999</th>\n",
              "      <td>15628319</td>\n",
              "      <td>792</td>\n",
              "      <td>France</td>\n",
              "      <td>Female</td>\n",
              "      <td>28</td>\n",
              "      <td>4</td>\n",
              "      <td>130142.79</td>\n",
              "      <td>1</td>\n",
              "      <td>1</td>\n",
              "      <td>0</td>\n",
              "      <td>38190.78</td>\n",
              "      <td>0</td>\n",
              "    </tr>\n",
              "  </tbody>\n",
              "</table>\n",
              "<p>10000 rows × 12 columns</p>\n",
              "</div>\n",
              "      <button class=\"colab-df-convert\" onclick=\"convertToInteractive('df-46167f3c-3f6a-487b-903e-83ce71ae41a6')\"\n",
              "              title=\"Convert this dataframe to an interactive table.\"\n",
              "              style=\"display:none;\">\n",
              "\n",
              "  <svg xmlns=\"http://www.w3.org/2000/svg\" height=\"24px\"viewBox=\"0 0 24 24\"\n",
              "       width=\"24px\">\n",
              "    <path d=\"M0 0h24v24H0V0z\" fill=\"none\"/>\n",
              "    <path d=\"M18.56 5.44l.94 2.06.94-2.06 2.06-.94-2.06-.94-.94-2.06-.94 2.06-2.06.94zm-11 1L8.5 8.5l.94-2.06 2.06-.94-2.06-.94L8.5 2.5l-.94 2.06-2.06.94zm10 10l.94 2.06.94-2.06 2.06-.94-2.06-.94-.94-2.06-.94 2.06-2.06.94z\"/><path d=\"M17.41 7.96l-1.37-1.37c-.4-.4-.92-.59-1.43-.59-.52 0-1.04.2-1.43.59L10.3 9.45l-7.72 7.72c-.78.78-.78 2.05 0 2.83L4 21.41c.39.39.9.59 1.41.59.51 0 1.02-.2 1.41-.59l7.78-7.78 2.81-2.81c.8-.78.8-2.07 0-2.86zM5.41 20L4 18.59l7.72-7.72 1.47 1.35L5.41 20z\"/>\n",
              "  </svg>\n",
              "      </button>\n",
              "\n",
              "\n",
              "\n",
              "    <div id=\"df-07e17462-cacf-4d5f-9d3e-5881dc374463\">\n",
              "      <button class=\"colab-df-quickchart\" onclick=\"quickchart('df-07e17462-cacf-4d5f-9d3e-5881dc374463')\"\n",
              "              title=\"Suggest charts.\"\n",
              "              style=\"display:none;\">\n",
              "\n",
              "<svg xmlns=\"http://www.w3.org/2000/svg\" height=\"24px\"viewBox=\"0 0 24 24\"\n",
              "     width=\"24px\">\n",
              "    <g>\n",
              "        <path d=\"M19 3H5c-1.1 0-2 .9-2 2v14c0 1.1.9 2 2 2h14c1.1 0 2-.9 2-2V5c0-1.1-.9-2-2-2zM9 17H7v-7h2v7zm4 0h-2V7h2v10zm4 0h-2v-4h2v4z\"/>\n",
              "    </g>\n",
              "</svg>\n",
              "      </button>\n",
              "    </div>\n",
              "\n",
              "<style>\n",
              "  .colab-df-quickchart {\n",
              "    background-color: #E8F0FE;\n",
              "    border: none;\n",
              "    border-radius: 50%;\n",
              "    cursor: pointer;\n",
              "    display: none;\n",
              "    fill: #1967D2;\n",
              "    height: 32px;\n",
              "    padding: 0 0 0 0;\n",
              "    width: 32px;\n",
              "  }\n",
              "\n",
              "  .colab-df-quickchart:hover {\n",
              "    background-color: #E2EBFA;\n",
              "    box-shadow: 0px 1px 2px rgba(60, 64, 67, 0.3), 0px 1px 3px 1px rgba(60, 64, 67, 0.15);\n",
              "    fill: #174EA6;\n",
              "  }\n",
              "\n",
              "  [theme=dark] .colab-df-quickchart {\n",
              "    background-color: #3B4455;\n",
              "    fill: #D2E3FC;\n",
              "  }\n",
              "\n",
              "  [theme=dark] .colab-df-quickchart:hover {\n",
              "    background-color: #434B5C;\n",
              "    box-shadow: 0px 1px 3px 1px rgba(0, 0, 0, 0.15);\n",
              "    filter: drop-shadow(0px 1px 2px rgba(0, 0, 0, 0.3));\n",
              "    fill: #FFFFFF;\n",
              "  }\n",
              "</style>\n",
              "\n",
              "    <script>\n",
              "      async function quickchart(key) {\n",
              "        const containerElement = document.querySelector('#' + key);\n",
              "        const charts = await google.colab.kernel.invokeFunction(\n",
              "            'suggestCharts', [key], {});\n",
              "      }\n",
              "    </script>\n",
              "\n",
              "      <script>\n",
              "\n",
              "function displayQuickchartButton(domScope) {\n",
              "  let quickchartButtonEl =\n",
              "    domScope.querySelector('#df-07e17462-cacf-4d5f-9d3e-5881dc374463 button.colab-df-quickchart');\n",
              "  quickchartButtonEl.style.display =\n",
              "    google.colab.kernel.accessAllowed ? 'block' : 'none';\n",
              "}\n",
              "\n",
              "        displayQuickchartButton(document);\n",
              "      </script>\n",
              "      <style>\n",
              "    .colab-df-container {\n",
              "      display:flex;\n",
              "      flex-wrap:wrap;\n",
              "      gap: 12px;\n",
              "    }\n",
              "\n",
              "    .colab-df-convert {\n",
              "      background-color: #E8F0FE;\n",
              "      border: none;\n",
              "      border-radius: 50%;\n",
              "      cursor: pointer;\n",
              "      display: none;\n",
              "      fill: #1967D2;\n",
              "      height: 32px;\n",
              "      padding: 0 0 0 0;\n",
              "      width: 32px;\n",
              "    }\n",
              "\n",
              "    .colab-df-convert:hover {\n",
              "      background-color: #E2EBFA;\n",
              "      box-shadow: 0px 1px 2px rgba(60, 64, 67, 0.3), 0px 1px 3px 1px rgba(60, 64, 67, 0.15);\n",
              "      fill: #174EA6;\n",
              "    }\n",
              "\n",
              "    [theme=dark] .colab-df-convert {\n",
              "      background-color: #3B4455;\n",
              "      fill: #D2E3FC;\n",
              "    }\n",
              "\n",
              "    [theme=dark] .colab-df-convert:hover {\n",
              "      background-color: #434B5C;\n",
              "      box-shadow: 0px 1px 3px 1px rgba(0, 0, 0, 0.15);\n",
              "      filter: drop-shadow(0px 1px 2px rgba(0, 0, 0, 0.3));\n",
              "      fill: #FFFFFF;\n",
              "    }\n",
              "  </style>\n",
              "\n",
              "      <script>\n",
              "        const buttonEl =\n",
              "          document.querySelector('#df-46167f3c-3f6a-487b-903e-83ce71ae41a6 button.colab-df-convert');\n",
              "        buttonEl.style.display =\n",
              "          google.colab.kernel.accessAllowed ? 'block' : 'none';\n",
              "\n",
              "        async function convertToInteractive(key) {\n",
              "          const element = document.querySelector('#df-46167f3c-3f6a-487b-903e-83ce71ae41a6');\n",
              "          const dataTable =\n",
              "            await google.colab.kernel.invokeFunction('convertToInteractive',\n",
              "                                                     [key], {});\n",
              "          if (!dataTable) return;\n",
              "\n",
              "          const docLinkHtml = 'Like what you see? Visit the ' +\n",
              "            '<a target=\"_blank\" href=https://colab.research.google.com/notebooks/data_table.ipynb>data table notebook</a>'\n",
              "            + ' to learn more about interactive tables.';\n",
              "          element.innerHTML = '';\n",
              "          dataTable['output_type'] = 'display_data';\n",
              "          await google.colab.output.renderOutput(dataTable, element);\n",
              "          const docLink = document.createElement('div');\n",
              "          docLink.innerHTML = docLinkHtml;\n",
              "          element.appendChild(docLink);\n",
              "        }\n",
              "      </script>\n",
              "    </div>\n",
              "  </div>\n"
            ],
            "text/plain": [
              "      customer_id  credit_score  country  gender  age  tenure    balance  \\\n",
              "0        15634602           619   France  Female   42       2       0.00   \n",
              "1        15647311           608    Spain  Female   41       1   83807.86   \n",
              "2        15619304           502   France  Female   42       8  159660.80   \n",
              "3        15701354           699   France  Female   39       1       0.00   \n",
              "4        15737888           850    Spain  Female   43       2  125510.82   \n",
              "...           ...           ...      ...     ...  ...     ...        ...   \n",
              "9995     15606229           771   France    Male   39       5       0.00   \n",
              "9996     15569892           516   France    Male   35      10   57369.61   \n",
              "9997     15584532           709   France  Female   36       7       0.00   \n",
              "9998     15682355           772  Germany    Male   42       3   75075.31   \n",
              "9999     15628319           792   France  Female   28       4  130142.79   \n",
              "\n",
              "      products_number  credit_card  active_member  estimated_salary  churn  \n",
              "0                   1            1              1         101348.88      1  \n",
              "1                   1            0              1         112542.58      0  \n",
              "2                   3            1              0         113931.57      1  \n",
              "3                   2            0              0          93826.63      0  \n",
              "4                   1            1              1          79084.10      0  \n",
              "...               ...          ...            ...               ...    ...  \n",
              "9995                2            1              0          96270.64      0  \n",
              "9996                1            1              1         101699.77      0  \n",
              "9997                1            0              1          42085.58      1  \n",
              "9998                2            1              0          92888.52      1  \n",
              "9999                1            1              0          38190.78      0  \n",
              "\n",
              "[10000 rows x 12 columns]"
            ]
          },
          "execution_count": 4,
          "metadata": {},
          "output_type": "execute_result"
        }
      ],
      "source": [
        "df"
      ]
    },
    {
      "cell_type": "code",
      "execution_count": null,
      "id": "8111bffe",
      "metadata": {
        "execution": {
          "iopub.execute_input": "2023-08-11T14:43:45.695092Z",
          "iopub.status.busy": "2023-08-11T14:43:45.694676Z",
          "iopub.status.idle": "2023-08-11T14:43:45.704142Z",
          "shell.execute_reply": "2023-08-11T14:43:45.702950Z"
        },
        "id": "8111bffe",
        "papermill": {
          "duration": 0.026909,
          "end_time": "2023-08-11T14:43:45.706569",
          "exception": false,
          "start_time": "2023-08-11T14:43:45.679660",
          "status": "completed"
        },
        "tags": []
      },
      "outputs": [],
      "source": [
        "df.drop(columns=['country'],inplace=True)"
      ]
    },
    {
      "cell_type": "code",
      "execution_count": null,
      "id": "8b764dde",
      "metadata": {
        "colab": {
          "base_uri": "https://localhost:8080/"
        },
        "execution": {
          "iopub.execute_input": "2023-08-11T14:43:45.735384Z",
          "iopub.status.busy": "2023-08-11T14:43:45.735005Z",
          "iopub.status.idle": "2023-08-11T14:43:45.761602Z",
          "shell.execute_reply": "2023-08-11T14:43:45.760629Z"
        },
        "id": "8b764dde",
        "outputId": "399c4414-c172-4c00-823f-1ba6f3e10a0d",
        "papermill": {
          "duration": 0.044008,
          "end_time": "2023-08-11T14:43:45.764132",
          "exception": false,
          "start_time": "2023-08-11T14:43:45.720124",
          "status": "completed"
        },
        "tags": []
      },
      "outputs": [
        {
          "name": "stdout",
          "output_type": "stream",
          "text": [
            "<class 'pandas.core.frame.DataFrame'>\n",
            "RangeIndex: 10000 entries, 0 to 9999\n",
            "Data columns (total 9 columns):\n",
            " #   Column            Non-Null Count  Dtype  \n",
            "---  ------            --------------  -----  \n",
            " 0   credit_score      10000 non-null  int64  \n",
            " 1   age               10000 non-null  int64  \n",
            " 2   tenure            10000 non-null  int64  \n",
            " 3   balance           10000 non-null  float64\n",
            " 4   products_number   10000 non-null  int64  \n",
            " 5   credit_card       10000 non-null  int64  \n",
            " 6   active_member     10000 non-null  int64  \n",
            " 7   estimated_salary  10000 non-null  float64\n",
            " 8   churn             10000 non-null  int64  \n",
            "dtypes: float64(2), int64(7)\n",
            "memory usage: 703.2 KB\n",
            "None\n"
          ]
        }
      ],
      "source": [
        "# Display basic information about the DataFrame\n",
        "print(df.info())"
      ]
    },
    {
      "cell_type": "code",
      "execution_count": null,
      "id": "3e5f21fe",
      "metadata": {
        "colab": {
          "base_uri": "https://localhost:8080/"
        },
        "execution": {
          "iopub.execute_input": "2023-08-11T14:43:45.793005Z",
          "iopub.status.busy": "2023-08-11T14:43:45.792612Z",
          "iopub.status.idle": "2023-08-11T14:43:45.831795Z",
          "shell.execute_reply": "2023-08-11T14:43:45.830564Z"
        },
        "id": "3e5f21fe",
        "outputId": "4aa53e54-e6cc-4ade-95c7-f517e9018831",
        "papermill": {
          "duration": 0.056804,
          "end_time": "2023-08-11T14:43:45.834452",
          "exception": false,
          "start_time": "2023-08-11T14:43:45.777648",
          "status": "completed"
        },
        "tags": []
      },
      "outputs": [
        {
          "name": "stdout",
          "output_type": "stream",
          "text": [
            "       credit_score           age        tenure        balance  \\\n",
            "count  10000.000000  10000.000000  10000.000000   10000.000000   \n",
            "mean     650.528800     38.921800      5.012800   76485.889288   \n",
            "std       96.653299     10.487806      2.892174   62397.405202   \n",
            "min      350.000000     18.000000      0.000000       0.000000   \n",
            "25%      584.000000     32.000000      3.000000       0.000000   \n",
            "50%      652.000000     37.000000      5.000000   97198.540000   \n",
            "75%      718.000000     44.000000      7.000000  127644.240000   \n",
            "max      850.000000     92.000000     10.000000  250898.090000   \n",
            "\n",
            "       products_number  credit_card  active_member  estimated_salary  \\\n",
            "count     10000.000000  10000.00000   10000.000000      10000.000000   \n",
            "mean          1.530200      0.70550       0.515100     100090.239881   \n",
            "std           0.581654      0.45584       0.499797      57510.492818   \n",
            "min           1.000000      0.00000       0.000000         11.580000   \n",
            "25%           1.000000      0.00000       0.000000      51002.110000   \n",
            "50%           1.000000      1.00000       1.000000     100193.915000   \n",
            "75%           2.000000      1.00000       1.000000     149388.247500   \n",
            "max           4.000000      1.00000       1.000000     199992.480000   \n",
            "\n",
            "              churn  \n",
            "count  10000.000000  \n",
            "mean       0.203700  \n",
            "std        0.402769  \n",
            "min        0.000000  \n",
            "25%        0.000000  \n",
            "50%        0.000000  \n",
            "75%        0.000000  \n",
            "max        1.000000  \n"
          ]
        }
      ],
      "source": [
        "# Display summary statistics of numerical columns\n",
        "print(df.describe())"
      ]
    },
    {
      "cell_type": "code",
      "execution_count": null,
      "id": "ba222298",
      "metadata": {
        "colab": {
          "base_uri": "https://localhost:8080/"
        },
        "execution": {
          "iopub.execute_input": "2023-08-11T14:43:45.863963Z",
          "iopub.status.busy": "2023-08-11T14:43:45.863587Z",
          "iopub.status.idle": "2023-08-11T14:43:45.877976Z",
          "shell.execute_reply": "2023-08-11T14:43:45.876551Z"
        },
        "id": "ba222298",
        "outputId": "a5d26ad7-73d2-47fe-ed3f-7fa36ac2c4d4",
        "papermill": {
          "duration": 0.031992,
          "end_time": "2023-08-11T14:43:45.880223",
          "exception": false,
          "start_time": "2023-08-11T14:43:45.848231",
          "status": "completed"
        },
        "tags": []
      },
      "outputs": [
        {
          "name": "stdout",
          "output_type": "stream",
          "text": [
            "credit_score        0\n",
            "age                 0\n",
            "tenure              0\n",
            "balance             0\n",
            "products_number     0\n",
            "credit_card         0\n",
            "active_member       0\n",
            "estimated_salary    0\n",
            "churn               0\n",
            "dtype: int64\n"
          ]
        }
      ],
      "source": [
        "# Count the number of missing values in each column\n",
        "print(df.isnull().sum())"
      ]
    },
    {
      "cell_type": "code",
      "execution_count": null,
      "id": "bb82b914",
      "metadata": {
        "colab": {
          "base_uri": "https://localhost:8080/"
        },
        "execution": {
          "iopub.execute_input": "2023-08-11T14:43:45.910109Z",
          "iopub.status.busy": "2023-08-11T14:43:45.909678Z",
          "iopub.status.idle": "2023-08-11T14:43:45.925444Z",
          "shell.execute_reply": "2023-08-11T14:43:45.924626Z"
        },
        "id": "bb82b914",
        "outputId": "2fd5ed87-4cc3-4626-c252-3ef737c8f1ea",
        "papermill": {
          "duration": 0.033688,
          "end_time": "2023-08-11T14:43:45.927671",
          "exception": false,
          "start_time": "2023-08-11T14:43:45.893983",
          "status": "completed"
        },
        "tags": []
      },
      "outputs": [
        {
          "data": {
            "text/plain": [
              "0"
            ]
          },
          "execution_count": 15,
          "metadata": {},
          "output_type": "execute_result"
        }
      ],
      "source": [
        "# Count the number of duplicated values\n",
        "df.duplicated().sum()"
      ]
    },
    {
      "cell_type": "code",
      "execution_count": null,
      "id": "bd403192",
      "metadata": {
        "colab": {
          "base_uri": "https://localhost:8080/",
          "height": 774
        },
        "execution": {
          "iopub.execute_input": "2023-08-11T14:43:45.957175Z",
          "iopub.status.busy": "2023-08-11T14:43:45.956746Z",
          "iopub.status.idle": "2023-08-11T14:43:46.653552Z",
          "shell.execute_reply": "2023-08-11T14:43:46.652295Z"
        },
        "id": "bd403192",
        "outputId": "5aa92537-ee88-4047-ac59-a1b2fb8a0f21",
        "papermill": {
          "duration": 0.716213,
          "end_time": "2023-08-11T14:43:46.657738",
          "exception": false,
          "start_time": "2023-08-11T14:43:45.941525",
          "status": "completed"
        },
        "tags": []
      },
      "outputs": [
        {
          "data": {
            "image/png": "[encoded data removed]",
            "text/plain": [
              "<Figure size 1200x800 with 2 Axes>"
            ]
          },
          "metadata": {},
          "output_type": "display_data"
        }
      ],
      "source": [
        "# Visualize the correlation matrix using a heatmap\n",
        "corr_matrix = df.corr()\n",
        "plt.figure(figsize=(12, 8))\n",
        "sns.heatmap(corr_matrix, annot=True, cmap='coolwarm', linewidths=0.5)\n",
        "plt.title('Correlation Matrix')\n",
        "plt.show()"
      ]
    },
    {
      "cell_type": "code",
      "execution_count": null,
      "id": "c8f5eaa8",
      "metadata": {
        "colab": {
          "base_uri": "https://localhost:8080/",
          "height": 680
        },
        "execution": {
          "iopub.execute_input": "2023-08-11T14:43:46.693291Z",
          "iopub.status.busy": "2023-08-11T14:43:46.692388Z",
          "iopub.status.idle": "2023-08-11T14:43:48.301608Z",
          "shell.execute_reply": "2023-08-11T14:43:48.300466Z"
        },
        "id": "c8f5eaa8",
        "outputId": "0cf7c8cc-3624-47cd-d657-26e8fccc9a7f",
        "papermill": {
          "duration": 1.631592,
          "end_time": "2023-08-11T14:43:48.305321",
          "exception": false,
          "start_time": "2023-08-11T14:43:46.673729",
          "status": "completed"
        },
        "tags": []
      },
      "outputs": [
        {
          "data": {
            "image/png": "[encoded data removed]",
            "text/plain": [
              "<Figure size 1200x800 with 6 Axes>"
            ]
          },
          "metadata": {},
          "output_type": "display_data"
        }
      ],
      "source": [
        "# Visualize the distribution of numeric features\n",
        "numeric_features = ['credit_score', 'age', 'tenure', 'balance', 'products_number', 'estimated_salary']\n",
        "df[numeric_features].hist(bins=30, figsize=(12, 8))\n",
        "plt.show()"
      ]
    },
    {
      "cell_type": "code",
      "execution_count": null,
      "id": "cd023294",
      "metadata": {
        "execution": {
          "iopub.execute_input": "2023-08-11T14:43:48.345932Z",
          "iopub.status.busy": "2023-08-11T14:43:48.345481Z",
          "iopub.status.idle": "2023-08-11T14:43:49.572099Z",
          "shell.execute_reply": "2023-08-11T14:43:49.571096Z"
        },
        "id": "cd023294",
        "papermill": {
          "duration": 1.247895,
          "end_time": "2023-08-11T14:43:49.574741",
          "exception": false,
          "start_time": "2023-08-11T14:43:48.326846",
          "status": "completed"
        },
        "tags": []
      },
      "outputs": [],
      "source": [
        "# # Visualize the distribution of categorical features\n",
        "# categorical_features = ['country', 'gender', 'credit_card', 'active_member', 'churn']\n",
        "# for feature in categorical_features:\n",
        "#     sns.countplot(x=feature, data=df)\n",
        "#     plt.show()"
      ]
    },
    {
      "cell_type": "code",
      "execution_count": null,
      "id": "12f55d6c",
      "metadata": {
        "colab": {
          "base_uri": "https://localhost:8080/"
        },
        "execution": {
          "iopub.execute_input": "2023-08-11T14:43:49.613936Z",
          "iopub.status.busy": "2023-08-11T14:43:49.613536Z",
          "iopub.status.idle": "2023-08-11T14:43:49.622255Z",
          "shell.execute_reply": "2023-08-11T14:43:49.621173Z"
        },
        "id": "12f55d6c",
        "outputId": "7626bd49-6106-4222-b3f9-be7b9d24d4ef",
        "papermill": {
          "duration": 0.031506,
          "end_time": "2023-08-11T14:43:49.624773",
          "exception": false,
          "start_time": "2023-08-11T14:43:49.593267",
          "status": "completed"
        },
        "tags": []
      },
      "outputs": [
        {
          "data": {
            "text/plain": [
              "0    7963\n",
              "1    2037\n",
              "Name: churn, dtype: int64"
            ]
          },
          "execution_count": 20,
          "metadata": {},
          "output_type": "execute_result"
        }
      ],
      "source": [
        "df['churn'].value_counts()"
      ]
    },
    {
      "cell_type": "code",
      "execution_count": null,
      "id": "ca4e6e43",
      "metadata": {
        "id": "ca4e6e43",
        "papermill": {
          "duration": 0.017924,
          "end_time": "2023-08-11T14:43:49.661041",
          "exception": false,
          "start_time": "2023-08-11T14:43:49.643117",
          "status": "completed"
        },
        "tags": []
      },
      "outputs": [],
      "source": []
    },
    {
      "cell_type": "markdown",
      "id": "a4669f2d",
      "metadata": {
        "id": "a4669f2d",
        "papermill": {
          "duration": 0.017845,
          "end_time": "2023-08-11T14:43:49.697363",
          "exception": false,
          "start_time": "2023-08-11T14:43:49.679518",
          "status": "completed"
        },
        "tags": []
      },
      "source": [
        "## Data Preprocessing"
      ]
    },
    {
      "cell_type": "code",
      "execution_count": null,
      "id": "3aeb3ddc",
      "metadata": {
        "execution": {
          "iopub.execute_input": "2023-08-11T14:43:49.736079Z",
          "iopub.status.busy": "2023-08-11T14:43:49.735324Z",
          "iopub.status.idle": "2023-08-11T14:43:49.765941Z",
          "shell.execute_reply": "2023-08-11T14:43:49.764806Z"
        },
        "id": "3aeb3ddc",
        "papermill": {
          "duration": 0.052612,
          "end_time": "2023-08-11T14:43:49.768487",
          "exception": false,
          "start_time": "2023-08-11T14:43:49.715875",
          "status": "completed"
        },
        "tags": []
      },
      "outputs": [],
      "source": [
        "# #encoding categorical features\n",
        "# df=pd.get_dummies(df,columns=['country','gender'],drop_first=True)\n",
        "# df"
      ]
    },
    {
      "cell_type": "code",
      "execution_count": null,
      "id": "b5170c03",
      "metadata": {
        "execution": {
          "iopub.execute_input": "2023-08-11T14:43:49.807797Z",
          "iopub.status.busy": "2023-08-11T14:43:49.807383Z",
          "iopub.status.idle": "2023-08-11T14:43:50.086974Z",
          "shell.execute_reply": "2023-08-11T14:43:50.086104Z"
        },
        "id": "b5170c03",
        "papermill": {
          "duration": 0.302438,
          "end_time": "2023-08-11T14:43:50.089605",
          "exception": false,
          "start_time": "2023-08-11T14:43:49.787167",
          "status": "completed"
        },
        "tags": []
      },
      "outputs": [],
      "source": [
        "#Data Split\n",
        "X=df.drop(columns=[\"churn\"])\n",
        "y=df['churn']\n",
        "from sklearn.model_selection import train_test_split\n",
        "X_train,X_test,y_train,y_test=train_test_split(X,y,test_size=0.2)"
      ]
    },
    {
      "cell_type": "code",
      "execution_count": null,
      "id": "bf39cc90",
      "metadata": {
        "colab": {
          "base_uri": "https://localhost:8080/"
        },
        "execution": {
          "iopub.execute_input": "2023-08-11T14:43:50.130408Z",
          "iopub.status.busy": "2023-08-11T14:43:50.129675Z",
          "iopub.status.idle": "2023-08-11T14:43:50.150781Z",
          "shell.execute_reply": "2023-08-11T14:43:50.149615Z"
        },
        "id": "bf39cc90",
        "outputId": "b858f296-0365-45c6-a1d7-fa2ce88c9a94",
        "papermill": {
          "duration": 0.044504,
          "end_time": "2023-08-11T14:43:50.153187",
          "exception": false,
          "start_time": "2023-08-11T14:43:50.108683",
          "status": "completed"
        },
        "tags": []
      },
      "outputs": [
        {
          "data": {
            "text/plain": [
              "Index(['credit_score', 'age', 'tenure', 'balance', 'products_number',\n",
              "       'credit_card', 'active_member', 'estimated_salary'],\n",
              "      dtype='object')"
            ]
          },
          "execution_count": 55,
          "metadata": {},
          "output_type": "execute_result"
        }
      ],
      "source": [
        "X_train.columns"
      ]
    },
    {
      "cell_type": "code",
      "execution_count": null,
      "id": "d6e344a9",
      "metadata": {
        "colab": {
          "base_uri": "https://localhost:8080/"
        },
        "execution": {
          "iopub.execute_input": "2023-08-11T14:43:50.193813Z",
          "iopub.status.busy": "2023-08-11T14:43:50.193336Z",
          "iopub.status.idle": "2023-08-11T14:43:50.202270Z",
          "shell.execute_reply": "2023-08-11T14:43:50.200987Z"
        },
        "id": "d6e344a9",
        "outputId": "2fa3c4f8-6378-42c0-b144-d00cea1a58aa",
        "papermill": {
          "duration": 0.032017,
          "end_time": "2023-08-11T14:43:50.204558",
          "exception": false,
          "start_time": "2023-08-11T14:43:50.172541",
          "status": "completed"
        },
        "tags": []
      },
      "outputs": [
        {
          "data": {
            "text/plain": [
              "7382    0\n",
              "3992    0\n",
              "3150    0\n",
              "3721    0\n",
              "4298    0\n",
              "       ..\n",
              "1520    1\n",
              "7904    0\n",
              "8295    0\n",
              "9212    0\n",
              "7885    0\n",
              "Name: churn, Length: 8000, dtype: int64"
            ]
          },
          "execution_count": 26,
          "metadata": {},
          "output_type": "execute_result"
        }
      ],
      "source": [
        "y_train"
      ]
    },
    {
      "cell_type": "code",
      "execution_count": null,
      "id": "80ed0ff9",
      "metadata": {
        "execution": {
          "iopub.execute_input": "2023-08-11T14:43:50.245665Z",
          "iopub.status.busy": "2023-08-11T14:43:50.244762Z",
          "iopub.status.idle": "2023-08-11T14:43:50.259713Z",
          "shell.execute_reply": "2023-08-11T14:43:50.258297Z"
        },
        "id": "80ed0ff9",
        "papermill": {
          "duration": 0.038412,
          "end_time": "2023-08-11T14:43:50.262256",
          "exception": false,
          "start_time": "2023-08-11T14:43:50.223844",
          "status": "completed"
        },
        "tags": []
      },
      "outputs": [],
      "source": [
        "#Scale the Data\n",
        "from sklearn.preprocessing import StandardScaler\n",
        "Scaler = StandardScaler()\n",
        "X_trained_scaled=Scaler.fit_transform(X_train)\n",
        "X_test_scaled=Scaler.transform(X_test)"
      ]
    },
    {
      "cell_type": "code",
      "execution_count": null,
      "id": "03570639",
      "metadata": {
        "colab": {
          "base_uri": "https://localhost:8080/"
        },
        "execution": {
          "iopub.execute_input": "2023-08-11T14:43:50.302454Z",
          "iopub.status.busy": "2023-08-11T14:43:50.301998Z",
          "iopub.status.idle": "2023-08-11T14:43:50.308854Z",
          "shell.execute_reply": "2023-08-11T14:43:50.308096Z"
        },
        "id": "03570639",
        "outputId": "016bc8f8-80c1-457b-8337-b7dfab7a2c7b",
        "papermill": {
          "duration": 0.029682,
          "end_time": "2023-08-11T14:43:50.311172",
          "exception": false,
          "start_time": "2023-08-11T14:43:50.281490",
          "status": "completed"
        },
        "tags": []
      },
      "outputs": [
        {
          "data": {
            "text/plain": [
              "array([[-0.03562509, -1.04733683,  0.34034813, ...,  0.64317752,\n",
              "        -1.03408041,  0.03118671],\n",
              "       [ 0.82172187, -0.08856642, -1.73047328, ..., -1.5547807 ,\n",
              "        -1.03408041, -0.11345121],\n",
              "       [-0.80000672, -0.37619754,  1.37575883, ..., -1.5547807 ,\n",
              "         0.96704278,  0.04267421],\n",
              "       ...,\n",
              "       [ 0.73908602,  0.10318767,  0.34034813, ...,  0.64317752,\n",
              "         0.96704278,  0.19747701],\n",
              "       [ 0.23294143, -0.18444346,  1.72089573, ...,  0.64317752,\n",
              "         0.96704278, -1.09701714],\n",
              "       [ 1.46214973,  0.29494175, -1.73047328, ...,  0.64317752,\n",
              "        -1.03408041, -0.92758523]])"
            ]
          },
          "execution_count": 28,
          "metadata": {},
          "output_type": "execute_result"
        }
      ],
      "source": [
        "X_trained_scaled"
      ]
    },
    {
      "cell_type": "code",
      "execution_count": null,
      "id": "87966845",
      "metadata": {
        "colab": {
          "base_uri": "https://localhost:8080/"
        },
        "execution": {
          "iopub.execute_input": "2023-08-11T14:43:50.352415Z",
          "iopub.status.busy": "2023-08-11T14:43:50.351987Z",
          "iopub.status.idle": "2023-08-11T14:43:50.359968Z",
          "shell.execute_reply": "2023-08-11T14:43:50.358858Z"
        },
        "id": "87966845",
        "outputId": "a7b67a64-ed55-40ab-a521-b449b7f03e04",
        "papermill": {
          "duration": 0.031222,
          "end_time": "2023-08-11T14:43:50.362183",
          "exception": false,
          "start_time": "2023-08-11T14:43:50.330961",
          "status": "completed"
        },
        "tags": []
      },
      "outputs": [
        {
          "data": {
            "text/plain": [
              "array([[-0.05628405,  0.29494175,  0.34034813, ..., -1.5547807 ,\n",
              "        -1.03408041,  0.8564217 ],\n",
              "       [ 1.8133521 ,  1.63722032,  1.03062193, ..., -1.5547807 ,\n",
              "         0.96704278,  1.06490912],\n",
              "       [ 0.90435773, -0.2803205 , -0.00478877, ...,  0.64317752,\n",
              "         0.96704278, -0.06342786],\n",
              "       ...,\n",
              "       [ 0.54282587,  3.26713002, -0.00478877, ...,  0.64317752,\n",
              "         0.96704278,  1.02797032],\n",
              "       [-0.62440554, -0.2803205 , -1.38533638, ...,  0.64317752,\n",
              "        -1.03408041, -0.89774669],\n",
              "       [-0.18023783, -0.37619754,  1.72089573, ...,  0.64317752,\n",
              "        -1.03408041, -0.60578616]])"
            ]
          },
          "execution_count": 29,
          "metadata": {},
          "output_type": "execute_result"
        }
      ],
      "source": [
        "X_test_scaled"
      ]
    },
    {
      "cell_type": "markdown",
      "id": "36f108ef",
      "metadata": {
        "id": "36f108ef",
        "papermill": {
          "duration": 0.019124,
          "end_time": "2023-08-11T14:43:50.401002",
          "exception": false,
          "start_time": "2023-08-11T14:43:50.381878",
          "status": "completed"
        },
        "tags": []
      },
      "source": [
        "## Model training and Evalution"
      ]
    },
    {
      "cell_type": "code",
      "execution_count": null,
      "id": "b6e00f04",
      "metadata": {
        "execution": {
          "iopub.execute_input": "2023-08-11T14:43:50.442513Z",
          "iopub.status.busy": "2023-08-11T14:43:50.442045Z",
          "iopub.status.idle": "2023-08-11T14:43:59.209785Z",
          "shell.execute_reply": "2023-08-11T14:43:59.208768Z"
        },
        "id": "b6e00f04",
        "papermill": {
          "duration": 8.791577,
          "end_time": "2023-08-11T14:43:59.212611",
          "exception": false,
          "start_time": "2023-08-11T14:43:50.421034",
          "status": "completed"
        },
        "tags": []
      },
      "outputs": [],
      "source": [
        "import tensorflow\n",
        "from tensorflow import keras\n",
        "from tensorflow.keras import Sequential\n",
        "from tensorflow.keras.layers import Dense"
      ]
    },
    {
      "cell_type": "markdown",
      "id": "ee77abad",
      "metadata": {
        "id": "ee77abad",
        "papermill": {
          "duration": 0.019402,
          "end_time": "2023-08-11T14:43:59.252454",
          "exception": false,
          "start_time": "2023-08-11T14:43:59.233052",
          "status": "completed"
        },
        "tags": []
      },
      "source": [
        "There are 2 types of models in keras Sequential or Non-Sequential"
      ]
    },
    {
      "cell_type": "code",
      "execution_count": null,
      "id": "b2d2ff72",
      "metadata": {
        "execution": {
          "iopub.execute_input": "2023-08-11T14:43:59.294285Z",
          "iopub.status.busy": "2023-08-11T14:43:59.293454Z",
          "iopub.status.idle": "2023-08-11T14:43:59.298699Z",
          "shell.execute_reply": "2023-08-11T14:43:59.297676Z"
        },
        "id": "b2d2ff72",
        "papermill": {
          "duration": 0.0289,
          "end_time": "2023-08-11T14:43:59.301098",
          "exception": false,
          "start_time": "2023-08-11T14:43:59.272198",
          "status": "completed"
        },
        "tags": []
      },
      "outputs": [],
      "source": [
        "# #Create a sequential model\n",
        "# model=Sequential()\n",
        "# #Add a hidden layer with 3 units and sigmoid activation function, expecting input of dimension 11\n",
        "# model.add(Dense(3,activation='sigmoid',input_dim=11))\n",
        "# #Add an output layer with 1 unit and sigmoid activation function\n",
        "# model.add(Dense(1,activation='sigmoid'))"
      ]
    },
    {
      "cell_type": "markdown",
      "id": "d3a835d4",
      "metadata": {
        "id": "d3a835d4",
        "papermill": {
          "duration": 0.019465,
          "end_time": "2023-08-11T14:43:59.340218",
          "exception": false,
          "start_time": "2023-08-11T14:43:59.320753",
          "status": "completed"
        },
        "tags": []
      },
      "source": [
        "Increase layers"
      ]
    },
    {
      "cell_type": "code",
      "execution_count": null,
      "id": "61e36902",
      "metadata": {
        "execution": {
          "iopub.execute_input": "2023-08-11T14:43:59.381725Z",
          "iopub.status.busy": "2023-08-11T14:43:59.381321Z",
          "iopub.status.idle": "2023-08-11T14:43:59.572716Z",
          "shell.execute_reply": "2023-08-11T14:43:59.571839Z"
        },
        "id": "61e36902",
        "papermill": {
          "duration": 0.215328,
          "end_time": "2023-08-11T14:43:59.575413",
          "exception": false,
          "start_time": "2023-08-11T14:43:59.360085",
          "status": "completed"
        },
        "tags": []
      },
      "outputs": [],
      "source": [
        "#Create a sequential model\n",
        "model=Sequential()\n",
        "#Add a hidden layer with 11 units and relu activation function, expecting input of dimension 11\n",
        "model.add(Dense(11,activation='relu',input_dim=8))\n",
        "#Add a hidden layer with 11 units\n",
        "model.add(Dense(11,activation='relu'))\n",
        "#Add an output layer with 1 unit and sigmoid activation function\n",
        "model.add(Dense(1,activation='sigmoid'))"
      ]
    },
    {
      "cell_type": "code",
      "execution_count": null,
      "id": "7ae359ca",
      "metadata": {
        "colab": {
          "base_uri": "https://localhost:8080/"
        },
        "execution": {
          "iopub.execute_input": "2023-08-11T14:43:59.617757Z",
          "iopub.status.busy": "2023-08-11T14:43:59.617355Z",
          "iopub.status.idle": "2023-08-11T14:43:59.636612Z",
          "shell.execute_reply": "2023-08-11T14:43:59.635437Z"
        },
        "id": "7ae359ca",
        "outputId": "d6c86539-36c3-4631-caa6-cc8668aa73c5",
        "papermill": {
          "duration": 0.046354,
          "end_time": "2023-08-11T14:43:59.642215",
          "exception": false,
          "start_time": "2023-08-11T14:43:59.595861",
          "status": "completed"
        },
        "tags": []
      },
      "outputs": [
        {
          "name": "stdout",
          "output_type": "stream",
          "text": [
            "Model: \"sequential_1\"\n",
            "_________________________________________________________________\n",
            " Layer (type)                Output Shape              Param #   \n",
            "=================================================================\n",
            " dense_3 (Dense)             (None, 11)                99        \n",
            "                                                                 \n",
            " dense_4 (Dense)             (None, 11)                132       \n",
            "                                                                 \n",
            " dense_5 (Dense)             (None, 1)                 12        \n",
            "                                                                 \n",
            "=================================================================\n",
            "Total params: 243\n",
            "Trainable params: 243\n",
            "Non-trainable params: 0\n",
            "_________________________________________________________________\n"
          ]
        }
      ],
      "source": [
        "#Print a summary of the model architecture\n",
        "model.summary()"
      ]
    },
    {
      "cell_type": "code",
      "execution_count": null,
      "id": "2b5ab690",
      "metadata": {
        "execution": {
          "iopub.execute_input": "2023-08-11T14:43:59.686375Z",
          "iopub.status.busy": "2023-08-11T14:43:59.685966Z",
          "iopub.status.idle": "2023-08-11T14:43:59.690478Z",
          "shell.execute_reply": "2023-08-11T14:43:59.689549Z"
        },
        "id": "2b5ab690",
        "papermill": {
          "duration": 0.029559,
          "end_time": "2023-08-11T14:43:59.692674",
          "exception": false,
          "start_time": "2023-08-11T14:43:59.663115",
          "status": "completed"
        },
        "tags": []
      },
      "outputs": [],
      "source": [
        "# #Compile the model with binary crossentropy loss and Adam optimizer\n",
        "# model.compile(loss='binary_crossentropy',optimizer='Adam')"
      ]
    },
    {
      "cell_type": "code",
      "execution_count": null,
      "id": "934df690",
      "metadata": {
        "execution": {
          "iopub.execute_input": "2023-08-11T14:43:59.738296Z",
          "iopub.status.busy": "2023-08-11T14:43:59.737906Z",
          "iopub.status.idle": "2023-08-11T14:44:00.014571Z",
          "shell.execute_reply": "2023-08-11T14:44:00.013324Z"
        },
        "id": "934df690",
        "papermill": {
          "duration": 0.304133,
          "end_time": "2023-08-11T14:44:00.017910",
          "exception": false,
          "start_time": "2023-08-11T14:43:59.713777",
          "status": "completed"
        },
        "tags": []
      },
      "outputs": [],
      "source": [
        "model.compile(loss='binary_crossentropy',optimizer='Adam',metrics=['accuracy'])"
      ]
    },
    {
      "cell_type": "code",
      "execution_count": null,
      "id": "67ad68f7",
      "metadata": {
        "colab": {
          "base_uri": "https://localhost:8080/"
        },
        "execution": {
          "iopub.execute_input": "2023-08-11T14:44:00.063052Z",
          "iopub.status.busy": "2023-08-11T14:44:00.062604Z",
          "iopub.status.idle": "2023-08-11T14:45:23.028155Z",
          "shell.execute_reply": "2023-08-11T14:45:23.026877Z"
        },
        "id": "67ad68f7",
        "outputId": "6c4bbde5-283e-4c7f-a197-7be5526546f4",
        "papermill": {
          "duration": 82.991403,
          "end_time": "2023-08-11T14:45:23.031201",
          "exception": false,
          "start_time": "2023-08-11T14:44:00.039798",
          "status": "completed"
        },
        "tags": []
      },
      "outputs": [
        {
          "name": "stdout",
          "output_type": "stream",
          "text": [
            "Epoch 1/100\n",
            "200/200 [==============================] - 2s 4ms/step - loss: 0.5325 - accuracy: 0.7842 - val_loss: 0.4760 - val_accuracy: 0.7975\n",
            "Epoch 2/100\n",
            "200/200 [==============================] - 1s 3ms/step - loss: 0.4646 - accuracy: 0.7987 - val_loss: 0.4506 - val_accuracy: 0.8081\n",
            "Epoch 3/100\n",
            "200/200 [==============================] - 1s 3ms/step - loss: 0.4447 - accuracy: 0.8041 - val_loss: 0.4391 - val_accuracy: 0.8050\n",
            "Epoch 4/100\n",
            "200/200 [==============================] - 0s 2ms/step - loss: 0.4319 - accuracy: 0.8105 - val_loss: 0.4283 - val_accuracy: 0.8112\n",
            "Epoch 5/100\n",
            "200/200 [==============================] - 1s 3ms/step - loss: 0.4205 - accuracy: 0.8150 - val_loss: 0.4177 - val_accuracy: 0.8175\n",
            "Epoch 6/100\n",
            "200/200 [==============================] - 0s 2ms/step - loss: 0.4093 - accuracy: 0.8211 - val_loss: 0.4073 - val_accuracy: 0.8231\n",
            "Epoch 7/100\n",
            "200/200 [==============================] - 0s 2ms/step - loss: 0.3992 - accuracy: 0.8252 - val_loss: 0.3984 - val_accuracy: 0.8256\n",
            "Epoch 8/100\n",
            "200/200 [==============================] - 0s 2ms/step - loss: 0.3904 - accuracy: 0.8291 - val_loss: 0.3908 - val_accuracy: 0.8275\n",
            "Epoch 9/100\n",
            "200/200 [==============================] - 0s 2ms/step - loss: 0.3832 - accuracy: 0.8319 - val_loss: 0.3855 - val_accuracy: 0.8300\n",
            "Epoch 10/100\n",
            "200/200 [==============================] - 0s 2ms/step - loss: 0.3780 - accuracy: 0.8359 - val_loss: 0.3825 - val_accuracy: 0.8369\n",
            "Epoch 11/100\n",
            "200/200 [==============================] - 0s 2ms/step - loss: 0.3736 - accuracy: 0.8416 - val_loss: 0.3794 - val_accuracy: 0.8388\n",
            "Epoch 12/100\n",
            "200/200 [==============================] - 0s 2ms/step - loss: 0.3707 - accuracy: 0.8442 - val_loss: 0.3773 - val_accuracy: 0.8400\n",
            "Epoch 13/100\n",
            "200/200 [==============================] - 1s 3ms/step - loss: 0.3686 - accuracy: 0.8439 - val_loss: 0.3772 - val_accuracy: 0.8425\n",
            "Epoch 14/100\n",
            "200/200 [==============================] - 1s 3ms/step - loss: 0.3667 - accuracy: 0.8472 - val_loss: 0.3758 - val_accuracy: 0.8431\n",
            "Epoch 15/100\n",
            "200/200 [==============================] - 1s 3ms/step - loss: 0.3658 - accuracy: 0.8459 - val_loss: 0.3734 - val_accuracy: 0.8475\n",
            "Epoch 16/100\n",
            "200/200 [==============================] - 1s 3ms/step - loss: 0.3641 - accuracy: 0.8473 - val_loss: 0.3733 - val_accuracy: 0.8487\n",
            "Epoch 17/100\n",
            "200/200 [==============================] - 1s 3ms/step - loss: 0.3633 - accuracy: 0.8466 - val_loss: 0.3724 - val_accuracy: 0.8487\n",
            "Epoch 18/100\n",
            "200/200 [==============================] - 0s 2ms/step - loss: 0.3612 - accuracy: 0.8491 - val_loss: 0.3716 - val_accuracy: 0.8500\n",
            "Epoch 19/100\n",
            "200/200 [==============================] - 0s 2ms/step - loss: 0.3610 - accuracy: 0.8477 - val_loss: 0.3703 - val_accuracy: 0.8475\n",
            "Epoch 20/100\n",
            "200/200 [==============================] - 0s 2ms/step - loss: 0.3601 - accuracy: 0.8492 - val_loss: 0.3706 - val_accuracy: 0.8494\n",
            "Epoch 21/100\n",
            "200/200 [==============================] - 0s 2ms/step - loss: 0.3595 - accuracy: 0.8477 - val_loss: 0.3705 - val_accuracy: 0.8494\n",
            "Epoch 22/100\n",
            "200/200 [==============================] - 0s 2ms/step - loss: 0.3596 - accuracy: 0.8487 - val_loss: 0.3696 - val_accuracy: 0.8537\n",
            "Epoch 23/100\n",
            "200/200 [==============================] - 0s 2ms/step - loss: 0.3582 - accuracy: 0.8497 - val_loss: 0.3682 - val_accuracy: 0.8525\n",
            "Epoch 24/100\n",
            "200/200 [==============================] - 0s 2ms/step - loss: 0.3581 - accuracy: 0.8495 - val_loss: 0.3696 - val_accuracy: 0.8519\n",
            "Epoch 25/100\n",
            "200/200 [==============================] - 0s 2ms/step - loss: 0.3576 - accuracy: 0.8497 - val_loss: 0.3712 - val_accuracy: 0.8544\n",
            "Epoch 26/100\n",
            "200/200 [==============================] - 0s 2ms/step - loss: 0.3571 - accuracy: 0.8500 - val_loss: 0.3674 - val_accuracy: 0.8550\n",
            "Epoch 27/100\n",
            "200/200 [==============================] - 0s 2ms/step - loss: 0.3567 - accuracy: 0.8498 - val_loss: 0.3670 - val_accuracy: 0.8531\n",
            "Epoch 28/100\n",
            "200/200 [==============================] - 0s 2ms/step - loss: 0.3561 - accuracy: 0.8497 - val_loss: 0.3669 - val_accuracy: 0.8531\n",
            "Epoch 29/100\n",
            "200/200 [==============================] - 0s 2ms/step - loss: 0.3561 - accuracy: 0.8492 - val_loss: 0.3662 - val_accuracy: 0.8512\n",
            "Epoch 30/100\n",
            "200/200 [==============================] - 0s 2ms/step - loss: 0.3556 - accuracy: 0.8506 - val_loss: 0.3657 - val_accuracy: 0.8550\n",
            "Epoch 31/100\n",
            "200/200 [==============================] - 1s 2ms/step - loss: 0.3551 - accuracy: 0.8519 - val_loss: 0.3666 - val_accuracy: 0.8569\n",
            "Epoch 32/100\n",
            "200/200 [==============================] - 0s 2ms/step - loss: 0.3549 - accuracy: 0.8528 - val_loss: 0.3648 - val_accuracy: 0.8544\n",
            "Epoch 33/100\n",
            "200/200 [==============================] - 1s 2ms/step - loss: 0.3541 - accuracy: 0.8509 - val_loss: 0.3642 - val_accuracy: 0.8519\n",
            "Epoch 34/100\n",
            "200/200 [==============================] - 0s 2ms/step - loss: 0.3536 - accuracy: 0.8512 - val_loss: 0.3653 - val_accuracy: 0.8500\n",
            "Epoch 35/100\n",
            "200/200 [==============================] - 0s 2ms/step - loss: 0.3537 - accuracy: 0.8522 - val_loss: 0.3650 - val_accuracy: 0.8525\n",
            "Epoch 36/100\n",
            "200/200 [==============================] - 0s 2ms/step - loss: 0.3531 - accuracy: 0.8511 - val_loss: 0.3646 - val_accuracy: 0.8556\n",
            "Epoch 37/100\n",
            "200/200 [==============================] - 0s 2ms/step - loss: 0.3531 - accuracy: 0.8525 - val_loss: 0.3653 - val_accuracy: 0.8506\n",
            "Epoch 38/100\n",
            "200/200 [==============================] - 0s 2ms/step - loss: 0.3527 - accuracy: 0.8516 - val_loss: 0.3628 - val_accuracy: 0.8519\n",
            "Epoch 39/100\n",
            "200/200 [==============================] - 0s 2ms/step - loss: 0.3526 - accuracy: 0.8522 - val_loss: 0.3629 - val_accuracy: 0.8500\n",
            "Epoch 40/100\n",
            "200/200 [==============================] - 1s 3ms/step - loss: 0.3526 - accuracy: 0.8530 - val_loss: 0.3625 - val_accuracy: 0.8494\n",
            "Epoch 41/100\n",
            "200/200 [==============================] - 1s 3ms/step - loss: 0.3520 - accuracy: 0.8528 - val_loss: 0.3626 - val_accuracy: 0.8519\n",
            "Epoch 42/100\n",
            "200/200 [==============================] - 1s 3ms/step - loss: 0.3515 - accuracy: 0.8528 - val_loss: 0.3645 - val_accuracy: 0.8512\n",
            "Epoch 43/100\n",
            "200/200 [==============================] - 1s 3ms/step - loss: 0.3513 - accuracy: 0.8528 - val_loss: 0.3619 - val_accuracy: 0.8512\n",
            "Epoch 44/100\n",
            "200/200 [==============================] - 1s 3ms/step - loss: 0.3512 - accuracy: 0.8528 - val_loss: 0.3629 - val_accuracy: 0.8569\n",
            "Epoch 45/100\n",
            "200/200 [==============================] - 0s 2ms/step - loss: 0.3509 - accuracy: 0.8528 - val_loss: 0.3620 - val_accuracy: 0.8537\n",
            "Epoch 46/100\n",
            "200/200 [==============================] - 0s 2ms/step - loss: 0.3510 - accuracy: 0.8520 - val_loss: 0.3621 - val_accuracy: 0.8544\n",
            "Epoch 47/100\n",
            "200/200 [==============================] - 0s 2ms/step - loss: 0.3507 - accuracy: 0.8514 - val_loss: 0.3613 - val_accuracy: 0.8525\n",
            "Epoch 48/100\n",
            "200/200 [==============================] - 0s 2ms/step - loss: 0.3502 - accuracy: 0.8528 - val_loss: 0.3613 - val_accuracy: 0.8519\n",
            "Epoch 49/100\n",
            "200/200 [==============================] - 0s 2ms/step - loss: 0.3499 - accuracy: 0.8533 - val_loss: 0.3610 - val_accuracy: 0.8550\n",
            "Epoch 50/100\n",
            "200/200 [==============================] - 0s 2ms/step - loss: 0.3493 - accuracy: 0.8530 - val_loss: 0.3645 - val_accuracy: 0.8575\n",
            "Epoch 51/100\n",
            "200/200 [==============================] - 0s 2ms/step - loss: 0.3495 - accuracy: 0.8523 - val_loss: 0.3616 - val_accuracy: 0.8525\n",
            "Epoch 52/100\n",
            "200/200 [==============================] - 0s 2ms/step - loss: 0.3497 - accuracy: 0.8548 - val_loss: 0.3612 - val_accuracy: 0.8587\n",
            "Epoch 53/100\n",
            "200/200 [==============================] - 0s 2ms/step - loss: 0.3498 - accuracy: 0.8528 - val_loss: 0.3602 - val_accuracy: 0.8581\n",
            "Epoch 54/100\n",
            "200/200 [==============================] - 0s 2ms/step - loss: 0.3491 - accuracy: 0.8544 - val_loss: 0.3594 - val_accuracy: 0.8550\n",
            "Epoch 55/100\n",
            "200/200 [==============================] - 0s 2ms/step - loss: 0.3495 - accuracy: 0.8522 - val_loss: 0.3595 - val_accuracy: 0.8575\n",
            "Epoch 56/100\n",
            "200/200 [==============================] - 0s 2ms/step - loss: 0.3488 - accuracy: 0.8534 - val_loss: 0.3592 - val_accuracy: 0.8581\n",
            "Epoch 57/100\n",
            "200/200 [==============================] - 0s 2ms/step - loss: 0.3484 - accuracy: 0.8530 - val_loss: 0.3600 - val_accuracy: 0.8512\n",
            "Epoch 58/100\n",
            "200/200 [==============================] - 0s 2ms/step - loss: 0.3484 - accuracy: 0.8534 - val_loss: 0.3594 - val_accuracy: 0.8506\n",
            "Epoch 59/100\n",
            "200/200 [==============================] - 0s 2ms/step - loss: 0.3483 - accuracy: 0.8555 - val_loss: 0.3592 - val_accuracy: 0.8562\n",
            "Epoch 60/100\n",
            "200/200 [==============================] - 0s 2ms/step - loss: 0.3482 - accuracy: 0.8536 - val_loss: 0.3592 - val_accuracy: 0.8525\n",
            "Epoch 61/100\n",
            "200/200 [==============================] - 0s 2ms/step - loss: 0.3480 - accuracy: 0.8533 - val_loss: 0.3595 - val_accuracy: 0.8550\n",
            "Epoch 62/100\n",
            "200/200 [==============================] - 0s 2ms/step - loss: 0.3479 - accuracy: 0.8522 - val_loss: 0.3601 - val_accuracy: 0.8531\n",
            "Epoch 63/100\n",
            "200/200 [==============================] - 0s 2ms/step - loss: 0.3478 - accuracy: 0.8537 - val_loss: 0.3589 - val_accuracy: 0.8556\n",
            "Epoch 64/100\n",
            "200/200 [==============================] - 0s 2ms/step - loss: 0.3481 - accuracy: 0.8537 - val_loss: 0.3592 - val_accuracy: 0.8519\n",
            "Epoch 65/100\n",
            "200/200 [==============================] - 0s 2ms/step - loss: 0.3476 - accuracy: 0.8533 - val_loss: 0.3582 - val_accuracy: 0.8550\n",
            "Epoch 66/100\n",
            "200/200 [==============================] - 0s 2ms/step - loss: 0.3474 - accuracy: 0.8533 - val_loss: 0.3604 - val_accuracy: 0.8531\n",
            "Epoch 67/100\n",
            "200/200 [==============================] - 0s 2ms/step - loss: 0.3473 - accuracy: 0.8523 - val_loss: 0.3583 - val_accuracy: 0.8562\n",
            "Epoch 68/100\n",
            "200/200 [==============================] - 1s 3ms/step - loss: 0.3473 - accuracy: 0.8522 - val_loss: 0.3579 - val_accuracy: 0.8556\n",
            "Epoch 69/100\n",
            "200/200 [==============================] - 1s 3ms/step - loss: 0.3470 - accuracy: 0.8539 - val_loss: 0.3598 - val_accuracy: 0.8544\n",
            "Epoch 70/100\n",
            "200/200 [==============================] - 1s 3ms/step - loss: 0.3469 - accuracy: 0.8537 - val_loss: 0.3588 - val_accuracy: 0.8544\n",
            "Epoch 71/100\n",
            "200/200 [==============================] - 1s 3ms/step - loss: 0.3463 - accuracy: 0.8541 - val_loss: 0.3594 - val_accuracy: 0.8525\n",
            "Epoch 72/100\n",
            "200/200 [==============================] - 1s 3ms/step - loss: 0.3469 - accuracy: 0.8528 - val_loss: 0.3591 - val_accuracy: 0.8537\n",
            "Epoch 73/100\n",
            "200/200 [==============================] - 0s 2ms/step - loss: 0.3466 - accuracy: 0.8541 - val_loss: 0.3587 - val_accuracy: 0.8531\n",
            "Epoch 74/100\n",
            "200/200 [==============================] - 0s 2ms/step - loss: 0.3467 - accuracy: 0.8533 - val_loss: 0.3592 - val_accuracy: 0.8525\n",
            "Epoch 75/100\n",
            "200/200 [==============================] - 0s 2ms/step - loss: 0.3463 - accuracy: 0.8542 - val_loss: 0.3589 - val_accuracy: 0.8550\n",
            "Epoch 76/100\n",
            "200/200 [==============================] - 1s 3ms/step - loss: 0.3462 - accuracy: 0.8530 - val_loss: 0.3578 - val_accuracy: 0.8550\n",
            "Epoch 77/100\n",
            "200/200 [==============================] - 1s 3ms/step - loss: 0.3461 - accuracy: 0.8531 - val_loss: 0.3585 - val_accuracy: 0.8556\n",
            "Epoch 78/100\n",
            "200/200 [==============================] - 1s 3ms/step - loss: 0.3458 - accuracy: 0.8533 - val_loss: 0.3585 - val_accuracy: 0.8531\n",
            "Epoch 79/100\n",
            "200/200 [==============================] - 1s 3ms/step - loss: 0.3458 - accuracy: 0.8531 - val_loss: 0.3588 - val_accuracy: 0.8537\n",
            "Epoch 80/100\n",
            "200/200 [==============================] - 1s 3ms/step - loss: 0.3459 - accuracy: 0.8544 - val_loss: 0.3579 - val_accuracy: 0.8544\n",
            "Epoch 81/100\n",
            "200/200 [==============================] - 0s 2ms/step - loss: 0.3454 - accuracy: 0.8534 - val_loss: 0.3578 - val_accuracy: 0.8519\n",
            "Epoch 82/100\n",
            "200/200 [==============================] - 0s 2ms/step - loss: 0.3461 - accuracy: 0.8550 - val_loss: 0.3576 - val_accuracy: 0.8569\n",
            "Epoch 83/100\n",
            "200/200 [==============================] - 0s 2ms/step - loss: 0.3458 - accuracy: 0.8544 - val_loss: 0.3578 - val_accuracy: 0.8500\n",
            "Epoch 84/100\n",
            "200/200 [==============================] - 1s 3ms/step - loss: 0.3458 - accuracy: 0.8522 - val_loss: 0.3574 - val_accuracy: 0.8525\n",
            "Epoch 85/100\n",
            "200/200 [==============================] - 0s 2ms/step - loss: 0.3459 - accuracy: 0.8531 - val_loss: 0.3570 - val_accuracy: 0.8537\n",
            "Epoch 86/100\n",
            "200/200 [==============================] - 0s 2ms/step - loss: 0.3458 - accuracy: 0.8544 - val_loss: 0.3582 - val_accuracy: 0.8525\n",
            "Epoch 87/100\n",
            "200/200 [==============================] - 0s 2ms/step - loss: 0.3456 - accuracy: 0.8544 - val_loss: 0.3581 - val_accuracy: 0.8537\n",
            "Epoch 88/100\n",
            "200/200 [==============================] - 0s 2ms/step - loss: 0.3456 - accuracy: 0.8537 - val_loss: 0.3573 - val_accuracy: 0.8525\n",
            "Epoch 89/100\n",
            "200/200 [==============================] - 0s 2ms/step - loss: 0.3457 - accuracy: 0.8558 - val_loss: 0.3573 - val_accuracy: 0.8550\n",
            "Epoch 90/100\n",
            "200/200 [==============================] - 0s 2ms/step - loss: 0.3453 - accuracy: 0.8531 - val_loss: 0.3584 - val_accuracy: 0.8537\n",
            "Epoch 91/100\n",
            "200/200 [==============================] - 0s 2ms/step - loss: 0.3453 - accuracy: 0.8544 - val_loss: 0.3576 - val_accuracy: 0.8537\n",
            "Epoch 92/100\n",
            "200/200 [==============================] - 0s 2ms/step - loss: 0.3448 - accuracy: 0.8555 - val_loss: 0.3588 - val_accuracy: 0.8519\n",
            "Epoch 93/100\n",
            "200/200 [==============================] - 1s 3ms/step - loss: 0.3450 - accuracy: 0.8542 - val_loss: 0.3576 - val_accuracy: 0.8525\n",
            "Epoch 94/100\n",
            "200/200 [==============================] - 1s 3ms/step - loss: 0.3450 - accuracy: 0.8536 - val_loss: 0.3586 - val_accuracy: 0.8537\n",
            "Epoch 95/100\n",
            "200/200 [==============================] - 1s 3ms/step - loss: 0.3451 - accuracy: 0.8534 - val_loss: 0.3575 - val_accuracy: 0.8525\n",
            "Epoch 96/100\n",
            "200/200 [==============================] - 1s 3ms/step - loss: 0.3451 - accuracy: 0.8533 - val_loss: 0.3581 - val_accuracy: 0.8525\n",
            "Epoch 97/100\n",
            "200/200 [==============================] - 1s 3ms/step - loss: 0.3451 - accuracy: 0.8553 - val_loss: 0.3571 - val_accuracy: 0.8512\n",
            "Epoch 98/100\n",
            "200/200 [==============================] - 0s 2ms/step - loss: 0.3449 - accuracy: 0.8536 - val_loss: 0.3573 - val_accuracy: 0.8512\n",
            "Epoch 99/100\n",
            "200/200 [==============================] - 0s 2ms/step - loss: 0.3447 - accuracy: 0.8542 - val_loss: 0.3578 - val_accuracy: 0.8512\n",
            "Epoch 100/100\n",
            "200/200 [==============================] - 0s 2ms/step - loss: 0.3445 - accuracy: 0.8534 - val_loss: 0.3578 - val_accuracy: 0.8512\n"
          ]
        }
      ],
      "source": [
        "#Train the model using the scaled training data (X_trained_scaled) and training labels (y_train) for 100 epochs\n",
        "#taking validation data of 20% from train dataset for varification purpose\n",
        "history=model.fit(X_trained_scaled,y_train,epochs=100,validation_split=0.2)\n"
      ]
    },
    {
      "cell_type": "code",
      "execution_count": null,
      "id": "766d97d1",
      "metadata": {
        "colab": {
          "base_uri": "https://localhost:8080/"
        },
        "execution": {
          "iopub.execute_input": "2023-08-11T14:45:23.236900Z",
          "iopub.status.busy": "2023-08-11T14:45:23.235807Z",
          "iopub.status.idle": "2023-08-11T14:45:23.255925Z",
          "shell.execute_reply": "2023-08-11T14:45:23.253975Z"
        },
        "id": "766d97d1",
        "outputId": "398a1929-cb00-40af-d9c3-001f8f266a33",
        "papermill": {
          "duration": 0.123945,
          "end_time": "2023-08-11T14:45:23.258320",
          "exception": false,
          "start_time": "2023-08-11T14:45:23.134375",
          "status": "completed"
        },
        "tags": []
      },
      "outputs": [
        {
          "name": "stdout",
          "output_type": "stream",
          "text": [
            "Weights of the first hidden layer:\n",
            "[array([[-0.17210123,  0.13722289,  0.11143184, -0.0585636 , -0.32888633,\n",
            "        -0.16479321, -0.06456336, -0.02517295, -0.05096751, -0.00497285,\n",
            "         0.36160553],\n",
            "       [-0.26367587, -0.09715927, -0.582447  , -0.3570661 , -0.46134377,\n",
            "         0.1301715 , -0.1272838 ,  0.6675831 ,  1.1294081 , -0.1875227 ,\n",
            "        -0.9611491 ],\n",
            "       [-0.5405755 ,  0.07006838,  0.01966025, -0.03510701,  0.26497853,\n",
            "         0.2962828 ,  0.07861844,  0.07664403,  0.01496637, -0.02655035,\n",
            "        -0.7380853 ],\n",
            "       [ 0.03176   , -0.9667254 ,  0.08692508, -0.06629515,  0.37132022,\n",
            "         0.31844848, -1.037663  , -0.09002393, -0.05696533, -0.57152236,\n",
            "        -0.07616405],\n",
            "       [-0.3575723 ,  0.14764456, -0.1796644 ,  1.2611973 ,  0.40923187,\n",
            "        -0.7249921 ,  0.10510626,  0.11108927,  0.24915588,  1.1552483 ,\n",
            "         0.5879868 ],\n",
            "       [-0.07068017,  0.58463126,  0.24394773,  0.16287652, -0.30020764,\n",
            "         0.11261442,  0.27527738,  0.12675741, -0.1247719 ,  0.23090579,\n",
            "        -0.530823  ],\n",
            "       [ 0.83012545,  0.04892652,  0.38575724,  0.53101593, -0.37967503,\n",
            "        -0.3200391 ,  0.08125123,  1.1242402 , -0.10930829, -0.1005351 ,\n",
            "         0.02789877],\n",
            "       [ 0.3668747 , -0.0609637 ,  0.09303138, -0.0225312 , -0.26982698,\n",
            "        -0.19910108, -0.19773044,  0.11535496,  0.00362618, -0.06885558,\n",
            "        -0.16960959]], dtype=float32), array([ 0.36590996, -0.28945678,  0.6213255 , -0.23606427,  0.51055735,\n",
            "       -0.27122754,  0.3846285 , -0.06123189,  0.067835  ,  0.40926298,\n",
            "        0.27445677], dtype=float32)]\n",
            "Weights of the second hidden layer:\n",
            "[array([[ 0.4533585 ,  0.31621364,  0.13188514, -0.52772146,  0.23053661,\n",
            "         0.01036568, -0.11030509,  0.1545436 ,  0.03195361,  0.069506  ,\n",
            "         0.29354486],\n",
            "       [ 0.34493914, -0.49376547, -0.24365117, -0.11198238, -0.91608536,\n",
            "        -0.4432765 , -0.14573736,  0.54253906, -0.7649407 , -0.3100476 ,\n",
            "         0.06018126],\n",
            "       [-0.4123893 ,  0.29235446,  0.30418935,  0.4349341 ,  0.26444176,\n",
            "        -0.8721561 ,  0.43806374,  0.02751732,  0.3985092 ,  0.09486238,\n",
            "        -0.08168251],\n",
            "       [-0.7866833 ,  0.01404079, -0.2610732 ,  0.54304856, -0.1499558 ,\n",
            "         1.2084519 , -0.58808196, -0.08167878, -0.12155002, -0.0421975 ,\n",
            "         0.03947482],\n",
            "       [-0.22993867, -0.2277728 , -0.0082712 ,  0.5506866 , -0.3911415 ,\n",
            "        -0.32240406,  0.50838685,  0.3865303 ,  0.54237866, -0.138586  ,\n",
            "        -0.0560023 ],\n",
            "       [-0.22105353, -0.6232936 ,  0.20180658,  0.16942394, -0.13265763,\n",
            "        -0.11983006, -0.5678208 , -0.21944013, -0.58401906,  0.49446607,\n",
            "        -0.20781255],\n",
            "       [ 0.6467171 ,  0.16407207,  0.38602072,  0.2830264 , -0.00780436,\n",
            "        -0.6824795 ,  0.10558753,  0.17527555,  0.03965789,  0.5687847 ,\n",
            "        -0.051375  ],\n",
            "       [ 0.23639448,  0.79363877, -0.2815715 , -0.25308123,  0.3372709 ,\n",
            "        -0.72628355,  0.8692118 ,  0.63198376, -0.03527779, -0.17545012,\n",
            "         0.44518098],\n",
            "       [-0.10934824,  0.4259448 , -0.7091394 ,  0.02096821, -0.3467195 ,\n",
            "         0.5717679 ,  0.24076796, -0.5895009 , -0.32644296, -1.118774  ,\n",
            "         0.20465907],\n",
            "       [-0.7597663 ,  0.63075495,  0.66920173,  0.11224095,  0.37850606,\n",
            "         0.6692853 ,  0.7085562 , -0.31796086, -0.01171558,  0.57454056,\n",
            "         0.5951857 ],\n",
            "       [-0.28703496,  0.09922652,  0.20173106,  0.39259115, -1.1348057 ,\n",
            "        -0.6040416 , -0.5464689 , -0.5140683 ,  0.20738243,  0.03253866,\n",
            "         0.36325577]], dtype=float32), array([ 0.6197936 , -0.09639603,  0.51370186, -0.61046016,  0.03680453,\n",
            "        0.15638515,  0.07331321, -0.02116994,  0.3670588 ,  0.515235  ,\n",
            "       -0.1936853 ], dtype=float32)]\n",
            "Weights of the output layer:\n",
            "[array([[ 0.91958416],\n",
            "       [-0.28141445],\n",
            "       [-0.7431956 ],\n",
            "       [ 0.64555526],\n",
            "       [ 1.013093  ],\n",
            "       [ 1.5638002 ],\n",
            "       [-0.7915313 ],\n",
            "       [-0.31005514],\n",
            "       [-0.85884434],\n",
            "       [-0.55227   ],\n",
            "       [-0.20246273]], dtype=float32), array([0.30233324], dtype=float32)]\n"
          ]
        }
      ],
      "source": [
        "#Get the weights of the first hidden layer\n",
        "first_hidden_layer_weights = model.layers[0].get_weights()\n",
        "\n",
        "#Get the weights of the second hidden layer\n",
        "second_hidden_layer_weights = model.layers[1].get_weights()\n",
        "\n",
        "#Get the weights of the output layer\n",
        "output_layer_weights = model.layers[2].get_weights()\n",
        "\n",
        "#Print the weights of the first hidden layer\n",
        "print(\"Weights of the first hidden layer:\")\n",
        "print(first_hidden_layer_weights)\n",
        "\n",
        "#Print the weights of the second hidden layer\n",
        "print(\"Weights of the second hidden layer:\")\n",
        "print(second_hidden_layer_weights)\n",
        "\n",
        "#Print the weights of the output layer\n",
        "print(\"Weights of the output layer:\")\n",
        "print(output_layer_weights)"
      ]
    },
    {
      "cell_type": "code",
      "execution_count": null,
      "id": "b67dadb1",
      "metadata": {
        "colab": {
          "base_uri": "https://localhost:8080/"
        },
        "execution": {
          "iopub.execute_input": "2023-08-11T14:45:23.463046Z",
          "iopub.status.busy": "2023-08-11T14:45:23.462649Z",
          "iopub.status.idle": "2023-08-11T14:45:23.766414Z",
          "shell.execute_reply": "2023-08-11T14:45:23.765363Z"
        },
        "id": "b67dadb1",
        "outputId": "dba53215-ce91-4e89-96d9-07943377db1d",
        "papermill": {
          "duration": 0.408593,
          "end_time": "2023-08-11T14:45:23.768906",
          "exception": false,
          "start_time": "2023-08-11T14:45:23.360313",
          "status": "completed"
        },
        "tags": []
      },
      "outputs": [
        {
          "name": "stdout",
          "output_type": "stream",
          "text": [
            "63/63 [==============================] - 0s 1ms/step\n"
          ]
        },
        {
          "data": {
            "text/plain": [
              "array([[0.5209094 ],\n",
              "       [0.15156238],\n",
              "       [0.01256008],\n",
              "       ...,\n",
              "       [0.08166689],\n",
              "       [0.02139786],\n",
              "       [0.00882911]], dtype=float32)"
            ]
          },
          "execution_count": 45,
          "metadata": {},
          "output_type": "execute_result"
        }
      ],
      "source": [
        "#do prediction for X_test\n",
        "model.predict(X_test_scaled)\n",
        "#we are not getting 0/1 because output is passed through sigmoid function which is giving probability in output"
      ]
    },
    {
      "cell_type": "code",
      "execution_count": null,
      "id": "31aa39b8",
      "metadata": {
        "colab": {
          "base_uri": "https://localhost:8080/"
        },
        "execution": {
          "iopub.execute_input": "2023-08-11T14:45:23.975552Z",
          "iopub.status.busy": "2023-08-11T14:45:23.975104Z",
          "iopub.status.idle": "2023-08-11T14:45:24.185310Z",
          "shell.execute_reply": "2023-08-11T14:45:24.184018Z"
        },
        "id": "31aa39b8",
        "outputId": "9ab45b29-3230-47a8-cf79-2592dda3ea0c",
        "papermill": {
          "duration": 0.316056,
          "end_time": "2023-08-11T14:45:24.188053",
          "exception": false,
          "start_time": "2023-08-11T14:45:23.871997",
          "status": "completed"
        },
        "tags": []
      },
      "outputs": [
        {
          "name": "stdout",
          "output_type": "stream",
          "text": [
            "63/63 [==============================] - 0s 1ms/step\n"
          ]
        }
      ],
      "source": [
        "y_log=model.predict(X_test_scaled)\n",
        "#if y_pred is greater than 0.5 then show output as 1 nor 0\n",
        "y_pred=np.where(y_log>0.5,1,0)"
      ]
    },
    {
      "cell_type": "code",
      "execution_count": null,
      "id": "1657de89",
      "metadata": {
        "colab": {
          "base_uri": "https://localhost:8080/"
        },
        "execution": {
          "iopub.execute_input": "2023-08-11T14:45:24.392720Z",
          "iopub.status.busy": "2023-08-11T14:45:24.392269Z",
          "iopub.status.idle": "2023-08-11T14:45:24.401806Z",
          "shell.execute_reply": "2023-08-11T14:45:24.400743Z"
        },
        "id": "1657de89",
        "outputId": "d81484f9-bf7a-4e11-a66c-d953d626d2a9",
        "papermill": {
          "duration": 0.114821,
          "end_time": "2023-08-11T14:45:24.403962",
          "exception": false,
          "start_time": "2023-08-11T14:45:24.289141",
          "status": "completed"
        },
        "tags": []
      },
      "outputs": [
        {
          "data": {
            "text/plain": [
              "0.864"
            ]
          },
          "execution_count": 48,
          "metadata": {},
          "output_type": "execute_result"
        }
      ],
      "source": [
        "from sklearn.metrics import accuracy_score\n",
        "accuracy_score(y_test,y_pred)"
      ]
    },
    {
      "cell_type": "code",
      "execution_count": null,
      "id": "a6b4386b",
      "metadata": {
        "colab": {
          "base_uri": "https://localhost:8080/",
          "height": 571
        },
        "execution": {
          "iopub.execute_input": "2023-08-11T14:45:24.608625Z",
          "iopub.status.busy": "2023-08-11T14:45:24.608201Z",
          "iopub.status.idle": "2023-08-11T14:45:24.816969Z",
          "shell.execute_reply": "2023-08-11T14:45:24.815826Z"
        },
        "id": "a6b4386b",
        "outputId": "a57a5b16-b963-452f-d310-ebf9990d79c2",
        "papermill": {
          "duration": 0.314077,
          "end_time": "2023-08-11T14:45:24.819398",
          "exception": false,
          "start_time": "2023-08-11T14:45:24.505321",
          "status": "completed"
        },
        "tags": []
      },
      "outputs": [
        {
          "data": {
            "image/png": "[encoded data removed]",
            "text/plain": [
              "<Figure size 800x600 with 1 Axes>"
            ]
          },
          "metadata": {},
          "output_type": "display_data"
        }
      ],
      "source": [
        "from sklearn.metrics import confusion_matrix\n",
        "# Calculate the confusion matrix\n",
        "cm = confusion_matrix(y_test, y_pred)\n",
        "\n",
        "# Create a heatmap for the confusion matrix\n",
        "plt.figure(figsize=(8, 6))\n",
        "sns.heatmap(cm, annot=True, fmt=\"d\", cmap=\"Blues\", cbar=False,\n",
        "            annot_kws={\"size\": 14}, linewidths=0.5, square=True)\n",
        "\n",
        "plt.xlabel(\"Predicted\", fontsize=14)\n",
        "plt.ylabel(\"Actual\", fontsize=14)\n",
        "plt.title(\"Confusion Matrix\", fontsize=16)\n",
        "plt.show()"
      ]
    },
    {
      "cell_type": "code",
      "execution_count": null,
      "id": "7bf321cd",
      "metadata": {
        "colab": {
          "base_uri": "https://localhost:8080/"
        },
        "execution": {
          "iopub.execute_input": "2023-08-11T14:45:25.028808Z",
          "iopub.status.busy": "2023-08-11T14:45:25.028379Z",
          "iopub.status.idle": "2023-08-11T14:45:25.041804Z",
          "shell.execute_reply": "2023-08-11T14:45:25.040756Z"
        },
        "id": "7bf321cd",
        "outputId": "2ffe854c-b769-4fb7-f352-80f879b21659",
        "papermill": {
          "duration": 0.120616,
          "end_time": "2023-08-11T14:45:25.044203",
          "exception": false,
          "start_time": "2023-08-11T14:45:24.923587",
          "status": "completed"
        },
        "tags": []
      },
      "outputs": [
        {
          "data": {
            "text/plain": [
              "{'loss': [0.5325214862823486,\n",
              "  0.4646354913711548,\n",
              "  0.4447236657142639,\n",
              "  0.4319237470626831,\n",
              "  0.42048558592796326,\n",
              "  0.4092836081981659,\n",
              "  0.3992418050765991,\n",
              "  0.39041033387184143,\n",
              "  0.3831540048122406,\n",
              "  0.37799495458602905,\n",
              "  0.37362030148506165,\n",
              "  0.37070372700691223,\n",
              "  0.3685564398765564,\n",
              "  0.36673495173454285,\n",
              "  0.3658074140548706,\n",
              "  0.36408233642578125,\n",
              "  0.36329764127731323,\n",
              "  0.3612349033355713,\n",
              "  0.36099499464035034,\n",
              "  0.3601261377334595,\n",
              "  0.35954245924949646,\n",
              "  0.3595516085624695,\n",
              "  0.35817795991897583,\n",
              "  0.35814395546913147,\n",
              "  0.35757705569267273,\n",
              "  0.35712313652038574,\n",
              "  0.35670989751815796,\n",
              "  0.3561437726020813,\n",
              "  0.35609927773475647,\n",
              "  0.3556036055088043,\n",
              "  0.355105996131897,\n",
              "  0.3549034595489502,\n",
              "  0.35413241386413574,\n",
              "  0.35363709926605225,\n",
              "  0.3536755442619324,\n",
              "  0.353145956993103,\n",
              "  0.35307738184928894,\n",
              "  0.3526785671710968,\n",
              "  0.35260209441185,\n",
              "  0.3525891900062561,\n",
              "  0.35204482078552246,\n",
              "  0.3515045940876007,\n",
              "  0.3513030707836151,\n",
              "  0.3512023687362671,\n",
              "  0.35089728236198425,\n",
              "  0.35098403692245483,\n",
              "  0.35066115856170654,\n",
              "  0.35015159845352173,\n",
              "  0.349935919046402,\n",
              "  0.3493086099624634,\n",
              "  0.34950199723243713,\n",
              "  0.34966933727264404,\n",
              "  0.3497973680496216,\n",
              "  0.34908267855644226,\n",
              "  0.34951499104499817,\n",
              "  0.34878775477409363,\n",
              "  0.3484075665473938,\n",
              "  0.34838902950286865,\n",
              "  0.34828099608421326,\n",
              "  0.34818270802497864,\n",
              "  0.3479708135128021,\n",
              "  0.3479273319244385,\n",
              "  0.34784844517707825,\n",
              "  0.34808149933815,\n",
              "  0.34758320450782776,\n",
              "  0.3473997116088867,\n",
              "  0.34726443886756897,\n",
              "  0.3472578823566437,\n",
              "  0.34701287746429443,\n",
              "  0.34693747758865356,\n",
              "  0.3463200628757477,\n",
              "  0.3469165563583374,\n",
              "  0.34658974409103394,\n",
              "  0.3467372953891754,\n",
              "  0.34625935554504395,\n",
              "  0.3462158441543579,\n",
              "  0.34613072872161865,\n",
              "  0.3458060920238495,\n",
              "  0.3457627594470978,\n",
              "  0.34587618708610535,\n",
              "  0.34536445140838623,\n",
              "  0.34606263041496277,\n",
              "  0.3457503020763397,\n",
              "  0.3457927405834198,\n",
              "  0.34586507081985474,\n",
              "  0.3458276093006134,\n",
              "  0.34560567140579224,\n",
              "  0.3456261456012726,\n",
              "  0.3457346260547638,\n",
              "  0.34532493352890015,\n",
              "  0.3453131914138794,\n",
              "  0.34476128220558167,\n",
              "  0.3450366258621216,\n",
              "  0.3449985086917877,\n",
              "  0.3451329171657562,\n",
              "  0.34505289793014526,\n",
              "  0.3451176583766937,\n",
              "  0.34488049149513245,\n",
              "  0.3446536958217621,\n",
              "  0.3445190489292145],\n",
              " 'accuracy': [0.7842187285423279,\n",
              "  0.7987499833106995,\n",
              "  0.8040624856948853,\n",
              "  0.8104687333106995,\n",
              "  0.8149999976158142,\n",
              "  0.821093738079071,\n",
              "  0.8251562714576721,\n",
              "  0.8290625214576721,\n",
              "  0.8318750262260437,\n",
              "  0.8359375,\n",
              "  0.8415625095367432,\n",
              "  0.8442187309265137,\n",
              "  0.8439062237739563,\n",
              "  0.8471875190734863,\n",
              "  0.8459374904632568,\n",
              "  0.8473437428474426,\n",
              "  0.8465625047683716,\n",
              "  0.8490625023841858,\n",
              "  0.84765625,\n",
              "  0.8492187261581421,\n",
              "  0.84765625,\n",
              "  0.8487499952316284,\n",
              "  0.8496875166893005,\n",
              "  0.8495312333106995,\n",
              "  0.8496875166893005,\n",
              "  0.8500000238418579,\n",
              "  0.8498437404632568,\n",
              "  0.8496875166893005,\n",
              "  0.8492187261581421,\n",
              "  0.8506249785423279,\n",
              "  0.8518750071525574,\n",
              "  0.8528125286102295,\n",
              "  0.8509374856948853,\n",
              "  0.8512499928474426,\n",
              "  0.8521875143051147,\n",
              "  0.8510937690734863,\n",
              "  0.8525000214576721,\n",
              "  0.8515625,\n",
              "  0.8521875143051147,\n",
              "  0.8529687523841858,\n",
              "  0.8528125286102295,\n",
              "  0.8528125286102295,\n",
              "  0.8528125286102295,\n",
              "  0.8528125286102295,\n",
              "  0.8528125286102295,\n",
              "  0.8520312309265137,\n",
              "  0.8514062762260437,\n",
              "  0.8528125286102295,\n",
              "  0.8532812595367432,\n",
              "  0.8529687523841858,\n",
              "  0.852343738079071,\n",
              "  0.8548437356948853,\n",
              "  0.8528125286102295,\n",
              "  0.8543750047683716,\n",
              "  0.8521875143051147,\n",
              "  0.8534374833106995,\n",
              "  0.8529687523841858,\n",
              "  0.8534374833106995,\n",
              "  0.85546875,\n",
              "  0.8535937666893005,\n",
              "  0.8532812595367432,\n",
              "  0.8521875143051147,\n",
              "  0.8537499904632568,\n",
              "  0.8537499904632568,\n",
              "  0.8532812595367432,\n",
              "  0.8532812595367432,\n",
              "  0.852343738079071,\n",
              "  0.8521875143051147,\n",
              "  0.8539062738418579,\n",
              "  0.8537499904632568,\n",
              "  0.8540624976158142,\n",
              "  0.8528125286102295,\n",
              "  0.8540624976158142,\n",
              "  0.8532812595367432,\n",
              "  0.8542187213897705,\n",
              "  0.8529687523841858,\n",
              "  0.8531249761581421,\n",
              "  0.8532812595367432,\n",
              "  0.8531249761581421,\n",
              "  0.8543750047683716,\n",
              "  0.8534374833106995,\n",
              "  0.8550000190734863,\n",
              "  0.8543750047683716,\n",
              "  0.8521875143051147,\n",
              "  0.8531249761581421,\n",
              "  0.8543750047683716,\n",
              "  0.8543750047683716,\n",
              "  0.8537499904632568,\n",
              "  0.8557812571525574,\n",
              "  0.8531249761581421,\n",
              "  0.8543750047683716,\n",
              "  0.85546875,\n",
              "  0.8542187213897705,\n",
              "  0.8535937666893005,\n",
              "  0.8534374833106995,\n",
              "  0.8532812595367432,\n",
              "  0.8553125262260437,\n",
              "  0.8535937666893005,\n",
              "  0.8542187213897705,\n",
              "  0.8534374833106995],\n",
              " 'val_loss': [0.4760083854198456,\n",
              "  0.45058882236480713,\n",
              "  0.43909090757369995,\n",
              "  0.42825835943222046,\n",
              "  0.4176803231239319,\n",
              "  0.4072532653808594,\n",
              "  0.3984205722808838,\n",
              "  0.3908464014530182,\n",
              "  0.38554301857948303,\n",
              "  0.3824688792228699,\n",
              "  0.3793947696685791,\n",
              "  0.3772759735584259,\n",
              "  0.3772006630897522,\n",
              "  0.37581783533096313,\n",
              "  0.3733776807785034,\n",
              "  0.3732791841030121,\n",
              "  0.372384637594223,\n",
              "  0.37158215045928955,\n",
              "  0.3702588379383087,\n",
              "  0.37059810757637024,\n",
              "  0.3705497086048126,\n",
              "  0.3696313798427582,\n",
              "  0.36819228529930115,\n",
              "  0.3696427047252655,\n",
              "  0.3711693286895752,\n",
              "  0.367438405752182,\n",
              "  0.3669929504394531,\n",
              "  0.36687004566192627,\n",
              "  0.36622193455696106,\n",
              "  0.3657456934452057,\n",
              "  0.3666255474090576,\n",
              "  0.36484280228614807,\n",
              "  0.36420565843582153,\n",
              "  0.3653012216091156,\n",
              "  0.36496269702911377,\n",
              "  0.36456358432769775,\n",
              "  0.36530929803848267,\n",
              "  0.3627975583076477,\n",
              "  0.3629177212715149,\n",
              "  0.36253517866134644,\n",
              "  0.3625771701335907,\n",
              "  0.36453700065612793,\n",
              "  0.3619123101234436,\n",
              "  0.3629438877105713,\n",
              "  0.361965537071228,\n",
              "  0.3620723783969879,\n",
              "  0.36129239201545715,\n",
              "  0.3613254129886627,\n",
              "  0.3609628975391388,\n",
              "  0.3645034730434418,\n",
              "  0.36163321137428284,\n",
              "  0.3611985445022583,\n",
              "  0.3601870834827423,\n",
              "  0.35935792326927185,\n",
              "  0.3595099151134491,\n",
              "  0.35920169949531555,\n",
              "  0.3599693179130554,\n",
              "  0.3593998849391937,\n",
              "  0.35916846990585327,\n",
              "  0.35916656255722046,\n",
              "  0.35953986644744873,\n",
              "  0.36008983850479126,\n",
              "  0.3589435815811157,\n",
              "  0.359203577041626,\n",
              "  0.3582296669483185,\n",
              "  0.3604097366333008,\n",
              "  0.35832688212394714,\n",
              "  0.35788097977638245,\n",
              "  0.3598078489303589,\n",
              "  0.3588100075721741,\n",
              "  0.35935771465301514,\n",
              "  0.3591223955154419,\n",
              "  0.3587345480918884,\n",
              "  0.3592018783092499,\n",
              "  0.3589498996734619,\n",
              "  0.3578052818775177,\n",
              "  0.3584522604942322,\n",
              "  0.3584684729576111,\n",
              "  0.3587837219238281,\n",
              "  0.3578855097293854,\n",
              "  0.35778695344924927,\n",
              "  0.35760775208473206,\n",
              "  0.3577824831008911,\n",
              "  0.35738417506217957,\n",
              "  0.3569667935371399,\n",
              "  0.35820716619491577,\n",
              "  0.3580654561519623,\n",
              "  0.3572852611541748,\n",
              "  0.3572982847690582,\n",
              "  0.3584115207195282,\n",
              "  0.357594758272171,\n",
              "  0.35878458619117737,\n",
              "  0.3575618267059326,\n",
              "  0.358553022146225,\n",
              "  0.35747554898262024,\n",
              "  0.35809147357940674,\n",
              "  0.35711610317230225,\n",
              "  0.3573372960090637,\n",
              "  0.357794851064682,\n",
              "  0.35779091715812683],\n",
              " 'val_accuracy': [0.7975000143051147,\n",
              "  0.8081250190734863,\n",
              "  0.8050000071525574,\n",
              "  0.8112499713897705,\n",
              "  0.8174999952316284,\n",
              "  0.8231250047683716,\n",
              "  0.8256250023841858,\n",
              "  0.8274999856948853,\n",
              "  0.8299999833106995,\n",
              "  0.8368750214576721,\n",
              "  0.8387500047683716,\n",
              "  0.8399999737739563,\n",
              "  0.8424999713897705,\n",
              "  0.8431249856948853,\n",
              "  0.8475000262260437,\n",
              "  0.8487499952316284,\n",
              "  0.8487499952316284,\n",
              "  0.8500000238418579,\n",
              "  0.8475000262260437,\n",
              "  0.8493750095367432,\n",
              "  0.8493750095367432,\n",
              "  0.8537499904632568,\n",
              "  0.8525000214576721,\n",
              "  0.8518750071525574,\n",
              "  0.8543750047683716,\n",
              "  0.8550000190734863,\n",
              "  0.8531249761581421,\n",
              "  0.8531249761581421,\n",
              "  0.8512499928474426,\n",
              "  0.8550000190734863,\n",
              "  0.8568750023841858,\n",
              "  0.8543750047683716,\n",
              "  0.8518750071525574,\n",
              "  0.8500000238418579,\n",
              "  0.8525000214576721,\n",
              "  0.8556249737739563,\n",
              "  0.8506249785423279,\n",
              "  0.8518750071525574,\n",
              "  0.8500000238418579,\n",
              "  0.8493750095367432,\n",
              "  0.8518750071525574,\n",
              "  0.8512499928474426,\n",
              "  0.8512499928474426,\n",
              "  0.8568750023841858,\n",
              "  0.8537499904632568,\n",
              "  0.8543750047683716,\n",
              "  0.8525000214576721,\n",
              "  0.8518750071525574,\n",
              "  0.8550000190734863,\n",
              "  0.8575000166893005,\n",
              "  0.8525000214576721,\n",
              "  0.8587499856948853,\n",
              "  0.8581249713897705,\n",
              "  0.8550000190734863,\n",
              "  0.8575000166893005,\n",
              "  0.8581249713897705,\n",
              "  0.8512499928474426,\n",
              "  0.8506249785423279,\n",
              "  0.856249988079071,\n",
              "  0.8525000214576721,\n",
              "  0.8550000190734863,\n",
              "  0.8531249761581421,\n",
              "  0.8556249737739563,\n",
              "  0.8518750071525574,\n",
              "  0.8550000190734863,\n",
              "  0.8531249761581421,\n",
              "  0.856249988079071,\n",
              "  0.8556249737739563,\n",
              "  0.8543750047683716,\n",
              "  0.8543750047683716,\n",
              "  0.8525000214576721,\n",
              "  0.8537499904632568,\n",
              "  0.8531249761581421,\n",
              "  0.8525000214576721,\n",
              "  0.8550000190734863,\n",
              "  0.8550000190734863,\n",
              "  0.8556249737739563,\n",
              "  0.8531249761581421,\n",
              "  0.8537499904632568,\n",
              "  0.8543750047683716,\n",
              "  0.8518750071525574,\n",
              "  0.8568750023841858,\n",
              "  0.8500000238418579,\n",
              "  0.8525000214576721,\n",
              "  0.8537499904632568,\n",
              "  0.8525000214576721,\n",
              "  0.8537499904632568,\n",
              "  0.8525000214576721,\n",
              "  0.8550000190734863,\n",
              "  0.8537499904632568,\n",
              "  0.8537499904632568,\n",
              "  0.8518750071525574,\n",
              "  0.8525000214576721,\n",
              "  0.8537499904632568,\n",
              "  0.8525000214576721,\n",
              "  0.8525000214576721,\n",
              "  0.8512499928474426,\n",
              "  0.8512499928474426,\n",
              "  0.8512499928474426,\n",
              "  0.8512499928474426]}"
            ]
          },
          "execution_count": 50,
          "metadata": {},
          "output_type": "execute_result"
        }
      ],
      "source": [
        "history.history"
      ]
    },
    {
      "cell_type": "code",
      "execution_count": null,
      "id": "8e2633b2",
      "metadata": {
        "colab": {
          "base_uri": "https://localhost:8080/",
          "height": 447
        },
        "execution": {
          "iopub.execute_input": "2023-08-11T14:45:25.253253Z",
          "iopub.status.busy": "2023-08-11T14:45:25.252425Z",
          "iopub.status.idle": "2023-08-11T14:45:25.547524Z",
          "shell.execute_reply": "2023-08-11T14:45:25.546268Z"
        },
        "id": "8e2633b2",
        "outputId": "6016a793-4e40-4b07-9522-4d8e551daea3",
        "papermill": {
          "duration": 0.401555,
          "end_time": "2023-08-11T14:45:25.550234",
          "exception": false,
          "start_time": "2023-08-11T14:45:25.148679",
          "status": "completed"
        },
        "tags": []
      },
      "outputs": [
        {
          "data": {
            "text/plain": [
              "[<matplotlib.lines.Line2D at 0x79b3a516f7f0>]"
            ]
          },
          "execution_count": 51,
          "metadata": {},
          "output_type": "execute_result"
        },
        {
          "data": {
            "image/png": "[encoded data removed]",
            "text/plain": [
              "<Figure size 640x480 with 1 Axes>"
            ]
          },
          "metadata": {},
          "output_type": "display_data"
        }
      ],
      "source": [
        "import matplotlib.pyplot as plt\n",
        "plt.plot(history.history['loss'])\n",
        "plt.plot(history.history['val_loss'])"
      ]
    },
    {
      "cell_type": "markdown",
      "id": "819a0277",
      "metadata": {
        "id": "819a0277",
        "papermill": {
          "duration": 0.103215,
          "end_time": "2023-08-11T14:45:25.757473",
          "exception": false,
          "start_time": "2023-08-11T14:45:25.654258",
          "status": "completed"
        },
        "tags": []
      },
      "source": []
    },
    {
      "cell_type": "code",
      "execution_count": null,
      "id": "e2b43b98",
      "metadata": {
        "colab": {
          "base_uri": "https://localhost:8080/",
          "height": 447
        },
        "execution": {
          "iopub.execute_input": "2023-08-11T14:45:25.968531Z",
          "iopub.status.busy": "2023-08-11T14:45:25.968110Z",
          "iopub.status.idle": "2023-08-11T14:45:26.272916Z",
          "shell.execute_reply": "2023-08-11T14:45:26.271753Z"
        },
        "id": "e2b43b98",
        "outputId": "48a37767-65cf-4307-c105-11db404e2a75",
        "papermill": {
          "duration": 0.413209,
          "end_time": "2023-08-11T14:45:26.275588",
          "exception": false,
          "start_time": "2023-08-11T14:45:25.862379",
          "status": "completed"
        },
        "tags": []
      },
      "outputs": [
        {
          "data": {
            "text/plain": [
              "[<matplotlib.lines.Line2D at 0x79b3a8625c60>]"
            ]
          },
          "execution_count": 52,
          "metadata": {},
          "output_type": "execute_result"
        },
        {
          "data": {
            "image/png": "[encoded data removed]",
            "text/plain": [
              "<Figure size 640x480 with 1 Axes>"
            ]
          },
          "metadata": {},
          "output_type": "display_data"
        }
      ],
      "source": [
        "plt.plot(history.history['accuracy'])\n",
        "plt.plot(history.history['val_accuracy'])"
      ]
    },
    {
      "cell_type": "code",
      "execution_count": null,
      "id": "1872201f",
      "metadata": {
        "colab": {
          "base_uri": "https://localhost:8080/"
        },
        "execution": {
          "iopub.execute_input": "2023-08-11T14:45:26.486623Z",
          "iopub.status.busy": "2023-08-11T14:45:26.486204Z",
          "iopub.status.idle": "2023-08-11T14:45:26.515775Z",
          "shell.execute_reply": "2023-08-11T14:45:26.514228Z"
        },
        "id": "1872201f",
        "outputId": "e25e406a-5062-4d3d-efde-8d38ef59fecf",
        "papermill": {
          "duration": 0.139673,
          "end_time": "2023-08-11T14:45:26.518441",
          "exception": false,
          "start_time": "2023-08-11T14:45:26.378768",
          "status": "completed"
        },
        "tags": []
      },
      "outputs": [
        {
          "name": "stdout",
          "output_type": "stream",
          "text": [
            "Model saved successfully!\n"
          ]
        }
      ],
      "source": [
        "# Save the trained model\n",
        "model.save('churn_prediction_model.h5')\n",
        "\n",
        "print(\"Model saved successfully!\")\n"
      ]
    },
    {
      "cell_type": "code",
      "execution_count": null,
      "id": "d5fe9ca0",
      "metadata": {
        "colab": {
          "base_uri": "https://localhost:8080/",
          "height": 34
        },
        "execution": {
          "iopub.execute_input": "2023-08-11T14:45:26.731013Z",
          "iopub.status.busy": "2023-08-11T14:45:26.730598Z",
          "iopub.status.idle": "2023-08-11T14:45:26.737807Z",
          "shell.execute_reply": "2023-08-11T14:45:26.736755Z"
        },
        "id": "d5fe9ca0",
        "outputId": "927768e7-5b61-48e1-bafc-695bfb180e63",
        "papermill": {
          "duration": 0.116639,
          "end_time": "2023-08-11T14:45:26.740515",
          "exception": false,
          "start_time": "2023-08-11T14:45:26.623876",
          "status": "completed"
        },
        "tags": []
      },
      "outputs": [
        {
          "data": {
            "text/html": [
              "<a href='churn_prediction_model.h5' target='_blank'>churn_prediction_model.h5</a><br>"
            ],
            "text/plain": [
              "/content/churn_prediction_model.h5"
            ]
          },
          "execution_count": 54,
          "metadata": {},
          "output_type": "execute_result"
        }
      ],
      "source": [
        "from IPython.display import FileLink\n",
        "\n",
        "FileLink('churn_prediction_model.h5')"
      ]
    },
    {
      "cell_type": "code",
      "execution_count": null,
      "id": "03444c12",
      "metadata": {
        "id": "03444c12",
        "papermill": {
          "duration": 0.104609,
          "end_time": "2023-08-11T14:45:26.948598",
          "exception": false,
          "start_time": "2023-08-11T14:45:26.843989",
          "status": "completed"
        },
        "tags": []
      },
      "outputs": [],
      "source": []
    }
  ],
  "metadata": {
    "colab": {
      "provenance": []
    },
    "kernelspec": {
      "display_name": "Python 3",
      "language": "python",
      "name": "python3"
    },
    "language_info": {
      "codemirror_mode": {
        "name": "ipython",
        "version": 3
      },
      "file_extension": ".py",
      "mimetype": "text/x-python",
      "name": "python",
      "nbconvert_exporter": "python",
      "pygments_lexer": "ipython3",
      "version": "3.10.10"
    },
    "papermill": {
      "default_parameters": {},
      "duration": 119.32422,
      "end_time": "2023-08-11T14:45:29.900645",
      "environment_variables": {},
      "exception": null,
      "input_path": "__notebook__.ipynb",
      "output_path": "__notebook__.ipynb",
      "parameters": {},
      "start_time": "2023-08-11T14:43:30.576425",
      "version": "2.4.0"
    }
  },
  "nbformat": 4,
  "nbformat_minor": 5
}
